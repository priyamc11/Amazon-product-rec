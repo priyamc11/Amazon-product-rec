{
  "cells": [
    {
      "cell_type": "markdown",
      "source": [
        "# Amazon Product Recommender System"
      ],
      "metadata": {},
      "id": "9da084a1"
    },
    {
      "cell_type": "markdown",
      "source": [
        "## Objective Of This Project"
      ],
      "metadata": {},
      "id": "aca2b27f"
    },
    {
      "cell_type": "markdown",
      "source": [
        "The aim of this project is to build a model with simple User Interface that recommends products to users based on user based collaborative filtering system. The model is integrated with a web application. Based on the user ID, the app recommends the n top products based on the category chosen."
      ],
      "metadata": {},
      "id": "586d297d"
    },
    {
      "cell_type": "markdown",
      "source": [
        "## Sub Objectives/ ML Techniques"
      ],
      "metadata": {},
      "id": "40476f2b"
    },
    {
      "cell_type": "markdown",
      "source": [
        "1. Collaborative filtering for user based similarity detection and recommendation of top n products based on it. \n",
        "\n",
        "2. Popularity based recommendation for new users "
      ],
      "metadata": {},
      "id": "5dd8b10c"
    },
    {
      "cell_type": "markdown",
      "source": [
        "## User Flow"
      ],
      "metadata": {},
      "id": "75315035"
    },
    {
      "cell_type": "markdown",
      "source": [
        "### Home Page:\n",
        "\n",
        "The homepage displays a prompt to input the User ID.\n",
        "\n",
        "Based on the user id entered: The model is capable of dealing with frequent users and the cold start problem.\n",
        "\n",
        "### Frequent users:\n",
        "\n",
        "If the user id entered exists in database, then based on the category chosen, the top n products in that category are listed out. \n",
        "\n",
        "These n products are chosen after collaborative filtering is performed on the ratings givenn by these users for the items that they had purchsed previously.\n",
        "\n",
        "### Cold Start Problem:\n",
        "\n",
        "In case the user id entered does not previously exist in the database i.e., the user is a new user, we are faced with the challenge of having no previous records or footprints from the user. \n",
        "\n",
        "In such a case, based on the category chosen by the user, we display the top- n popular products in the category by popularity based recommendation.\n",
        "\n",
        "This list of popular products comprises of the products which have the highest positive rating( as given by other users)."
      ],
      "metadata": {},
      "id": "d9c0636b"
    },
    {
      "cell_type": "markdown",
      "source": [
        "## Data Sources And Categories Chosen"
      ],
      "metadata": {},
      "id": "68650e23"
    },
    {
      "cell_type": "markdown",
      "source": [
        "The data has been procured from http://snap.stanford.edu/data/web-Amazon-links.html\n",
        "\n",
        "### Categories Chosen Are:\n",
        "\n",
        "1. Musical Instruments\n",
        "\n",
        "2. Patio,Lawn and Garden\n",
        "\n",
        "3. Baby\n",
        "\n",
        "4. Digital Music\n",
        "\n",
        "5. Amazon Instant Video"
      ],
      "metadata": {},
      "id": "a93bea96"
    },
    {
      "cell_type": "markdown",
      "source": [
        "## Metadata"
      ],
      "metadata": {},
      "id": "8f1a632f"
    },
    {
      "cell_type": "markdown",
      "source": [
        "Each of the above 5 categories data has been loaded into pandas dataframes from csv format. It has 4 columns as listed below:\n",
        "\n",
        "User_ID: String Type data- Amazon's unique user id for customer identification\n",
        "\n",
        "Item_ID: Numeric Type data- Amazon's unique product identification code for each product \n",
        "\n",
        "Rating: Categorical Type Data- Ranging from 1 to 5 based on customer satisfaction\n",
        "\n",
        "Timestamp: Numeric Type data(redundant column , not used for analysis)(redundant column, not used for analysis)- time when the prouct was purchased\n"
      ],
      "metadata": {},
      "id": "8ba4d1ad"
    },
    {
      "cell_type": "markdown",
      "source": [
        "## Tech Stacks"
      ],
      "metadata": {},
      "id": "50d5921c"
    },
    {
      "cell_type": "markdown",
      "source": [
        "The tech stacks(libraries) that I aim to utilize to build this project are: \n",
        "\n",
        "1. Pandas\n",
        "\n",
        "2. Seaborn\n",
        "\n",
        "3. Numpy\n",
        "\n",
        "4. Matplotlib \n",
        "\n",
        "5. Sklearn\n",
        "\n",
        "6. Scipy\n",
        "\n",
        "7. Surprise library for collaborative filtering \n",
        "\n",
        "8. Fast API for deployment of model\n",
        "\n",
        "9. Flutter for client side rendering "
      ],
      "metadata": {},
      "id": "80848798"
    },
    {
      "cell_type": "markdown",
      "source": [
        "## Importing Libraries"
      ],
      "metadata": {},
      "id": "eb40db0e"
    },
    {
      "cell_type": "code",
      "source": [
        "import pandas as pd\n",
        "import seaborn as sns \n",
        "import numpy as np\n",
        "import matplotlib.pyplot as plt"
      ],
      "outputs": [],
      "execution_count": 1,
      "metadata": {},
      "id": "58538077"
    },
    {
      "cell_type": "markdown",
      "source": [
        "## Creation of Dataframes"
      ],
      "metadata": {},
      "id": "a2081135"
    },
    {
      "cell_type": "code",
      "source": [
        "df_1= pd.read_csv('ratings_Amazon_Instant_Video.csv')\n",
        "df_1.columns=['User_ID','Item_ID','Rating','Timestamp']"
      ],
      "outputs": [],
      "execution_count": 2,
      "metadata": {},
      "id": "e9861764"
    },
    {
      "cell_type": "code",
      "source": [
        "df_1.head()"
      ],
      "outputs": [
        {
          "output_type": "execute_result",
          "execution_count": 3,
          "data": {
            "text/html": "<div>\n<style scoped>\n    .dataframe tbody tr th:only-of-type {\n        vertical-align: middle;\n    }\n\n    .dataframe tbody tr th {\n        vertical-align: top;\n    }\n\n    .dataframe thead th {\n        text-align: right;\n    }\n</style>\n<table border=\"1\" class=\"dataframe\">\n  <thead>\n    <tr style=\"text-align: right;\">\n      <th></th>\n      <th>User_ID</th>\n      <th>Item_ID</th>\n      <th>Rating</th>\n      <th>Timestamp</th>\n    </tr>\n  </thead>\n  <tbody>\n    <tr>\n      <th>0</th>\n      <td>AGZ8SM1BGK3CK</td>\n      <td>B000GFDAUG</td>\n      <td>5.0</td>\n      <td>1198195200</td>\n    </tr>\n    <tr>\n      <th>1</th>\n      <td>A2VHZ21245KBT7</td>\n      <td>B000GIOPK2</td>\n      <td>4.0</td>\n      <td>1215388800</td>\n    </tr>\n    <tr>\n      <th>2</th>\n      <td>ACX8YW2D5EGP6</td>\n      <td>B000GIOPK2</td>\n      <td>4.0</td>\n      <td>1185840000</td>\n    </tr>\n    <tr>\n      <th>3</th>\n      <td>A9RNMO9MUSMTJ</td>\n      <td>B000GIOPK2</td>\n      <td>2.0</td>\n      <td>1281052800</td>\n    </tr>\n    <tr>\n      <th>4</th>\n      <td>A3STFVPM8NHJ7B</td>\n      <td>B000GIOPK2</td>\n      <td>5.0</td>\n      <td>1203897600</td>\n    </tr>\n  </tbody>\n</table>\n</div>",
            "text/plain": "          User_ID     Item_ID  Rating   Timestamp\n0   AGZ8SM1BGK3CK  B000GFDAUG     5.0  1198195200\n1  A2VHZ21245KBT7  B000GIOPK2     4.0  1215388800\n2   ACX8YW2D5EGP6  B000GIOPK2     4.0  1185840000\n3   A9RNMO9MUSMTJ  B000GIOPK2     2.0  1281052800\n4  A3STFVPM8NHJ7B  B000GIOPK2     5.0  1203897600"
          },
          "metadata": {}
        }
      ],
      "execution_count": 3,
      "metadata": {},
      "id": "be88b6ba"
    },
    {
      "cell_type": "code",
      "source": [
        "df_2=pd.read_csv('ratings_Digital_Music.csv')\n",
        "df_2.columns=['User_ID','Item_ID','Rating','Timestamp']"
      ],
      "outputs": [],
      "execution_count": 4,
      "metadata": {},
      "id": "a30b9d38"
    },
    {
      "cell_type": "code",
      "source": [
        "df_2.head()"
      ],
      "outputs": [
        {
          "output_type": "execute_result",
          "execution_count": 5,
          "data": {
            "text/html": "<div>\n<style scoped>\n    .dataframe tbody tr th:only-of-type {\n        vertical-align: middle;\n    }\n\n    .dataframe tbody tr th {\n        vertical-align: top;\n    }\n\n    .dataframe thead th {\n        text-align: right;\n    }\n</style>\n<table border=\"1\" class=\"dataframe\">\n  <thead>\n    <tr style=\"text-align: right;\">\n      <th></th>\n      <th>User_ID</th>\n      <th>Item_ID</th>\n      <th>Rating</th>\n      <th>Timestamp</th>\n    </tr>\n  </thead>\n  <tbody>\n    <tr>\n      <th>0</th>\n      <td>A1WR23ER5HMAA9</td>\n      <td>5555991584</td>\n      <td>5.0</td>\n      <td>953424000</td>\n    </tr>\n    <tr>\n      <th>1</th>\n      <td>A2IR4Q0GPAFJKW</td>\n      <td>5555991584</td>\n      <td>4.0</td>\n      <td>1393545600</td>\n    </tr>\n    <tr>\n      <th>2</th>\n      <td>A2V0KUVAB9HSYO</td>\n      <td>5555991584</td>\n      <td>4.0</td>\n      <td>966124800</td>\n    </tr>\n    <tr>\n      <th>3</th>\n      <td>A1J0GL9HCA7ELW</td>\n      <td>5555991584</td>\n      <td>5.0</td>\n      <td>1007683200</td>\n    </tr>\n    <tr>\n      <th>4</th>\n      <td>A3EBHHCZO6V2A4</td>\n      <td>5555991584</td>\n      <td>5.0</td>\n      <td>1158019200</td>\n    </tr>\n  </tbody>\n</table>\n</div>",
            "text/plain": "          User_ID     Item_ID  Rating   Timestamp\n0  A1WR23ER5HMAA9  5555991584     5.0   953424000\n1  A2IR4Q0GPAFJKW  5555991584     4.0  1393545600\n2  A2V0KUVAB9HSYO  5555991584     4.0   966124800\n3  A1J0GL9HCA7ELW  5555991584     5.0  1007683200\n4  A3EBHHCZO6V2A4  5555991584     5.0  1158019200"
          },
          "metadata": {}
        }
      ],
      "execution_count": 5,
      "metadata": {},
      "id": "23421b91"
    },
    {
      "cell_type": "code",
      "source": [
        "df_3=pd.read_csv('ratings_Musical_Instruments.csv')\n",
        "df_3.columns=['User_ID','Item_ID','Rating','Timestamp']"
      ],
      "outputs": [],
      "execution_count": 6,
      "metadata": {},
      "id": "b6d6fa7f"
    },
    {
      "cell_type": "code",
      "source": [
        "df_3.head()"
      ],
      "outputs": [
        {
          "output_type": "execute_result",
          "execution_count": 7,
          "data": {
            "text/html": "<div>\n<style scoped>\n    .dataframe tbody tr th:only-of-type {\n        vertical-align: middle;\n    }\n\n    .dataframe tbody tr th {\n        vertical-align: top;\n    }\n\n    .dataframe thead th {\n        text-align: right;\n    }\n</style>\n<table border=\"1\" class=\"dataframe\">\n  <thead>\n    <tr style=\"text-align: right;\">\n      <th></th>\n      <th>User_ID</th>\n      <th>Item_ID</th>\n      <th>Rating</th>\n      <th>Timestamp</th>\n    </tr>\n  </thead>\n  <tbody>\n    <tr>\n      <th>0</th>\n      <td>A3TS466QBAWB9D</td>\n      <td>0014072149</td>\n      <td>5.0</td>\n      <td>1370476800</td>\n    </tr>\n    <tr>\n      <th>1</th>\n      <td>A3BUDYITWUSIS7</td>\n      <td>0041291905</td>\n      <td>5.0</td>\n      <td>1381708800</td>\n    </tr>\n    <tr>\n      <th>2</th>\n      <td>A19K10Z0D2NTZK</td>\n      <td>0041913574</td>\n      <td>5.0</td>\n      <td>1285200000</td>\n    </tr>\n    <tr>\n      <th>3</th>\n      <td>A14X336IB4JD89</td>\n      <td>0201891859</td>\n      <td>1.0</td>\n      <td>1350432000</td>\n    </tr>\n    <tr>\n      <th>4</th>\n      <td>A2HR0IL3TC4CKL</td>\n      <td>0577088726</td>\n      <td>5.0</td>\n      <td>1371168000</td>\n    </tr>\n  </tbody>\n</table>\n</div>",
            "text/plain": "          User_ID     Item_ID  Rating   Timestamp\n0  A3TS466QBAWB9D  0014072149     5.0  1370476800\n1  A3BUDYITWUSIS7  0041291905     5.0  1381708800\n2  A19K10Z0D2NTZK  0041913574     5.0  1285200000\n3  A14X336IB4JD89  0201891859     1.0  1350432000\n4  A2HR0IL3TC4CKL  0577088726     5.0  1371168000"
          },
          "metadata": {}
        }
      ],
      "execution_count": 7,
      "metadata": {},
      "id": "10c9fd8f"
    },
    {
      "cell_type": "code",
      "source": [
        "df_4=pd.read_csv('ratings_Patio_Lawn_and_Garden.csv')\n",
        "df_4.columns=['User_ID','Item_ID','Rating','Timestamp']"
      ],
      "outputs": [],
      "execution_count": 8,
      "metadata": {},
      "id": "2aa87116"
    },
    {
      "cell_type": "code",
      "source": [
        "df_4.head()"
      ],
      "outputs": [
        {
          "output_type": "execute_result",
          "execution_count": 9,
          "data": {
            "text/html": "<div>\n<style scoped>\n    .dataframe tbody tr th:only-of-type {\n        vertical-align: middle;\n    }\n\n    .dataframe tbody tr th {\n        vertical-align: top;\n    }\n\n    .dataframe thead th {\n        text-align: right;\n    }\n</style>\n<table border=\"1\" class=\"dataframe\">\n  <thead>\n    <tr style=\"text-align: right;\">\n      <th></th>\n      <th>User_ID</th>\n      <th>Item_ID</th>\n      <th>Rating</th>\n      <th>Timestamp</th>\n    </tr>\n  </thead>\n  <tbody>\n    <tr>\n      <th>0</th>\n      <td>A20DWVV8HML3AW</td>\n      <td>0981850006</td>\n      <td>5.0</td>\n      <td>1371081600</td>\n    </tr>\n    <tr>\n      <th>1</th>\n      <td>A3RVP3YBYYOPRH</td>\n      <td>0981850006</td>\n      <td>5.0</td>\n      <td>1257984000</td>\n    </tr>\n    <tr>\n      <th>2</th>\n      <td>A28XY55TP3Q90O</td>\n      <td>0981850006</td>\n      <td>5.0</td>\n      <td>1314144000</td>\n    </tr>\n    <tr>\n      <th>3</th>\n      <td>A3VZW1BGUQO0V3</td>\n      <td>0981850006</td>\n      <td>5.0</td>\n      <td>1308268800</td>\n    </tr>\n    <tr>\n      <th>4</th>\n      <td>A2R9T5D7UVQZB0</td>\n      <td>0981850006</td>\n      <td>5.0</td>\n      <td>1253577600</td>\n    </tr>\n  </tbody>\n</table>\n</div>",
            "text/plain": "          User_ID     Item_ID  Rating   Timestamp\n0  A20DWVV8HML3AW  0981850006     5.0  1371081600\n1  A3RVP3YBYYOPRH  0981850006     5.0  1257984000\n2  A28XY55TP3Q90O  0981850006     5.0  1314144000\n3  A3VZW1BGUQO0V3  0981850006     5.0  1308268800\n4  A2R9T5D7UVQZB0  0981850006     5.0  1253577600"
          },
          "metadata": {}
        }
      ],
      "execution_count": 9,
      "metadata": {},
      "id": "fdb443c8"
    },
    {
      "cell_type": "code",
      "source": [
        "df_5=pd.read_csv('ratings_Baby.csv')\n",
        "df_5.columns=['User_ID','Item_ID','Rating','Timestamp']"
      ],
      "outputs": [],
      "execution_count": 10,
      "metadata": {},
      "id": "e24b3ae4"
    },
    {
      "cell_type": "code",
      "source": [
        "df_5.head()"
      ],
      "outputs": [
        {
          "output_type": "execute_result",
          "execution_count": 11,
          "data": {
            "text/html": "<div>\n<style scoped>\n    .dataframe tbody tr th:only-of-type {\n        vertical-align: middle;\n    }\n\n    .dataframe tbody tr th {\n        vertical-align: top;\n    }\n\n    .dataframe thead th {\n        text-align: right;\n    }\n</style>\n<table border=\"1\" class=\"dataframe\">\n  <thead>\n    <tr style=\"text-align: right;\">\n      <th></th>\n      <th>User_ID</th>\n      <th>Item_ID</th>\n      <th>Rating</th>\n      <th>Timestamp</th>\n    </tr>\n  </thead>\n  <tbody>\n    <tr>\n      <th>0</th>\n      <td>AX0M1Z6ZWO52J</td>\n      <td>0188399399</td>\n      <td>5.0</td>\n      <td>1365465600</td>\n    </tr>\n    <tr>\n      <th>1</th>\n      <td>A1KD7N84L7NIUT</td>\n      <td>0188399518</td>\n      <td>4.0</td>\n      <td>1392336000</td>\n    </tr>\n    <tr>\n      <th>2</th>\n      <td>A29CUDEIF4X1UO</td>\n      <td>0188399518</td>\n      <td>3.0</td>\n      <td>1373241600</td>\n    </tr>\n    <tr>\n      <th>3</th>\n      <td>A32592TYN6C9EM</td>\n      <td>0316967297</td>\n      <td>4.0</td>\n      <td>1378425600</td>\n    </tr>\n    <tr>\n      <th>4</th>\n      <td>AA9X14MODL8XJ</td>\n      <td>0316967297</td>\n      <td>5.0</td>\n      <td>1363910400</td>\n    </tr>\n  </tbody>\n</table>\n</div>",
            "text/plain": "          User_ID     Item_ID  Rating   Timestamp\n0   AX0M1Z6ZWO52J  0188399399     5.0  1365465600\n1  A1KD7N84L7NIUT  0188399518     4.0  1392336000\n2  A29CUDEIF4X1UO  0188399518     3.0  1373241600\n3  A32592TYN6C9EM  0316967297     4.0  1378425600\n4   AA9X14MODL8XJ  0316967297     5.0  1363910400"
          },
          "metadata": {}
        }
      ],
      "execution_count": 11,
      "metadata": {},
      "id": "9b6d004d"
    },
    {
      "cell_type": "code",
      "source": [
        "df_1.shape"
      ],
      "outputs": [
        {
          "output_type": "execute_result",
          "execution_count": 12,
          "data": {
            "text/plain": "(583932, 4)"
          },
          "metadata": {}
        }
      ],
      "execution_count": 12,
      "metadata": {},
      "id": "a8a6295a"
    },
    {
      "cell_type": "code",
      "source": [
        "df_2.shape"
      ],
      "outputs": [
        {
          "output_type": "execute_result",
          "execution_count": 13,
          "data": {
            "text/plain": "(836005, 4)"
          },
          "metadata": {}
        }
      ],
      "execution_count": 13,
      "metadata": {},
      "id": "7c95942b"
    },
    {
      "cell_type": "code",
      "source": [
        "df_3.shape"
      ],
      "outputs": [
        {
          "output_type": "execute_result",
          "execution_count": 14,
          "data": {
            "text/plain": "(500175, 4)"
          },
          "metadata": {}
        }
      ],
      "execution_count": 14,
      "metadata": {},
      "id": "e49deb45"
    },
    {
      "cell_type": "code",
      "source": [
        "df_4.shape"
      ],
      "outputs": [
        {
          "output_type": "execute_result",
          "execution_count": 15,
          "data": {
            "text/plain": "(993489, 4)"
          },
          "metadata": {}
        }
      ],
      "execution_count": 15,
      "metadata": {},
      "id": "d8ad468c"
    },
    {
      "cell_type": "code",
      "source": [
        "df_5.shape"
      ],
      "outputs": [
        {
          "output_type": "execute_result",
          "execution_count": 16,
          "data": {
            "text/plain": "(915445, 4)"
          },
          "metadata": {}
        }
      ],
      "execution_count": 16,
      "metadata": {},
      "id": "316f74ee"
    },
    {
      "cell_type": "code",
      "source": [
        "df_1.dtypes\n"
      ],
      "outputs": [
        {
          "output_type": "execute_result",
          "execution_count": 17,
          "data": {
            "text/plain": "User_ID       object\nItem_ID       object\nRating       float64\nTimestamp      int64\ndtype: object"
          },
          "metadata": {}
        }
      ],
      "execution_count": 17,
      "metadata": {},
      "id": "1d866511"
    },
    {
      "cell_type": "code",
      "source": [
        "df_2.dtypes"
      ],
      "outputs": [
        {
          "output_type": "execute_result",
          "execution_count": 18,
          "data": {
            "text/plain": "User_ID       object\nItem_ID       object\nRating       float64\nTimestamp      int64\ndtype: object"
          },
          "metadata": {}
        }
      ],
      "execution_count": 18,
      "metadata": {},
      "id": "1affa07b"
    },
    {
      "cell_type": "code",
      "source": [
        "df_3.dtypes"
      ],
      "outputs": [
        {
          "output_type": "execute_result",
          "execution_count": 19,
          "data": {
            "text/plain": "User_ID       object\nItem_ID       object\nRating       float64\nTimestamp      int64\ndtype: object"
          },
          "metadata": {}
        }
      ],
      "execution_count": 19,
      "metadata": {},
      "id": "5e10137b"
    },
    {
      "cell_type": "code",
      "source": [
        "df_4.dtypes"
      ],
      "outputs": [
        {
          "output_type": "execute_result",
          "execution_count": 20,
          "data": {
            "text/plain": "User_ID       object\nItem_ID       object\nRating       float64\nTimestamp      int64\ndtype: object"
          },
          "metadata": {}
        }
      ],
      "execution_count": 20,
      "metadata": {},
      "id": "3fbee8ac"
    },
    {
      "cell_type": "code",
      "source": [
        "df_5.dtypes"
      ],
      "outputs": [
        {
          "output_type": "execute_result",
          "execution_count": 21,
          "data": {
            "text/plain": "User_ID       object\nItem_ID       object\nRating       float64\nTimestamp      int64\ndtype: object"
          },
          "metadata": {}
        }
      ],
      "execution_count": 21,
      "metadata": {},
      "id": "e750e83e"
    },
    {
      "cell_type": "code",
      "source": [
        "df_1.info()"
      ],
      "outputs": [
        {
          "output_type": "stream",
          "name": "stdout",
          "text": "<class 'pandas.core.frame.DataFrame'>\nRangeIndex: 583932 entries, 0 to 583931\nData columns (total 4 columns):\n #   Column     Non-Null Count   Dtype  \n---  ------     --------------   -----  \n 0   User_ID    583932 non-null  object \n 1   Item_ID    583932 non-null  object \n 2   Rating     583932 non-null  float64\n 3   Timestamp  583932 non-null  int64  \ndtypes: float64(1), int64(1), object(2)\nmemory usage: 17.8+ MB\n"
        }
      ],
      "execution_count": 22,
      "metadata": {},
      "id": "a3759d3c"
    },
    {
      "cell_type": "code",
      "source": [
        "df_2.info()"
      ],
      "outputs": [
        {
          "output_type": "stream",
          "name": "stdout",
          "text": "<class 'pandas.core.frame.DataFrame'>\nRangeIndex: 836005 entries, 0 to 836004\nData columns (total 4 columns):\n #   Column     Non-Null Count   Dtype  \n---  ------     --------------   -----  \n 0   User_ID    836005 non-null  object \n 1   Item_ID    836005 non-null  object \n 2   Rating     836005 non-null  float64\n 3   Timestamp  836005 non-null  int64  \ndtypes: float64(1), int64(1), object(2)\nmemory usage: 25.5+ MB\n"
        }
      ],
      "execution_count": 23,
      "metadata": {},
      "id": "59d32721"
    },
    {
      "cell_type": "code",
      "source": [
        "df_3.info()"
      ],
      "outputs": [
        {
          "output_type": "stream",
          "name": "stdout",
          "text": "<class 'pandas.core.frame.DataFrame'>\nRangeIndex: 500175 entries, 0 to 500174\nData columns (total 4 columns):\n #   Column     Non-Null Count   Dtype  \n---  ------     --------------   -----  \n 0   User_ID    500175 non-null  object \n 1   Item_ID    500175 non-null  object \n 2   Rating     500175 non-null  float64\n 3   Timestamp  500175 non-null  int64  \ndtypes: float64(1), int64(1), object(2)\nmemory usage: 15.3+ MB\n"
        }
      ],
      "execution_count": 24,
      "metadata": {},
      "id": "a6c6d362"
    },
    {
      "cell_type": "code",
      "source": [
        "df_4.info()"
      ],
      "outputs": [
        {
          "output_type": "stream",
          "name": "stdout",
          "text": "<class 'pandas.core.frame.DataFrame'>\nRangeIndex: 993489 entries, 0 to 993488\nData columns (total 4 columns):\n #   Column     Non-Null Count   Dtype  \n---  ------     --------------   -----  \n 0   User_ID    993489 non-null  object \n 1   Item_ID    993489 non-null  object \n 2   Rating     993489 non-null  float64\n 3   Timestamp  993489 non-null  int64  \ndtypes: float64(1), int64(1), object(2)\nmemory usage: 30.3+ MB\n"
        }
      ],
      "execution_count": 25,
      "metadata": {},
      "id": "67cc7a30"
    },
    {
      "cell_type": "code",
      "source": [
        "df_5.info()"
      ],
      "outputs": [
        {
          "output_type": "stream",
          "name": "stdout",
          "text": "<class 'pandas.core.frame.DataFrame'>\nRangeIndex: 915445 entries, 0 to 915444\nData columns (total 4 columns):\n #   Column     Non-Null Count   Dtype  \n---  ------     --------------   -----  \n 0   User_ID    915445 non-null  object \n 1   Item_ID    915445 non-null  object \n 2   Rating     915445 non-null  float64\n 3   Timestamp  915445 non-null  int64  \ndtypes: float64(1), int64(1), object(2)\nmemory usage: 27.9+ MB\n"
        }
      ],
      "execution_count": 26,
      "metadata": {},
      "id": "3f67d13d"
    },
    {
      "cell_type": "markdown",
      "source": [
        "## 5 Point Summary "
      ],
      "metadata": {},
      "id": "d3d7c7cd"
    },
    {
      "cell_type": "code",
      "source": [
        "df_1.describe()['Rating'].T"
      ],
      "outputs": [
        {
          "output_type": "execute_result",
          "execution_count": 27,
          "data": {
            "text/plain": "count    583932.000000\nmean          4.316184\nstd           1.163707\nmin           1.000000\n25%           4.000000\n50%           5.000000\n75%           5.000000\nmax           5.000000\nName: Rating, dtype: float64"
          },
          "metadata": {}
        }
      ],
      "execution_count": 27,
      "metadata": {},
      "id": "4326be9f"
    },
    {
      "cell_type": "code",
      "source": [
        "df_2.describe()['Rating'].T"
      ],
      "outputs": [
        {
          "output_type": "execute_result",
          "execution_count": 28,
          "data": {
            "text/plain": "count    836005.000000\nmean          4.540249\nstd           0.958878\nmin           1.000000\n25%           4.000000\n50%           5.000000\n75%           5.000000\nmax           5.000000\nName: Rating, dtype: float64"
          },
          "metadata": {}
        }
      ],
      "execution_count": 28,
      "metadata": {},
      "id": "5961b535"
    },
    {
      "cell_type": "code",
      "source": [
        "df_3.describe()['Rating'].T"
      ],
      "outputs": [
        {
          "output_type": "execute_result",
          "execution_count": 29,
          "data": {
            "text/plain": "count    500175.000000\nmean          4.244352\nstd           1.203374\nmin           1.000000\n25%           4.000000\n50%           5.000000\n75%           5.000000\nmax           5.000000\nName: Rating, dtype: float64"
          },
          "metadata": {}
        }
      ],
      "execution_count": 29,
      "metadata": {},
      "id": "bf13374a"
    },
    {
      "cell_type": "code",
      "source": [
        "df_4.describe()['Rating'].T"
      ],
      "outputs": [
        {
          "output_type": "execute_result",
          "execution_count": 30,
          "data": {
            "text/plain": "count    993489.000000\nmean          4.006400\nstd           1.400496\nmin           1.000000\n25%           3.000000\n50%           5.000000\n75%           5.000000\nmax           5.000000\nName: Rating, dtype: float64"
          },
          "metadata": {}
        }
      ],
      "execution_count": 30,
      "metadata": {},
      "id": "3c4c04ff"
    },
    {
      "cell_type": "code",
      "source": [
        "df_5.describe()['Rating'].T"
      ],
      "outputs": [
        {
          "output_type": "execute_result",
          "execution_count": 31,
          "data": {
            "text/plain": "count    915445.000000\nmean          4.117694\nstd           1.289458\nmin           1.000000\n25%           4.000000\n50%           5.000000\n75%           5.000000\nmax           5.000000\nName: Rating, dtype: float64"
          },
          "metadata": {}
        }
      ],
      "execution_count": 31,
      "metadata": {},
      "id": "86896949"
    },
    {
      "cell_type": "markdown",
      "source": [
        "## Missing value analysis"
      ],
      "metadata": {},
      "id": "da3e3295"
    },
    {
      "cell_type": "code",
      "source": [
        "print('Number of missing values across columns in Digital Music: \\n',df_1.isnull().sum())"
      ],
      "outputs": [
        {
          "output_type": "stream",
          "name": "stdout",
          "text": "Number of missing values across columns in Digital Music: \n User_ID      0\nItem_ID      0\nRating       0\nTimestamp    0\ndtype: int64\n"
        }
      ],
      "execution_count": 32,
      "metadata": {},
      "id": "03e78a3f"
    },
    {
      "cell_type": "code",
      "source": [
        "print('Number of missing values across columns in Digital Music: \\n',df_2.isnull().sum())"
      ],
      "outputs": [
        {
          "output_type": "stream",
          "name": "stdout",
          "text": "Number of missing values across columns in Digital Music: \n User_ID      0\nItem_ID      0\nRating       0\nTimestamp    0\ndtype: int64\n"
        }
      ],
      "execution_count": 33,
      "metadata": {},
      "id": "1bf44a63"
    },
    {
      "cell_type": "code",
      "source": [
        "print('Number of missing values across columns in Musical Instruments: \\n',df_3.isnull().sum())"
      ],
      "outputs": [
        {
          "output_type": "stream",
          "name": "stdout",
          "text": "Number of missing values across columns in Musical Instruments: \n User_ID      0\nItem_ID      0\nRating       0\nTimestamp    0\ndtype: int64\n"
        }
      ],
      "execution_count": 34,
      "metadata": {},
      "id": "ed5b9f20"
    },
    {
      "cell_type": "code",
      "source": [
        "print('Number of missing values across columns in Patio,Lawn and garden: \\n',df_4.isnull().sum())"
      ],
      "outputs": [
        {
          "output_type": "stream",
          "name": "stdout",
          "text": "Number of missing values across columns in Patio,Lawn and garden: \n User_ID      0\nItem_ID      0\nRating       0\nTimestamp    0\ndtype: int64\n"
        }
      ],
      "execution_count": 35,
      "metadata": {},
      "id": "86712c4d"
    },
    {
      "cell_type": "code",
      "source": [
        "print('Number of missing values across columns in Baby: \\n',df_5.isnull().sum())"
      ],
      "outputs": [
        {
          "output_type": "stream",
          "name": "stdout",
          "text": "Number of missing values across columns in Baby: \n User_ID      0\nItem_ID      0\nRating       0\nTimestamp    0\ndtype: int64\n"
        }
      ],
      "execution_count": 36,
      "metadata": {},
      "id": "74d6ffdd"
    },
    {
      "cell_type": "markdown",
      "source": [
        "## Dropping the timestamp column"
      ],
      "metadata": {},
      "id": "42171b4a"
    },
    {
      "cell_type": "code",
      "source": [
        "df_1.drop(['Timestamp'], axis=1,inplace=True)"
      ],
      "outputs": [],
      "execution_count": 37,
      "metadata": {},
      "id": "0f0b9117"
    },
    {
      "cell_type": "code",
      "source": [
        "df_2.drop(['Timestamp'], axis=1,inplace=True)"
      ],
      "outputs": [],
      "execution_count": 38,
      "metadata": {},
      "id": "cb899bfe"
    },
    {
      "cell_type": "code",
      "source": [
        "df_3.drop(['Timestamp'], axis=1,inplace=True)"
      ],
      "outputs": [],
      "execution_count": 39,
      "metadata": {},
      "id": "a139ada8"
    },
    {
      "cell_type": "code",
      "source": [
        "df_4.drop(['Timestamp'], axis=1,inplace=True)"
      ],
      "outputs": [],
      "execution_count": 40,
      "metadata": {},
      "id": "3e2bf8de"
    },
    {
      "cell_type": "code",
      "source": [
        "df_5.drop(['Timestamp'], axis=1,inplace=True)"
      ],
      "outputs": [],
      "execution_count": 41,
      "metadata": {},
      "id": "d47dfc5d"
    },
    {
      "cell_type": "markdown",
      "source": [
        "## Visualisation of Rating"
      ],
      "metadata": {},
      "id": "7251293d"
    },
    {
      "cell_type": "code",
      "source": [
        "with sns.axes_style('white'):\n",
        "    g = sns.factorplot(\"Rating\", data=df_1, aspect=2.0,kind='count')\n",
        "    g.set_ylabels(\"Total number of ratings\")"
      ],
      "outputs": [
        {
          "output_type": "stream",
          "name": "stderr",
          "text": "C:\\Users\\priya\\anaconda3\\lib\\site-packages\\seaborn\\categorical.py:3714: UserWarning: The `factorplot` function has been renamed to `catplot`. The original name will be removed in a future release. Please update your code. Note that the default `kind` in `factorplot` (`'point'`) has changed `'strip'` in `catplot`.\n  warnings.warn(msg)\nC:\\Users\\priya\\anaconda3\\lib\\site-packages\\seaborn\\_decorators.py:36: FutureWarning: Pass the following variable as a keyword arg: x. From version 0.12, the only valid positional argument will be `data`, and passing other arguments without an explicit keyword will result in an error or misinterpretation.\n  warnings.warn(\n"
        },
        {
          "output_type": "display_data",
          "data": {
            "image/png": "[encoded data removed]",
            "text/plain": "<Figure size 720x360 with 1 Axes>"
          },
          "metadata": {}
        }
      ],
      "execution_count": 42,
      "metadata": {},
      "id": "bc708908"
    },
    {
      "cell_type": "code",
      "source": [
        "with sns.axes_style('white'):\n",
        "    g = sns.factorplot(\"Rating\", data=df_2, aspect=2.0,kind='count')\n",
        "    g.set_ylabels(\"Total number of ratings\")"
      ],
      "outputs": [
        {
          "output_type": "stream",
          "name": "stderr",
          "text": "C:\\Users\\priya\\anaconda3\\lib\\site-packages\\seaborn\\categorical.py:3714: UserWarning: The `factorplot` function has been renamed to `catplot`. The original name will be removed in a future release. Please update your code. Note that the default `kind` in `factorplot` (`'point'`) has changed `'strip'` in `catplot`.\n  warnings.warn(msg)\nC:\\Users\\priya\\anaconda3\\lib\\site-packages\\seaborn\\_decorators.py:36: FutureWarning: Pass the following variable as a keyword arg: x. From version 0.12, the only valid positional argument will be `data`, and passing other arguments without an explicit keyword will result in an error or misinterpretation.\n  warnings.warn(\n"
        },
        {
          "output_type": "display_data",
          "data": {
            "image/png": "[encoded data removed]",
            "text/plain": "<Figure size 720x360 with 1 Axes>"
          },
          "metadata": {}
        }
      ],
      "execution_count": 43,
      "metadata": {},
      "id": "833b7fbe"
    },
    {
      "cell_type": "code",
      "source": [
        "with sns.axes_style('white'):\n",
        "    g = sns.factorplot(\"Rating\", data=df_3, aspect=2.0,kind='count')\n",
        "    g.set_ylabels(\"Total number of ratings\")"
      ],
      "outputs": [
        {
          "output_type": "stream",
          "name": "stderr",
          "text": "C:\\Users\\priya\\anaconda3\\lib\\site-packages\\seaborn\\categorical.py:3714: UserWarning: The `factorplot` function has been renamed to `catplot`. The original name will be removed in a future release. Please update your code. Note that the default `kind` in `factorplot` (`'point'`) has changed `'strip'` in `catplot`.\n  warnings.warn(msg)\nC:\\Users\\priya\\anaconda3\\lib\\site-packages\\seaborn\\_decorators.py:36: FutureWarning: Pass the following variable as a keyword arg: x. From version 0.12, the only valid positional argument will be `data`, and passing other arguments without an explicit keyword will result in an error or misinterpretation.\n  warnings.warn(\n"
        },
        {
          "output_type": "display_data",
          "data": {
            "image/png": "[encoded data removed]",
            "text/plain": "<Figure size 720x360 with 1 Axes>"
          },
          "metadata": {}
        }
      ],
      "execution_count": 44,
      "metadata": {},
      "id": "65572095"
    },
    {
      "cell_type": "code",
      "source": [
        "with sns.axes_style('white'):\n",
        "    g = sns.factorplot(\"Rating\", data=df_4, aspect=2.0,kind='count')\n",
        "    g.set_ylabels(\"Total number of ratings\")"
      ],
      "outputs": [
        {
          "output_type": "stream",
          "name": "stderr",
          "text": "C:\\Users\\priya\\anaconda3\\lib\\site-packages\\seaborn\\categorical.py:3714: UserWarning: The `factorplot` function has been renamed to `catplot`. The original name will be removed in a future release. Please update your code. Note that the default `kind` in `factorplot` (`'point'`) has changed `'strip'` in `catplot`.\n  warnings.warn(msg)\nC:\\Users\\priya\\anaconda3\\lib\\site-packages\\seaborn\\_decorators.py:36: FutureWarning: Pass the following variable as a keyword arg: x. From version 0.12, the only valid positional argument will be `data`, and passing other arguments without an explicit keyword will result in an error or misinterpretation.\n  warnings.warn(\n"
        },
        {
          "output_type": "display_data",
          "data": {
            "image/png": "[encoded data removed]",
            "text/plain": "<Figure size 720x360 with 1 Axes>"
          },
          "metadata": {}
        }
      ],
      "execution_count": 45,
      "metadata": {},
      "id": "d45a89b5"
    },
    {
      "cell_type": "code",
      "source": [
        "with sns.axes_style('white'):\n",
        "    g = sns.factorplot(\"Rating\", data=df_5, aspect=2.0,kind='count')\n",
        "    g.set_ylabels(\"Total number of ratings\")"
      ],
      "outputs": [
        {
          "output_type": "stream",
          "name": "stderr",
          "text": "C:\\Users\\priya\\anaconda3\\lib\\site-packages\\seaborn\\categorical.py:3714: UserWarning: The `factorplot` function has been renamed to `catplot`. The original name will be removed in a future release. Please update your code. Note that the default `kind` in `factorplot` (`'point'`) has changed `'strip'` in `catplot`.\n  warnings.warn(msg)\nC:\\Users\\priya\\anaconda3\\lib\\site-packages\\seaborn\\_decorators.py:36: FutureWarning: Pass the following variable as a keyword arg: x. From version 0.12, the only valid positional argument will be `data`, and passing other arguments without an explicit keyword will result in an error or misinterpretation.\n  warnings.warn(\n"
        },
        {
          "output_type": "display_data",
          "data": {
            "image/png": "[encoded data removed]",
            "text/plain": "<Figure size 720x360 with 1 Axes>"
          },
          "metadata": {}
        }
      ],
      "execution_count": 46,
      "metadata": {},
      "id": "2a00d6f6"
    },
    {
      "cell_type": "markdown",
      "source": [
        "## Checking for duplicate values"
      ],
      "metadata": {},
      "id": "4c83ff3d"
    },
    {
      "cell_type": "code",
      "source": [
        "df_1.duplicated(subset=None, keep='first').sum()"
      ],
      "outputs": [
        {
          "output_type": "execute_result",
          "execution_count": 47,
          "data": {
            "text/plain": "0"
          },
          "metadata": {}
        }
      ],
      "execution_count": 47,
      "metadata": {},
      "id": "54df5a22"
    },
    {
      "cell_type": "code",
      "source": [
        "df_2.duplicated(subset=None, keep='first').sum()"
      ],
      "outputs": [
        {
          "output_type": "execute_result",
          "execution_count": 48,
          "data": {
            "text/plain": "0"
          },
          "metadata": {}
        }
      ],
      "execution_count": 48,
      "metadata": {},
      "id": "5480992d"
    },
    {
      "cell_type": "code",
      "source": [
        "df_3.duplicated(subset=None, keep='first').sum()"
      ],
      "outputs": [
        {
          "output_type": "execute_result",
          "execution_count": 49,
          "data": {
            "text/plain": "0"
          },
          "metadata": {}
        }
      ],
      "execution_count": 49,
      "metadata": {},
      "id": "36076269"
    },
    {
      "cell_type": "code",
      "source": [
        "df_4.duplicated(subset=None, keep='first').sum()"
      ],
      "outputs": [
        {
          "output_type": "execute_result",
          "execution_count": 50,
          "data": {
            "text/plain": "0"
          },
          "metadata": {}
        }
      ],
      "execution_count": 50,
      "metadata": {},
      "id": "b3937ba1"
    },
    {
      "cell_type": "code",
      "source": [
        "df_5.duplicated(subset=None, keep='first').sum()"
      ],
      "outputs": [
        {
          "output_type": "execute_result",
          "execution_count": 51,
          "data": {
            "text/plain": "0"
          },
          "metadata": {}
        }
      ],
      "execution_count": 51,
      "metadata": {},
      "id": "2669f397"
    },
    {
      "cell_type": "markdown",
      "source": [
        "## Unique Users and Products"
      ],
      "metadata": {},
      "id": "bae7cb17"
    },
    {
      "cell_type": "code",
      "source": [
        "print(\"Total data \")\n",
        "\n",
        "print(\"\\nTotal no of ratings :\",df_1.shape[0])\n",
        "print(\"Total No of Users   :\", len(np.unique(df_1.User_ID)))\n",
        "print(\"Total No of products  :\", len(np.unique(df_1.Item_ID)))"
      ],
      "outputs": [
        {
          "output_type": "stream",
          "name": "stdout",
          "text": "Total data \n\nTotal no of ratings : 583932\nTotal No of Users   : 426921\nTotal No of products  : 23965\n"
        }
      ],
      "execution_count": 52,
      "metadata": {},
      "id": "4da31399"
    },
    {
      "cell_type": "code",
      "source": [
        "print(\"Total data \")\n",
        "\n",
        "print(\"\\nTotal no of ratings :\",df_2.shape[0])\n",
        "print(\"Total No of Users   :\", len(np.unique(df_2.User_ID)))\n",
        "print(\"Total No of products  :\", len(np.unique(df_2.Item_ID)))"
      ],
      "outputs": [
        {
          "output_type": "stream",
          "name": "stdout",
          "text": "Total data \n\nTotal no of ratings : 836005\nTotal No of Users   : 478235\nTotal No of products  : 266414\n"
        }
      ],
      "execution_count": 53,
      "metadata": {},
      "id": "369e6c7c"
    },
    {
      "cell_type": "code",
      "source": [
        "print(\"Total data \")\n",
        "\n",
        "print(\"\\nTotal no of ratings :\",df_3.shape[0])\n",
        "print(\"Total No of Users   :\", len(np.unique(df_3.User_ID)))\n",
        "print(\"Total No of products  :\", len(np.unique(df_3.Item_ID)))"
      ],
      "outputs": [
        {
          "output_type": "stream",
          "name": "stdout",
          "text": "Total data \n\nTotal no of ratings : 500175\nTotal No of Users   : 339231\nTotal No of products  : 83045\n"
        }
      ],
      "execution_count": 54,
      "metadata": {},
      "id": "fac6a74b"
    },
    {
      "cell_type": "code",
      "source": [
        "print(\"Total data \")\n",
        "\n",
        "print(\"\\nTotal no of ratings :\",df_4.shape[0])\n",
        "print(\"Total No of Users   :\", len(np.unique(df_4.User_ID)))\n",
        "print(\"Total No of products  :\", len(np.unique(df_4.Item_ID)))"
      ],
      "outputs": [
        {
          "output_type": "stream",
          "name": "stdout",
          "text": "Total data \n\nTotal no of ratings : 993489\nTotal No of Users   : 714790\nTotal No of products  : 105984\n"
        }
      ],
      "execution_count": 55,
      "metadata": {},
      "id": "a5b749be"
    },
    {
      "cell_type": "code",
      "source": [
        "print(\"Total data \")\n",
        "\n",
        "print(\"\\nTotal no of ratings :\",df_5.shape[0])\n",
        "print(\"Total No of Users   :\", len(np.unique(df_5.User_ID)))\n",
        "print(\"Total No of products  :\", len(np.unique(df_5.Item_ID)))"
      ],
      "outputs": [
        {
          "output_type": "stream",
          "name": "stdout",
          "text": "Total data \n\nTotal no of ratings : 915445\nTotal No of Users   : 531890\nTotal No of products  : 64425\n"
        }
      ],
      "execution_count": 56,
      "metadata": {},
      "id": "85432a46"
    },
    {
      "cell_type": "markdown",
      "source": [
        "## Analyzing Ratings"
      ],
      "metadata": {},
      "id": "f2b2ec1d"
    },
    {
      "cell_type": "code",
      "source": [
        "no_of_rated_products_per_user_1 = df_1.groupby(by='User_ID')['Rating'].count().sort_values(ascending=False)\n",
        "\n",
        "no_of_rated_products_per_user_1.head()"
      ],
      "outputs": [
        {
          "output_type": "execute_result",
          "execution_count": 57,
          "data": {
            "text/plain": "User_ID\nA27H9DOUGY9FOS    277\nAV6QDP8Q0ONK4     240\nA3EDIPCXT15C3T    212\nAW3VZ5O895LRK     142\nAIMR915K4YCN      125\nName: Rating, dtype: int64"
          },
          "metadata": {}
        }
      ],
      "execution_count": 57,
      "metadata": {},
      "id": "7401ec72"
    },
    {
      "cell_type": "code",
      "source": [
        "no_of_rated_products_per_user_2 = df_2.groupby(by='User_ID')['Rating'].count().sort_values(ascending=False)\n",
        "\n",
        "no_of_rated_products_per_user_2.head()"
      ],
      "outputs": [
        {
          "output_type": "execute_result",
          "execution_count": 58,
          "data": {
            "text/plain": "User_ID\nA3W4D8XOGLWUN5    1126\nA9Q28YTLYREO7      713\nABDR6IJ93HFIO      489\nA3HU0B9XUEVHIM     471\nA1GN8UJIZLCA59     427\nName: Rating, dtype: int64"
          },
          "metadata": {}
        }
      ],
      "execution_count": 58,
      "metadata": {},
      "id": "e2e1f5ca"
    },
    {
      "cell_type": "code",
      "source": [
        "no_of_rated_products_per_user_3 = df_3.groupby(by='User_ID')['Rating'].count().sort_values(ascending=False)\n",
        "\n",
        "no_of_rated_products_per_user_3.head()"
      ],
      "outputs": [
        {
          "output_type": "execute_result",
          "execution_count": 59,
          "data": {
            "text/plain": "User_ID\nA2PAD826IH1HFE    483\nA2AIMXT9PLAM12    463\nA2NYK9KWFMJV4Y    454\nA33GGROUQRQZS     154\nA2PR6NXG0PA3KY    135\nName: Rating, dtype: int64"
          },
          "metadata": {}
        }
      ],
      "execution_count": 59,
      "metadata": {},
      "id": "b6b5b198"
    },
    {
      "cell_type": "code",
      "source": [
        "no_of_rated_products_per_user_4 = df_4.groupby(by='User_ID')['Rating'].count().sort_values(ascending=False)\n",
        "\n",
        "no_of_rated_products_per_user_4.head()"
      ],
      "outputs": [
        {
          "output_type": "execute_result",
          "execution_count": 60,
          "data": {
            "text/plain": "User_ID\nA100WO06OQR8BQ    161\nA3HPCRD9RX351S    131\nA3OXRFCJI67IMN    120\nA2REQUI85URT87     95\nA25C2M3QF9G7OQ     81\nName: Rating, dtype: int64"
          },
          "metadata": {}
        }
      ],
      "execution_count": 60,
      "metadata": {},
      "id": "74db690d"
    },
    {
      "cell_type": "code",
      "source": [
        "no_of_rated_products_per_user_5 = df_5.groupby(by='User_ID')['Rating'].count().sort_values(ascending=False)\n",
        "\n",
        "no_of_rated_products_per_user_5.head()"
      ],
      "outputs": [
        {
          "output_type": "execute_result",
          "execution_count": 61,
          "data": {
            "text/plain": "User_ID\nARIFCL50JD5SK     155\nAJGU56YG8G1DQ     140\nAF8SREA2XE7BJ     122\nAJC88791BZEW7     105\nA276OI0NHBYORX     95\nName: Rating, dtype: int64"
          },
          "metadata": {}
        }
      ],
      "execution_count": 61,
      "metadata": {},
      "id": "c9872667"
    },
    {
      "cell_type": "code",
      "source": [
        "no_of_rated_products_per_user_1.describe()"
      ],
      "outputs": [
        {
          "output_type": "execute_result",
          "execution_count": 62,
          "data": {
            "text/plain": "count    426921.000000\nmean          1.367775\nstd           1.500765\nmin           1.000000\n25%           1.000000\n50%           1.000000\n75%           1.000000\nmax         277.000000\nName: Rating, dtype: float64"
          },
          "metadata": {}
        }
      ],
      "execution_count": 62,
      "metadata": {},
      "id": "6b07b5a0"
    },
    {
      "cell_type": "code",
      "source": [
        "no_of_rated_products_per_user_2.describe()"
      ],
      "outputs": [
        {
          "output_type": "execute_result",
          "execution_count": 63,
          "data": {
            "text/plain": "count    478235.000000\nmean          1.748105\nstd           4.227086\nmin           1.000000\n25%           1.000000\n50%           1.000000\n75%           2.000000\nmax        1126.000000\nName: Rating, dtype: float64"
          },
          "metadata": {}
        }
      ],
      "execution_count": 63,
      "metadata": {},
      "id": "99489066"
    },
    {
      "cell_type": "code",
      "source": [
        "no_of_rated_products_per_user_3.describe()"
      ],
      "outputs": [
        {
          "output_type": "execute_result",
          "execution_count": 64,
          "data": {
            "text/plain": "count    339231.000000\nmean          1.474438\nstd           2.342603\nmin           1.000000\n25%           1.000000\n50%           1.000000\n75%           1.000000\nmax         483.000000\nName: Rating, dtype: float64"
          },
          "metadata": {}
        }
      ],
      "execution_count": 64,
      "metadata": {},
      "id": "1e73a7a9"
    },
    {
      "cell_type": "code",
      "source": [
        "no_of_rated_products_per_user_4.describe()"
      ],
      "outputs": [
        {
          "output_type": "execute_result",
          "execution_count": 65,
          "data": {
            "text/plain": "count    714790.000000\nmean          1.389903\nstd           1.314259\nmin           1.000000\n25%           1.000000\n50%           1.000000\n75%           1.000000\nmax         161.000000\nName: Rating, dtype: float64"
          },
          "metadata": {}
        }
      ],
      "execution_count": 65,
      "metadata": {},
      "id": "dec4b70b"
    },
    {
      "cell_type": "code",
      "source": [
        "no_of_rated_products_per_user_5.describe()"
      ],
      "outputs": [
        {
          "output_type": "execute_result",
          "execution_count": 66,
          "data": {
            "text/plain": "count    531890.000000\nmean          1.721117\nstd           2.158475\nmin           1.000000\n25%           1.000000\n50%           1.000000\n75%           2.000000\nmax         155.000000\nName: Rating, dtype: float64"
          },
          "metadata": {}
        }
      ],
      "execution_count": 66,
      "metadata": {},
      "id": "ba701721"
    },
    {
      "cell_type": "markdown",
      "source": [
        "## Top 20 users based on count of orders placed"
      ],
      "metadata": {},
      "id": "5c702cd8"
    },
    {
      "cell_type": "code",
      "source": [
        "a = list(df_1['User_ID'].value_counts())\n",
        "b = list(df_1['User_ID'].unique())\n",
        "top_20_Users1 = pd.DataFrame(list(zip(b[0:21],a[0:21])),columns =['User_ID', 'Count'])\n",
        "top_20_Users1"
      ],
      "outputs": [
        {
          "output_type": "execute_result",
          "execution_count": 67,
          "data": {
            "text/html": "<div>\n<style scoped>\n    .dataframe tbody tr th:only-of-type {\n        vertical-align: middle;\n    }\n\n    .dataframe tbody tr th {\n        vertical-align: top;\n    }\n\n    .dataframe thead th {\n        text-align: right;\n    }\n</style>\n<table border=\"1\" class=\"dataframe\">\n  <thead>\n    <tr style=\"text-align: right;\">\n      <th></th>\n      <th>User_ID</th>\n      <th>Count</th>\n    </tr>\n  </thead>\n  <tbody>\n    <tr>\n      <th>0</th>\n      <td>AGZ8SM1BGK3CK</td>\n      <td>277</td>\n    </tr>\n    <tr>\n      <th>1</th>\n      <td>A2VHZ21245KBT7</td>\n      <td>240</td>\n    </tr>\n    <tr>\n      <th>2</th>\n      <td>ACX8YW2D5EGP6</td>\n      <td>212</td>\n    </tr>\n    <tr>\n      <th>3</th>\n      <td>A9RNMO9MUSMTJ</td>\n      <td>142</td>\n    </tr>\n    <tr>\n      <th>4</th>\n      <td>A3STFVPM8NHJ7B</td>\n      <td>125</td>\n    </tr>\n    <tr>\n      <th>5</th>\n      <td>A2582KMXLK2P06</td>\n      <td>99</td>\n    </tr>\n    <tr>\n      <th>6</th>\n      <td>A1TZCLCW9QGGBH</td>\n      <td>93</td>\n    </tr>\n    <tr>\n      <th>7</th>\n      <td>A2E2I6B878CRMA</td>\n      <td>92</td>\n    </tr>\n    <tr>\n      <th>8</th>\n      <td>AD5MZA8SOVMPJ</td>\n      <td>88</td>\n    </tr>\n    <tr>\n      <th>9</th>\n      <td>A3IE1M3QVUKIJN</td>\n      <td>84</td>\n    </tr>\n    <tr>\n      <th>10</th>\n      <td>AZ1MUCW76BDL1</td>\n      <td>81</td>\n    </tr>\n    <tr>\n      <th>11</th>\n      <td>A2XNOB1T796Y6B</td>\n      <td>77</td>\n    </tr>\n    <tr>\n      <th>12</th>\n      <td>A12DO7F3TT123V</td>\n      <td>75</td>\n    </tr>\n    <tr>\n      <th>13</th>\n      <td>A2UN6AL460C8J4</td>\n      <td>72</td>\n    </tr>\n    <tr>\n      <th>14</th>\n      <td>AVYBQU4XX5QR4</td>\n      <td>65</td>\n    </tr>\n    <tr>\n      <th>15</th>\n      <td>AVE3EF44DFS0C</td>\n      <td>64</td>\n    </tr>\n    <tr>\n      <th>16</th>\n      <td>A27AWN5G5GT6RP</td>\n      <td>63</td>\n    </tr>\n    <tr>\n      <th>17</th>\n      <td>A35KJPLBWHF5GJ</td>\n      <td>62</td>\n    </tr>\n    <tr>\n      <th>18</th>\n      <td>ADP0IVFAH8EJF</td>\n      <td>61</td>\n    </tr>\n    <tr>\n      <th>19</th>\n      <td>A2MBHFCT26IYQ6</td>\n      <td>60</td>\n    </tr>\n    <tr>\n      <th>20</th>\n      <td>AONBKXBKBR8BO</td>\n      <td>58</td>\n    </tr>\n  </tbody>\n</table>\n</div>",
            "text/plain": "           User_ID  Count\n0    AGZ8SM1BGK3CK    277\n1   A2VHZ21245KBT7    240\n2    ACX8YW2D5EGP6    212\n3    A9RNMO9MUSMTJ    142\n4   A3STFVPM8NHJ7B    125\n5   A2582KMXLK2P06     99\n6   A1TZCLCW9QGGBH     93\n7   A2E2I6B878CRMA     92\n8    AD5MZA8SOVMPJ     88\n9   A3IE1M3QVUKIJN     84\n10   AZ1MUCW76BDL1     81\n11  A2XNOB1T796Y6B     77\n12  A12DO7F3TT123V     75\n13  A2UN6AL460C8J4     72\n14   AVYBQU4XX5QR4     65\n15   AVE3EF44DFS0C     64\n16  A27AWN5G5GT6RP     63\n17  A35KJPLBWHF5GJ     62\n18   ADP0IVFAH8EJF     61\n19  A2MBHFCT26IYQ6     60\n20   AONBKXBKBR8BO     58"
          },
          "metadata": {}
        }
      ],
      "execution_count": 67,
      "metadata": {},
      "id": "7d808aea"
    },
    {
      "cell_type": "code",
      "source": [
        "a = list(df_2['User_ID'].value_counts())\n",
        "b = list(df_2['User_ID'].unique())\n",
        "top_20_Users2 = pd.DataFrame(list(zip(b[0:21],a[0:21])),columns =['User_ID', 'Count'])\n",
        "top_20_Users2"
      ],
      "outputs": [
        {
          "output_type": "execute_result",
          "execution_count": 68,
          "data": {
            "text/html": "<div>\n<style scoped>\n    .dataframe tbody tr th:only-of-type {\n        vertical-align: middle;\n    }\n\n    .dataframe tbody tr th {\n        vertical-align: top;\n    }\n\n    .dataframe thead th {\n        text-align: right;\n    }\n</style>\n<table border=\"1\" class=\"dataframe\">\n  <thead>\n    <tr style=\"text-align: right;\">\n      <th></th>\n      <th>User_ID</th>\n      <th>Count</th>\n    </tr>\n  </thead>\n  <tbody>\n    <tr>\n      <th>0</th>\n      <td>A1WR23ER5HMAA9</td>\n      <td>1126</td>\n    </tr>\n    <tr>\n      <th>1</th>\n      <td>A2IR4Q0GPAFJKW</td>\n      <td>713</td>\n    </tr>\n    <tr>\n      <th>2</th>\n      <td>A2V0KUVAB9HSYO</td>\n      <td>489</td>\n    </tr>\n    <tr>\n      <th>3</th>\n      <td>A1J0GL9HCA7ELW</td>\n      <td>471</td>\n    </tr>\n    <tr>\n      <th>4</th>\n      <td>A3EBHHCZO6V2A4</td>\n      <td>427</td>\n    </tr>\n    <tr>\n      <th>5</th>\n      <td>A340XJYJDFSMUG</td>\n      <td>409</td>\n    </tr>\n    <tr>\n      <th>6</th>\n      <td>A3Q1J7VFGG80EK</td>\n      <td>347</td>\n    </tr>\n    <tr>\n      <th>7</th>\n      <td>A1REP2FMPOXV4A</td>\n      <td>343</td>\n    </tr>\n    <tr>\n      <th>8</th>\n      <td>A3QEKUPBPQ7A2S</td>\n      <td>339</td>\n    </tr>\n    <tr>\n      <th>9</th>\n      <td>A4BHT5EUI0ZJF</td>\n      <td>318</td>\n    </tr>\n    <tr>\n      <th>10</th>\n      <td>A23MKKC68TTTF6</td>\n      <td>317</td>\n    </tr>\n    <tr>\n      <th>11</th>\n      <td>AZPWAXJG9OJXV</td>\n      <td>305</td>\n    </tr>\n    <tr>\n      <th>12</th>\n      <td>AUR9OG1PGI3Z9</td>\n      <td>280</td>\n    </tr>\n    <tr>\n      <th>13</th>\n      <td>A38IRL0X2T4DPF</td>\n      <td>269</td>\n    </tr>\n    <tr>\n      <th>14</th>\n      <td>A3RK1ZZ6FZWY0Z</td>\n      <td>265</td>\n    </tr>\n    <tr>\n      <th>15</th>\n      <td>A376LDXJFOVU6W</td>\n      <td>257</td>\n    </tr>\n    <tr>\n      <th>16</th>\n      <td>A18MYUZLBRVKI2</td>\n      <td>243</td>\n    </tr>\n    <tr>\n      <th>17</th>\n      <td>A3JFEUDWC9UIZG</td>\n      <td>218</td>\n    </tr>\n    <tr>\n      <th>18</th>\n      <td>A22IK3I6U76GX0</td>\n      <td>210</td>\n    </tr>\n    <tr>\n      <th>19</th>\n      <td>A20HPUA6S4L8UA</td>\n      <td>200</td>\n    </tr>\n    <tr>\n      <th>20</th>\n      <td>A3U7E2BOFLD3VM</td>\n      <td>200</td>\n    </tr>\n  </tbody>\n</table>\n</div>",
            "text/plain": "           User_ID  Count\n0   A1WR23ER5HMAA9   1126\n1   A2IR4Q0GPAFJKW    713\n2   A2V0KUVAB9HSYO    489\n3   A1J0GL9HCA7ELW    471\n4   A3EBHHCZO6V2A4    427\n5   A340XJYJDFSMUG    409\n6   A3Q1J7VFGG80EK    347\n7   A1REP2FMPOXV4A    343\n8   A3QEKUPBPQ7A2S    339\n9    A4BHT5EUI0ZJF    318\n10  A23MKKC68TTTF6    317\n11   AZPWAXJG9OJXV    305\n12   AUR9OG1PGI3Z9    280\n13  A38IRL0X2T4DPF    269\n14  A3RK1ZZ6FZWY0Z    265\n15  A376LDXJFOVU6W    257\n16  A18MYUZLBRVKI2    243\n17  A3JFEUDWC9UIZG    218\n18  A22IK3I6U76GX0    210\n19  A20HPUA6S4L8UA    200\n20  A3U7E2BOFLD3VM    200"
          },
          "metadata": {}
        }
      ],
      "execution_count": 68,
      "metadata": {},
      "id": "e30db3b3"
    },
    {
      "cell_type": "code",
      "source": [
        "a = list(df_3['User_ID'].value_counts())\n",
        "b = list(df_3['User_ID'].unique())\n",
        "top_20_Users3 = pd.DataFrame(list(zip(b[0:21],a[0:21])),columns =['User_ID', 'Count'])\n",
        "top_20_Users3"
      ],
      "outputs": [
        {
          "output_type": "execute_result",
          "execution_count": 69,
          "data": {
            "text/html": "<div>\n<style scoped>\n    .dataframe tbody tr th:only-of-type {\n        vertical-align: middle;\n    }\n\n    .dataframe tbody tr th {\n        vertical-align: top;\n    }\n\n    .dataframe thead th {\n        text-align: right;\n    }\n</style>\n<table border=\"1\" class=\"dataframe\">\n  <thead>\n    <tr style=\"text-align: right;\">\n      <th></th>\n      <th>User_ID</th>\n      <th>Count</th>\n    </tr>\n  </thead>\n  <tbody>\n    <tr>\n      <th>0</th>\n      <td>A3TS466QBAWB9D</td>\n      <td>483</td>\n    </tr>\n    <tr>\n      <th>1</th>\n      <td>A3BUDYITWUSIS7</td>\n      <td>463</td>\n    </tr>\n    <tr>\n      <th>2</th>\n      <td>A19K10Z0D2NTZK</td>\n      <td>454</td>\n    </tr>\n    <tr>\n      <th>3</th>\n      <td>A14X336IB4JD89</td>\n      <td>154</td>\n    </tr>\n    <tr>\n      <th>4</th>\n      <td>A2HR0IL3TC4CKL</td>\n      <td>135</td>\n    </tr>\n    <tr>\n      <th>5</th>\n      <td>A2DHYD72O52WS5</td>\n      <td>126</td>\n    </tr>\n    <tr>\n      <th>6</th>\n      <td>A1MUVHT8BONL5K</td>\n      <td>118</td>\n    </tr>\n    <tr>\n      <th>7</th>\n      <td>A15GZQZWKG6KZM</td>\n      <td>114</td>\n    </tr>\n    <tr>\n      <th>8</th>\n      <td>A16WE7UU0QD33D</td>\n      <td>113</td>\n    </tr>\n    <tr>\n      <th>9</th>\n      <td>AXMWZYP2IROMP</td>\n      <td>110</td>\n    </tr>\n    <tr>\n      <th>10</th>\n      <td>A6DCKXX4659CR</td>\n      <td>110</td>\n    </tr>\n    <tr>\n      <th>11</th>\n      <td>A28YJZCV43ZWQW</td>\n      <td>108</td>\n    </tr>\n    <tr>\n      <th>12</th>\n      <td>A2I4CV4PGZCNAF</td>\n      <td>106</td>\n    </tr>\n    <tr>\n      <th>13</th>\n      <td>A1M7OWNI93N1Y3</td>\n      <td>101</td>\n    </tr>\n    <tr>\n      <th>14</th>\n      <td>A2FEDDUHQAEN97</td>\n      <td>99</td>\n    </tr>\n    <tr>\n      <th>15</th>\n      <td>A338HVUM4AWJY7</td>\n      <td>97</td>\n    </tr>\n    <tr>\n      <th>16</th>\n      <td>AKKQM6B0KI6F4</td>\n      <td>94</td>\n    </tr>\n    <tr>\n      <th>17</th>\n      <td>A1BX81N79C9BVT</td>\n      <td>89</td>\n    </tr>\n    <tr>\n      <th>18</th>\n      <td>A11ER3801T7KRP</td>\n      <td>89</td>\n    </tr>\n    <tr>\n      <th>19</th>\n      <td>A175UOHOVXRYMW</td>\n      <td>86</td>\n    </tr>\n    <tr>\n      <th>20</th>\n      <td>A2P1Z9NUJ9H1RT</td>\n      <td>86</td>\n    </tr>\n  </tbody>\n</table>\n</div>",
            "text/plain": "           User_ID  Count\n0   A3TS466QBAWB9D    483\n1   A3BUDYITWUSIS7    463\n2   A19K10Z0D2NTZK    454\n3   A14X336IB4JD89    154\n4   A2HR0IL3TC4CKL    135\n5   A2DHYD72O52WS5    126\n6   A1MUVHT8BONL5K    118\n7   A15GZQZWKG6KZM    114\n8   A16WE7UU0QD33D    113\n9    AXMWZYP2IROMP    110\n10   A6DCKXX4659CR    110\n11  A28YJZCV43ZWQW    108\n12  A2I4CV4PGZCNAF    106\n13  A1M7OWNI93N1Y3    101\n14  A2FEDDUHQAEN97     99\n15  A338HVUM4AWJY7     97\n16   AKKQM6B0KI6F4     94\n17  A1BX81N79C9BVT     89\n18  A11ER3801T7KRP     89\n19  A175UOHOVXRYMW     86\n20  A2P1Z9NUJ9H1RT     86"
          },
          "metadata": {}
        }
      ],
      "execution_count": 69,
      "metadata": {},
      "id": "0f3cf61b"
    },
    {
      "cell_type": "code",
      "source": [
        "a = list(df_4['User_ID'].value_counts())\n",
        "b = list(df_4['User_ID'].unique())\n",
        "top_20_Users4 = pd.DataFrame(list(zip(b[0:21],a[0:21])),columns =['User_ID', 'Count'])\n",
        "top_20_Users4"
      ],
      "outputs": [
        {
          "output_type": "execute_result",
          "execution_count": 70,
          "data": {
            "text/html": "<div>\n<style scoped>\n    .dataframe tbody tr th:only-of-type {\n        vertical-align: middle;\n    }\n\n    .dataframe tbody tr th {\n        vertical-align: top;\n    }\n\n    .dataframe thead th {\n        text-align: right;\n    }\n</style>\n<table border=\"1\" class=\"dataframe\">\n  <thead>\n    <tr style=\"text-align: right;\">\n      <th></th>\n      <th>User_ID</th>\n      <th>Count</th>\n    </tr>\n  </thead>\n  <tbody>\n    <tr>\n      <th>0</th>\n      <td>A20DWVV8HML3AW</td>\n      <td>161</td>\n    </tr>\n    <tr>\n      <th>1</th>\n      <td>A3RVP3YBYYOPRH</td>\n      <td>131</td>\n    </tr>\n    <tr>\n      <th>2</th>\n      <td>A28XY55TP3Q90O</td>\n      <td>120</td>\n    </tr>\n    <tr>\n      <th>3</th>\n      <td>A3VZW1BGUQO0V3</td>\n      <td>95</td>\n    </tr>\n    <tr>\n      <th>4</th>\n      <td>A2R9T5D7UVQZB0</td>\n      <td>81</td>\n    </tr>\n    <tr>\n      <th>5</th>\n      <td>A2MH49GAEWEI95</td>\n      <td>79</td>\n    </tr>\n    <tr>\n      <th>6</th>\n      <td>AR5DPX4ZU3D4Z</td>\n      <td>78</td>\n    </tr>\n    <tr>\n      <th>7</th>\n      <td>A3OGMCRM3NL8OM</td>\n      <td>73</td>\n    </tr>\n    <tr>\n      <th>8</th>\n      <td>A7E1GKNNT96QQ</td>\n      <td>70</td>\n    </tr>\n    <tr>\n      <th>9</th>\n      <td>A1NCJWD2ZQBXW2</td>\n      <td>70</td>\n    </tr>\n    <tr>\n      <th>10</th>\n      <td>AEWNQ9BRLFGJ9</td>\n      <td>69</td>\n    </tr>\n    <tr>\n      <th>11</th>\n      <td>A2BOQ8FQIUM529</td>\n      <td>65</td>\n    </tr>\n    <tr>\n      <th>12</th>\n      <td>A1XTVN0TGNHW92</td>\n      <td>64</td>\n    </tr>\n    <tr>\n      <th>13</th>\n      <td>A18GBCHY5403HO</td>\n      <td>63</td>\n    </tr>\n    <tr>\n      <th>14</th>\n      <td>A3T9US3Y5HODSL</td>\n      <td>61</td>\n    </tr>\n    <tr>\n      <th>15</th>\n      <td>A30TDTJUGGZU8O</td>\n      <td>59</td>\n    </tr>\n    <tr>\n      <th>16</th>\n      <td>A1JI9EMSFLBVVV</td>\n      <td>57</td>\n    </tr>\n    <tr>\n      <th>17</th>\n      <td>A2HJ6GMOD9F95M</td>\n      <td>57</td>\n    </tr>\n    <tr>\n      <th>18</th>\n      <td>A3P69SFP7ITW5B</td>\n      <td>54</td>\n    </tr>\n    <tr>\n      <th>19</th>\n      <td>AJI75FO7HWC5E</td>\n      <td>54</td>\n    </tr>\n    <tr>\n      <th>20</th>\n      <td>A1BNL262X62X2B</td>\n      <td>54</td>\n    </tr>\n  </tbody>\n</table>\n</div>",
            "text/plain": "           User_ID  Count\n0   A20DWVV8HML3AW    161\n1   A3RVP3YBYYOPRH    131\n2   A28XY55TP3Q90O    120\n3   A3VZW1BGUQO0V3     95\n4   A2R9T5D7UVQZB0     81\n5   A2MH49GAEWEI95     79\n6    AR5DPX4ZU3D4Z     78\n7   A3OGMCRM3NL8OM     73\n8    A7E1GKNNT96QQ     70\n9   A1NCJWD2ZQBXW2     70\n10   AEWNQ9BRLFGJ9     69\n11  A2BOQ8FQIUM529     65\n12  A1XTVN0TGNHW92     64\n13  A18GBCHY5403HO     63\n14  A3T9US3Y5HODSL     61\n15  A30TDTJUGGZU8O     59\n16  A1JI9EMSFLBVVV     57\n17  A2HJ6GMOD9F95M     57\n18  A3P69SFP7ITW5B     54\n19   AJI75FO7HWC5E     54\n20  A1BNL262X62X2B     54"
          },
          "metadata": {}
        }
      ],
      "execution_count": 70,
      "metadata": {},
      "id": "50a73c2e"
    },
    {
      "cell_type": "code",
      "source": [
        "a = list(df_5['User_ID'].value_counts())\n",
        "b = list(df_5['User_ID'].unique())\n",
        "top_20_Users5 = pd.DataFrame(list(zip(b[0:21],a[0:21])),columns =['User_ID', 'Count'])\n",
        "top_20_Users5"
      ],
      "outputs": [
        {
          "output_type": "execute_result",
          "execution_count": 71,
          "data": {
            "text/html": "<div>\n<style scoped>\n    .dataframe tbody tr th:only-of-type {\n        vertical-align: middle;\n    }\n\n    .dataframe tbody tr th {\n        vertical-align: top;\n    }\n\n    .dataframe thead th {\n        text-align: right;\n    }\n</style>\n<table border=\"1\" class=\"dataframe\">\n  <thead>\n    <tr style=\"text-align: right;\">\n      <th></th>\n      <th>User_ID</th>\n      <th>Count</th>\n    </tr>\n  </thead>\n  <tbody>\n    <tr>\n      <th>0</th>\n      <td>AX0M1Z6ZWO52J</td>\n      <td>155</td>\n    </tr>\n    <tr>\n      <th>1</th>\n      <td>A1KD7N84L7NIUT</td>\n      <td>140</td>\n    </tr>\n    <tr>\n      <th>2</th>\n      <td>A29CUDEIF4X1UO</td>\n      <td>122</td>\n    </tr>\n    <tr>\n      <th>3</th>\n      <td>A32592TYN6C9EM</td>\n      <td>105</td>\n    </tr>\n    <tr>\n      <th>4</th>\n      <td>AA9X14MODL8XJ</td>\n      <td>95</td>\n    </tr>\n    <tr>\n      <th>5</th>\n      <td>AHAWBFF74JFGM</td>\n      <td>93</td>\n    </tr>\n    <tr>\n      <th>6</th>\n      <td>A3N6R7ONCCY2D</td>\n      <td>82</td>\n    </tr>\n    <tr>\n      <th>7</th>\n      <td>A1Y9UZAZHG0P5A</td>\n      <td>81</td>\n    </tr>\n    <tr>\n      <th>8</th>\n      <td>ATTTLHRK3VOOL</td>\n      <td>81</td>\n    </tr>\n    <tr>\n      <th>9</th>\n      <td>A3BRNASAP5PDFZ</td>\n      <td>81</td>\n    </tr>\n    <tr>\n      <th>10</th>\n      <td>A13KLLVR5WPWQE</td>\n      <td>78</td>\n    </tr>\n    <tr>\n      <th>11</th>\n      <td>A100L6MAITPD5</td>\n      <td>77</td>\n    </tr>\n    <tr>\n      <th>12</th>\n      <td>A1I27OKPS0D62B</td>\n      <td>77</td>\n    </tr>\n    <tr>\n      <th>13</th>\n      <td>AWXXK3XHXJB64</td>\n      <td>76</td>\n    </tr>\n    <tr>\n      <th>14</th>\n      <td>A3B95PVX8GDAI</td>\n      <td>74</td>\n    </tr>\n    <tr>\n      <th>15</th>\n      <td>AIKTBKZAFFFYJ</td>\n      <td>71</td>\n    </tr>\n    <tr>\n      <th>16</th>\n      <td>AQJZ7GSUEF9GU</td>\n      <td>69</td>\n    </tr>\n    <tr>\n      <th>17</th>\n      <td>A3SEQMP65QRWM4</td>\n      <td>66</td>\n    </tr>\n    <tr>\n      <th>18</th>\n      <td>A1HK2FQW6KXQB2</td>\n      <td>65</td>\n    </tr>\n    <tr>\n      <th>19</th>\n      <td>A3GN4KGEQZLQLD</td>\n      <td>64</td>\n    </tr>\n    <tr>\n      <th>20</th>\n      <td>A3FYAYXXTJZ8OR</td>\n      <td>64</td>\n    </tr>\n  </tbody>\n</table>\n</div>",
            "text/plain": "           User_ID  Count\n0    AX0M1Z6ZWO52J    155\n1   A1KD7N84L7NIUT    140\n2   A29CUDEIF4X1UO    122\n3   A32592TYN6C9EM    105\n4    AA9X14MODL8XJ     95\n5    AHAWBFF74JFGM     93\n6    A3N6R7ONCCY2D     82\n7   A1Y9UZAZHG0P5A     81\n8    ATTTLHRK3VOOL     81\n9   A3BRNASAP5PDFZ     81\n10  A13KLLVR5WPWQE     78\n11   A100L6MAITPD5     77\n12  A1I27OKPS0D62B     77\n13   AWXXK3XHXJB64     76\n14   A3B95PVX8GDAI     74\n15   AIKTBKZAFFFYJ     71\n16   AQJZ7GSUEF9GU     69\n17  A3SEQMP65QRWM4     66\n18  A1HK2FQW6KXQB2     65\n19  A3GN4KGEQZLQLD     64\n20  A3FYAYXXTJZ8OR     64"
          },
          "metadata": {}
        }
      ],
      "execution_count": 71,
      "metadata": {},
      "id": "801e503b"
    },
    {
      "cell_type": "markdown",
      "source": [
        "## Top products based on sales"
      ],
      "metadata": {},
      "id": "99807e38"
    },
    {
      "cell_type": "code",
      "source": [
        "a = list(df_1['Item_ID'].value_counts())\n",
        "b = list(df_1['Item_ID'].unique())\n",
        "top_20_products_1 = pd.DataFrame(list(zip(b[0:21],a[0:21])),columns =['Item_ID', 'Count'])\n",
        "top_20_products_1"
      ],
      "outputs": [
        {
          "output_type": "execute_result",
          "execution_count": 72,
          "data": {
            "text/html": "<div>\n<style scoped>\n    .dataframe tbody tr th:only-of-type {\n        vertical-align: middle;\n    }\n\n    .dataframe tbody tr th {\n        vertical-align: top;\n    }\n\n    .dataframe thead th {\n        text-align: right;\n    }\n</style>\n<table border=\"1\" class=\"dataframe\">\n  <thead>\n    <tr style=\"text-align: right;\">\n      <th></th>\n      <th>Item_ID</th>\n      <th>Count</th>\n    </tr>\n  </thead>\n  <tbody>\n    <tr>\n      <th>0</th>\n      <td>B000GFDAUG</td>\n      <td>12633</td>\n    </tr>\n    <tr>\n      <th>1</th>\n      <td>B000GIOPK2</td>\n      <td>10938</td>\n    </tr>\n    <tr>\n      <th>2</th>\n      <td>B000GIPKWY</td>\n      <td>10226</td>\n    </tr>\n    <tr>\n      <th>3</th>\n      <td>B000GJUQ7M</td>\n      <td>8676</td>\n    </tr>\n    <tr>\n      <th>4</th>\n      <td>B000GK0NBK</td>\n      <td>6927</td>\n    </tr>\n    <tr>\n      <th>5</th>\n      <td>B000GK51HG</td>\n      <td>6838</td>\n    </tr>\n    <tr>\n      <th>6</th>\n      <td>B000GK6NFK</td>\n      <td>5070</td>\n    </tr>\n    <tr>\n      <th>7</th>\n      <td>B000GK7DPY</td>\n      <td>4891</td>\n    </tr>\n    <tr>\n      <th>8</th>\n      <td>B000GOTJGG</td>\n      <td>4591</td>\n    </tr>\n    <tr>\n      <th>9</th>\n      <td>B000GOV10S</td>\n      <td>4540</td>\n    </tr>\n    <tr>\n      <th>10</th>\n      <td>B000GOW7RE</td>\n      <td>4501</td>\n    </tr>\n    <tr>\n      <th>11</th>\n      <td>B000GOW9B8</td>\n      <td>3884</td>\n    </tr>\n    <tr>\n      <th>12</th>\n      <td>B000GOYLNC</td>\n      <td>3884</td>\n    </tr>\n    <tr>\n      <th>13</th>\n      <td>B000GP0T82</td>\n      <td>3832</td>\n    </tr>\n    <tr>\n      <th>14</th>\n      <td>B000GP38JE</td>\n      <td>3745</td>\n    </tr>\n    <tr>\n      <th>15</th>\n      <td>B000GPHCXW</td>\n      <td>3680</td>\n    </tr>\n    <tr>\n      <th>16</th>\n      <td>B000GPKEYG</td>\n      <td>3596</td>\n    </tr>\n    <tr>\n      <th>17</th>\n      <td>B000GPWEIU</td>\n      <td>3464</td>\n    </tr>\n    <tr>\n      <th>18</th>\n      <td>B000GQ02C4</td>\n      <td>3286</td>\n    </tr>\n    <tr>\n      <th>19</th>\n      <td>B000GQQ60Q</td>\n      <td>3230</td>\n    </tr>\n    <tr>\n      <th>20</th>\n      <td>B000GQSP5A</td>\n      <td>3169</td>\n    </tr>\n  </tbody>\n</table>\n</div>",
            "text/plain": "       Item_ID  Count\n0   B000GFDAUG  12633\n1   B000GIOPK2  10938\n2   B000GIPKWY  10226\n3   B000GJUQ7M   8676\n4   B000GK0NBK   6927\n5   B000GK51HG   6838\n6   B000GK6NFK   5070\n7   B000GK7DPY   4891\n8   B000GOTJGG   4591\n9   B000GOV10S   4540\n10  B000GOW7RE   4501\n11  B000GOW9B8   3884\n12  B000GOYLNC   3884\n13  B000GP0T82   3832\n14  B000GP38JE   3745\n15  B000GPHCXW   3680\n16  B000GPKEYG   3596\n17  B000GPWEIU   3464\n18  B000GQ02C4   3286\n19  B000GQQ60Q   3230\n20  B000GQSP5A   3169"
          },
          "metadata": {}
        }
      ],
      "execution_count": 72,
      "metadata": {},
      "id": "bcaf7df2"
    },
    {
      "cell_type": "code",
      "source": [
        "a = list(df_2['Item_ID'].value_counts())\n",
        "b = list(df_2['Item_ID'].unique())\n",
        "top_20_products_2 = pd.DataFrame(list(zip(b[0:21],a[0:21])),columns =['Item_ID', 'Count'])\n",
        "top_20_products_2"
      ],
      "outputs": [
        {
          "output_type": "execute_result",
          "execution_count": 73,
          "data": {
            "text/html": "<div>\n<style scoped>\n    .dataframe tbody tr th:only-of-type {\n        vertical-align: middle;\n    }\n\n    .dataframe tbody tr th {\n        vertical-align: top;\n    }\n\n    .dataframe thead th {\n        text-align: right;\n    }\n</style>\n<table border=\"1\" class=\"dataframe\">\n  <thead>\n    <tr style=\"text-align: right;\">\n      <th></th>\n      <th>Item_ID</th>\n      <th>Count</th>\n    </tr>\n  </thead>\n  <tbody>\n    <tr>\n      <th>0</th>\n      <td>5555991584</td>\n      <td>1953</td>\n    </tr>\n    <tr>\n      <th>1</th>\n      <td>6308051551</td>\n      <td>1926</td>\n    </tr>\n    <tr>\n      <th>2</th>\n      <td>7901622466</td>\n      <td>1823</td>\n    </tr>\n    <tr>\n      <th>3</th>\n      <td>B0000000ZW</td>\n      <td>1527</td>\n    </tr>\n    <tr>\n      <th>4</th>\n      <td>B00000016T</td>\n      <td>1386</td>\n    </tr>\n    <tr>\n      <th>5</th>\n      <td>B00000016W</td>\n      <td>1325</td>\n    </tr>\n    <tr>\n      <th>6</th>\n      <td>B00000017R</td>\n      <td>1291</td>\n    </tr>\n    <tr>\n      <th>7</th>\n      <td>B0000001BA</td>\n      <td>1282</td>\n    </tr>\n    <tr>\n      <th>8</th>\n      <td>B0000001BO</td>\n      <td>1047</td>\n    </tr>\n    <tr>\n      <th>9</th>\n      <td>B0000001O0</td>\n      <td>977</td>\n    </tr>\n    <tr>\n      <th>10</th>\n      <td>B0000001P4</td>\n      <td>957</td>\n    </tr>\n    <tr>\n      <th>11</th>\n      <td>B0000001PS</td>\n      <td>927</td>\n    </tr>\n    <tr>\n      <th>12</th>\n      <td>B0000001Q8</td>\n      <td>914</td>\n    </tr>\n    <tr>\n      <th>13</th>\n      <td>B0000001RE</td>\n      <td>901</td>\n    </tr>\n    <tr>\n      <th>14</th>\n      <td>B0000001SH</td>\n      <td>884</td>\n    </tr>\n    <tr>\n      <th>15</th>\n      <td>B0000001UY</td>\n      <td>836</td>\n    </tr>\n    <tr>\n      <th>16</th>\n      <td>B0000001VZ</td>\n      <td>797</td>\n    </tr>\n    <tr>\n      <th>17</th>\n      <td>B0000001XH</td>\n      <td>778</td>\n    </tr>\n    <tr>\n      <th>18</th>\n      <td>B0000001XX</td>\n      <td>770</td>\n    </tr>\n    <tr>\n      <th>19</th>\n      <td>B00000023B</td>\n      <td>767</td>\n    </tr>\n    <tr>\n      <th>20</th>\n      <td>B00000023I</td>\n      <td>686</td>\n    </tr>\n  </tbody>\n</table>\n</div>",
            "text/plain": "       Item_ID  Count\n0   5555991584   1953\n1   6308051551   1926\n2   7901622466   1823\n3   B0000000ZW   1527\n4   B00000016T   1386\n5   B00000016W   1325\n6   B00000017R   1291\n7   B0000001BA   1282\n8   B0000001BO   1047\n9   B0000001O0    977\n10  B0000001P4    957\n11  B0000001PS    927\n12  B0000001Q8    914\n13  B0000001RE    901\n14  B0000001SH    884\n15  B0000001UY    836\n16  B0000001VZ    797\n17  B0000001XH    778\n18  B0000001XX    770\n19  B00000023B    767\n20  B00000023I    686"
          },
          "metadata": {}
        }
      ],
      "execution_count": 73,
      "metadata": {},
      "id": "eecc4bf6"
    },
    {
      "cell_type": "code",
      "source": [
        "a = list(df_3['Item_ID'].value_counts())\n",
        "b = list(df_3['Item_ID'].unique())\n",
        "top_20_products_3 = pd.DataFrame(list(zip(b[0:21],a[0:21])),columns =['Item_ID', 'Count'])\n",
        "top_20_products_3"
      ],
      "outputs": [
        {
          "output_type": "execute_result",
          "execution_count": 74,
          "data": {
            "text/html": "<div>\n<style scoped>\n    .dataframe tbody tr th:only-of-type {\n        vertical-align: middle;\n    }\n\n    .dataframe tbody tr th {\n        vertical-align: top;\n    }\n\n    .dataframe thead th {\n        text-align: right;\n    }\n</style>\n<table border=\"1\" class=\"dataframe\">\n  <thead>\n    <tr style=\"text-align: right;\">\n      <th></th>\n      <th>Item_ID</th>\n      <th>Count</th>\n    </tr>\n  </thead>\n  <tbody>\n    <tr>\n      <th>0</th>\n      <td>0014072149</td>\n      <td>3523</td>\n    </tr>\n    <tr>\n      <th>1</th>\n      <td>0041291905</td>\n      <td>2275</td>\n    </tr>\n    <tr>\n      <th>2</th>\n      <td>0041913574</td>\n      <td>1603</td>\n    </tr>\n    <tr>\n      <th>3</th>\n      <td>0201891859</td>\n      <td>1420</td>\n    </tr>\n    <tr>\n      <th>4</th>\n      <td>0577088726</td>\n      <td>1287</td>\n    </tr>\n    <tr>\n      <th>5</th>\n      <td>0634029231</td>\n      <td>1218</td>\n    </tr>\n    <tr>\n      <th>6</th>\n      <td>0634029347</td>\n      <td>1192</td>\n    </tr>\n    <tr>\n      <th>7</th>\n      <td>0634029355</td>\n      <td>1066</td>\n    </tr>\n    <tr>\n      <th>8</th>\n      <td>0634029363</td>\n      <td>942</td>\n    </tr>\n    <tr>\n      <th>9</th>\n      <td>0634050028</td>\n      <td>817</td>\n    </tr>\n    <tr>\n      <th>10</th>\n      <td>0634055429</td>\n      <td>810</td>\n    </tr>\n    <tr>\n      <th>11</th>\n      <td>0634055534</td>\n      <td>797</td>\n    </tr>\n    <tr>\n      <th>12</th>\n      <td>0634061801</td>\n      <td>779</td>\n    </tr>\n    <tr>\n      <th>13</th>\n      <td>0634065459</td>\n      <td>757</td>\n    </tr>\n    <tr>\n      <th>14</th>\n      <td>0739003755</td>\n      <td>750</td>\n    </tr>\n    <tr>\n      <th>15</th>\n      <td>0739037986</td>\n      <td>747</td>\n    </tr>\n    <tr>\n      <th>16</th>\n      <td>0739040251</td>\n      <td>745</td>\n    </tr>\n    <tr>\n      <th>17</th>\n      <td>0739040308</td>\n      <td>723</td>\n    </tr>\n    <tr>\n      <th>18</th>\n      <td>0739040375</td>\n      <td>704</td>\n    </tr>\n    <tr>\n      <th>19</th>\n      <td>0739042726</td>\n      <td>694</td>\n    </tr>\n    <tr>\n      <th>20</th>\n      <td>0739045032</td>\n      <td>674</td>\n    </tr>\n  </tbody>\n</table>\n</div>",
            "text/plain": "       Item_ID  Count\n0   0014072149   3523\n1   0041291905   2275\n2   0041913574   1603\n3   0201891859   1420\n4   0577088726   1287\n5   0634029231   1218\n6   0634029347   1192\n7   0634029355   1066\n8   0634029363    942\n9   0634050028    817\n10  0634055429    810\n11  0634055534    797\n12  0634061801    779\n13  0634065459    757\n14  0739003755    750\n15  0739037986    747\n16  0739040251    745\n17  0739040308    723\n18  0739040375    704\n19  0739042726    694\n20  0739045032    674"
          },
          "metadata": {}
        }
      ],
      "execution_count": 74,
      "metadata": {},
      "id": "a81501bc"
    },
    {
      "cell_type": "code",
      "source": [
        "a = list(df_4['Item_ID'].value_counts())\n",
        "b = list(df_4['Item_ID'].unique())\n",
        "top_20_products_4 = pd.DataFrame(list(zip(b[0:21],a[0:21])),columns =['Item_ID', 'Count'])\n",
        "top_20_products_4"
      ],
      "outputs": [
        {
          "output_type": "execute_result",
          "execution_count": 75,
          "data": {
            "text/html": "<div>\n<style scoped>\n    .dataframe tbody tr th:only-of-type {\n        vertical-align: middle;\n    }\n\n    .dataframe tbody tr th {\n        vertical-align: top;\n    }\n\n    .dataframe thead th {\n        text-align: right;\n    }\n</style>\n<table border=\"1\" class=\"dataframe\">\n  <thead>\n    <tr style=\"text-align: right;\">\n      <th></th>\n      <th>Item_ID</th>\n      <th>Count</th>\n    </tr>\n  </thead>\n  <tbody>\n    <tr>\n      <th>0</th>\n      <td>0981850006</td>\n      <td>3180</td>\n    </tr>\n    <tr>\n      <th>1</th>\n      <td>144072007X</td>\n      <td>2348</td>\n    </tr>\n    <tr>\n      <th>2</th>\n      <td>1554701503</td>\n      <td>2091</td>\n    </tr>\n    <tr>\n      <th>3</th>\n      <td>1579822932</td>\n      <td>1707</td>\n    </tr>\n    <tr>\n      <th>4</th>\n      <td>1754164498</td>\n      <td>1466</td>\n    </tr>\n    <tr>\n      <th>5</th>\n      <td>1880241064</td>\n      <td>1416</td>\n    </tr>\n    <tr>\n      <th>6</th>\n      <td>1885010753</td>\n      <td>1393</td>\n    </tr>\n    <tr>\n      <th>7</th>\n      <td>1938146824</td>\n      <td>1244</td>\n    </tr>\n    <tr>\n      <th>8</th>\n      <td>398501938X</td>\n      <td>1241</td>\n    </tr>\n    <tr>\n      <th>9</th>\n      <td>6035000029</td>\n      <td>1145</td>\n    </tr>\n    <tr>\n      <th>10</th>\n      <td>6035000037</td>\n      <td>1145</td>\n    </tr>\n    <tr>\n      <th>11</th>\n      <td>6035000045</td>\n      <td>1141</td>\n    </tr>\n    <tr>\n      <th>12</th>\n      <td>6303146775</td>\n      <td>1125</td>\n    </tr>\n    <tr>\n      <th>13</th>\n      <td>6304429150</td>\n      <td>997</td>\n    </tr>\n    <tr>\n      <th>14</th>\n      <td>8386244453</td>\n      <td>971</td>\n    </tr>\n    <tr>\n      <th>15</th>\n      <td>8393166616</td>\n      <td>961</td>\n    </tr>\n    <tr>\n      <th>16</th>\n      <td>8802000026</td>\n      <td>954</td>\n    </tr>\n    <tr>\n      <th>17</th>\n      <td>8802000034</td>\n      <td>945</td>\n    </tr>\n    <tr>\n      <th>18</th>\n      <td>8805001058</td>\n      <td>941</td>\n    </tr>\n    <tr>\n      <th>19</th>\n      <td>8805002577</td>\n      <td>905</td>\n    </tr>\n    <tr>\n      <th>20</th>\n      <td>8805002585</td>\n      <td>885</td>\n    </tr>\n  </tbody>\n</table>\n</div>",
            "text/plain": "       Item_ID  Count\n0   0981850006   3180\n1   144072007X   2348\n2   1554701503   2091\n3   1579822932   1707\n4   1754164498   1466\n5   1880241064   1416\n6   1885010753   1393\n7   1938146824   1244\n8   398501938X   1241\n9   6035000029   1145\n10  6035000037   1145\n11  6035000045   1141\n12  6303146775   1125\n13  6304429150    997\n14  8386244453    971\n15  8393166616    961\n16  8802000026    954\n17  8802000034    945\n18  8805001058    941\n19  8805002577    905\n20  8805002585    885"
          },
          "metadata": {}
        }
      ],
      "execution_count": 75,
      "metadata": {},
      "id": "2952ff8d"
    },
    {
      "cell_type": "code",
      "source": [
        "a = list(df_5['Item_ID'].value_counts())\n",
        "b = list(df_5['Item_ID'].unique())\n",
        "top_20_products_5 = pd.DataFrame(list(zip(b[0:21],a[0:21])),columns =['Item_ID', 'Count'])\n",
        "top_20_products_5"
      ],
      "outputs": [
        {
          "output_type": "execute_result",
          "execution_count": 76,
          "data": {
            "text/html": "<div>\n<style scoped>\n    .dataframe tbody tr th:only-of-type {\n        vertical-align: middle;\n    }\n\n    .dataframe tbody tr th {\n        vertical-align: top;\n    }\n\n    .dataframe thead th {\n        text-align: right;\n    }\n</style>\n<table border=\"1\" class=\"dataframe\">\n  <thead>\n    <tr style=\"text-align: right;\">\n      <th></th>\n      <th>Item_ID</th>\n      <th>Count</th>\n    </tr>\n  </thead>\n  <tbody>\n    <tr>\n      <th>0</th>\n      <td>0188399399</td>\n      <td>3648</td>\n    </tr>\n    <tr>\n      <th>1</th>\n      <td>0188399518</td>\n      <td>2923</td>\n    </tr>\n    <tr>\n      <th>2</th>\n      <td>0316967297</td>\n      <td>2832</td>\n    </tr>\n    <tr>\n      <th>3</th>\n      <td>0615447279</td>\n      <td>2830</td>\n    </tr>\n    <tr>\n      <th>4</th>\n      <td>0670062049</td>\n      <td>2682</td>\n    </tr>\n    <tr>\n      <th>5</th>\n      <td>0705391752</td>\n      <td>2458</td>\n    </tr>\n    <tr>\n      <th>6</th>\n      <td>097293751X</td>\n      <td>2211</td>\n    </tr>\n    <tr>\n      <th>7</th>\n      <td>0974671517</td>\n      <td>2185</td>\n    </tr>\n    <tr>\n      <th>8</th>\n      <td>0980027500</td>\n      <td>2085</td>\n    </tr>\n    <tr>\n      <th>9</th>\n      <td>0980027519</td>\n      <td>1928</td>\n    </tr>\n    <tr>\n      <th>10</th>\n      <td>0980027586</td>\n      <td>1610</td>\n    </tr>\n    <tr>\n      <th>11</th>\n      <td>0980027594</td>\n      <td>1373</td>\n    </tr>\n    <tr>\n      <th>12</th>\n      <td>0981257224</td>\n      <td>1336</td>\n    </tr>\n    <tr>\n      <th>13</th>\n      <td>0983676534</td>\n      <td>1334</td>\n    </tr>\n    <tr>\n      <th>14</th>\n      <td>0985072830</td>\n      <td>1334</td>\n    </tr>\n    <tr>\n      <th>15</th>\n      <td>1059875748</td>\n      <td>1332</td>\n    </tr>\n    <tr>\n      <th>16</th>\n      <td>1059879875</td>\n      <td>1227</td>\n    </tr>\n    <tr>\n      <th>17</th>\n      <td>141279000X</td>\n      <td>1163</td>\n    </tr>\n    <tr>\n      <th>18</th>\n      <td>1432109529</td>\n      <td>1149</td>\n    </tr>\n    <tr>\n      <th>19</th>\n      <td>1450803229</td>\n      <td>1149</td>\n    </tr>\n    <tr>\n      <th>20</th>\n      <td>1453052593</td>\n      <td>1148</td>\n    </tr>\n  </tbody>\n</table>\n</div>",
            "text/plain": "       Item_ID  Count\n0   0188399399   3648\n1   0188399518   2923\n2   0316967297   2832\n3   0615447279   2830\n4   0670062049   2682\n5   0705391752   2458\n6   097293751X   2211\n7   0974671517   2185\n8   0980027500   2085\n9   0980027519   1928\n10  0980027586   1610\n11  0980027594   1373\n12  0981257224   1336\n13  0983676534   1334\n14  0985072830   1334\n15  1059875748   1332\n16  1059879875   1227\n17  141279000X   1163\n18  1432109529   1149\n19  1450803229   1149\n20  1453052593   1148"
          },
          "metadata": {}
        }
      ],
      "execution_count": 76,
      "metadata": {},
      "id": "9cdafa05"
    },
    {
      "cell_type": "markdown",
      "source": [
        "## Visualisation of top 5 products for each category"
      ],
      "metadata": {},
      "id": "e28d41cc"
    },
    {
      "cell_type": "code",
      "source": [
        "plt.figure(figsize=(10,7))\n",
        "sns.barplot(x=top_20_products_1['Item_ID'].head(5),y=top_20_products_1['Count'].head(5))"
      ],
      "outputs": [
        {
          "output_type": "execute_result",
          "execution_count": 77,
          "data": {
            "text/plain": "<AxesSubplot:xlabel='Item_ID', ylabel='Count'>"
          },
          "metadata": {}
        },
        {
          "output_type": "display_data",
          "data": {
            "image/png": "[encoded data removed]",
            "text/plain": "<Figure size 720x504 with 1 Axes>"
          },
          "metadata": {
            "needs_background": "light"
          }
        }
      ],
      "execution_count": 77,
      "metadata": {},
      "id": "86f02272"
    },
    {
      "cell_type": "code",
      "source": [
        "plt.figure(figsize=(10,7))\n",
        "sns.barplot(x=top_20_products_2['Item_ID'].head(5),y=top_20_products_2['Count'].head(5))"
      ],
      "outputs": [
        {
          "output_type": "execute_result",
          "execution_count": 78,
          "data": {
            "text/plain": "<AxesSubplot:xlabel='Item_ID', ylabel='Count'>"
          },
          "metadata": {}
        },
        {
          "output_type": "display_data",
          "data": {
            "image/png": "[encoded data removed]",
            "text/plain": "<Figure size 720x504 with 1 Axes>"
          },
          "metadata": {
            "needs_background": "light"
          }
        }
      ],
      "execution_count": 78,
      "metadata": {},
      "id": "7d15d461"
    },
    {
      "cell_type": "code",
      "source": [
        "plt.figure(figsize=(10,7))\n",
        "sns.barplot(x=top_20_products_3['Item_ID'].head(5),y=top_20_products_3['Count'].head(5))"
      ],
      "outputs": [
        {
          "output_type": "execute_result",
          "execution_count": 79,
          "data": {
            "text/plain": "<AxesSubplot:xlabel='Item_ID', ylabel='Count'>"
          },
          "metadata": {}
        },
        {
          "output_type": "display_data",
          "data": {
            "image/png": "[encoded data removed]",
            "text/plain": "<Figure size 720x504 with 1 Axes>"
          },
          "metadata": {
            "needs_background": "light"
          }
        }
      ],
      "execution_count": 79,
      "metadata": {},
      "id": "886aae68"
    },
    {
      "cell_type": "code",
      "source": [
        "plt.figure(figsize=(10,7))\n",
        "sns.barplot(x=top_20_products_4['Item_ID'].head(5),y=top_20_products_4['Count'].head(5))"
      ],
      "outputs": [
        {
          "output_type": "execute_result",
          "execution_count": 80,
          "data": {
            "text/plain": "<AxesSubplot:xlabel='Item_ID', ylabel='Count'>"
          },
          "metadata": {}
        },
        {
          "output_type": "display_data",
          "data": {
            "image/png": "[encoded data removed]",
            "text/plain": "<Figure size 720x504 with 1 Axes>"
          },
          "metadata": {
            "needs_background": "light"
          }
        }
      ],
      "execution_count": 80,
      "metadata": {},
      "id": "77533f0c"
    },
    {
      "cell_type": "code",
      "source": [
        "plt.figure(figsize=(10,7))\n",
        "sns.barplot(x=top_20_products_5['Item_ID'].head(5),y=top_20_products_5['Count'].head(5))"
      ],
      "outputs": [
        {
          "output_type": "execute_result",
          "execution_count": 81,
          "data": {
            "text/plain": "<AxesSubplot:xlabel='Item_ID', ylabel='Count'>"
          },
          "metadata": {}
        },
        {
          "output_type": "display_data",
          "data": {
            "image/png": "[encoded data removed]",
            "text/plain": "<Figure size 720x504 with 1 Axes>"
          },
          "metadata": {
            "needs_background": "light"
          }
        }
      ],
      "execution_count": 81,
      "metadata": {},
      "id": "e51415ab"
    },
    {
      "cell_type": "markdown",
      "source": [
        "## Different types of ratings"
      ],
      "metadata": {},
      "id": "8ca572b1"
    },
    {
      "cell_type": "code",
      "source": [
        "print('Unique Ratings',df_1['Rating'].unique())"
      ],
      "outputs": [
        {
          "output_type": "stream",
          "name": "stdout",
          "text": "Unique Ratings [5. 4. 2. 1. 3.]\n"
        }
      ],
      "execution_count": 82,
      "metadata": {},
      "id": "d2d0d418"
    },
    {
      "cell_type": "code",
      "source": [
        "print('Unique Ratings',df_2['Rating'].unique())"
      ],
      "outputs": [
        {
          "output_type": "stream",
          "name": "stdout",
          "text": "Unique Ratings [5. 4. 3. 1. 2.]\n"
        }
      ],
      "execution_count": 83,
      "metadata": {},
      "id": "28e8a909"
    },
    {
      "cell_type": "code",
      "source": [
        "print('Unique Ratings',df_3['Rating'].unique())"
      ],
      "outputs": [
        {
          "output_type": "stream",
          "name": "stdout",
          "text": "Unique Ratings [5. 1. 3. 2. 4.]\n"
        }
      ],
      "execution_count": 84,
      "metadata": {},
      "id": "3350caec"
    },
    {
      "cell_type": "code",
      "source": [
        "print('Unique Ratings',df_4['Rating'].unique())"
      ],
      "outputs": [
        {
          "output_type": "stream",
          "name": "stdout",
          "text": "Unique Ratings [5. 1. 3. 2. 4.]\n"
        }
      ],
      "execution_count": 85,
      "metadata": {},
      "id": "b3764a8c"
    },
    {
      "cell_type": "code",
      "source": [
        "print('Unique Ratings',df_5['Rating'].unique())"
      ],
      "outputs": [
        {
          "output_type": "stream",
          "name": "stdout",
          "text": "Unique Ratings [5. 4. 3. 2. 1.]\n"
        }
      ],
      "execution_count": 86,
      "metadata": {},
      "id": "6e88e1c0"
    },
    {
      "cell_type": "markdown",
      "source": [
        "## Number Of Products with good ratings for each category"
      ],
      "metadata": {},
      "id": "9a4f50e7"
    },
    {
      "cell_type": "code",
      "source": [
        "max_ratings1 = df_1[df_1['Rating'] >= 4.0]\n",
        "print('Number of unique products rated high',len(max_ratings1['Item_ID'].unique()))"
      ],
      "outputs": [
        {
          "output_type": "stream",
          "name": "stdout",
          "text": "Number of unique products rated high 19653\n"
        }
      ],
      "execution_count": 87,
      "metadata": {},
      "id": "8cc56fde"
    },
    {
      "cell_type": "code",
      "source": [
        "max_ratings2 = df_2[df_2['Rating'] >= 4.0]\n",
        "print('Number of unique products rated high',len(max_ratings2['Item_ID'].unique()))"
      ],
      "outputs": [
        {
          "output_type": "stream",
          "name": "stdout",
          "text": "Number of unique products rated high 249582\n"
        }
      ],
      "execution_count": 88,
      "metadata": {},
      "id": "f3e50bd0"
    },
    {
      "cell_type": "code",
      "source": [
        "max_ratings3 = df_3[df_3['Rating'] >= 4.0]\n",
        "print('Number of unique products rated high',len(max_ratings3['Item_ID'].unique()))"
      ],
      "outputs": [
        {
          "output_type": "stream",
          "name": "stdout",
          "text": "Number of unique products rated high 74603\n"
        }
      ],
      "execution_count": 89,
      "metadata": {},
      "id": "caca1f4e"
    },
    {
      "cell_type": "code",
      "source": [
        "max_ratings4 = df_4[df_4['Rating'] >= 4.0]\n",
        "print('Number of unique products rated high',len(max_ratings4['Item_ID'].unique()))"
      ],
      "outputs": [
        {
          "output_type": "stream",
          "name": "stdout",
          "text": "Number of unique products rated high 90168\n"
        }
      ],
      "execution_count": 90,
      "metadata": {},
      "id": "27fb2e79"
    },
    {
      "cell_type": "code",
      "source": [
        "max_ratings5 = df_5[df_5['Rating'] >= 4.0]\n",
        "print('Number of unique products rated high',len(max_ratings5['Item_ID'].unique()))"
      ],
      "outputs": [
        {
          "output_type": "stream",
          "name": "stdout",
          "text": "Number of unique products rated high 57218\n"
        }
      ],
      "execution_count": 91,
      "metadata": {},
      "id": "cd3e9729"
    },
    {
      "cell_type": "markdown",
      "source": [
        "# Phase 2 "
      ],
      "metadata": {},
      "id": "eb70299c"
    },
    {
      "cell_type": "code",
      "source": [
        "from surprise import KNNBasic\n",
        "from surprise import SVD\n",
        "from surprise import NormalPredictor\n",
        "from surprise import KNNBaseline\n",
        "from surprise import KNNWithMeans\n",
        "from surprise import KNNWithZScore\n",
        "from surprise import BaselineOnly\n",
        "from surprise import CoClustering\n",
        "from surprise import Reader\n",
        "from surprise import Dataset\n",
        "from surprise import accuracy\n",
        "from surprise.model_selection import train_test_split\n",
        "from surprise import KNNWithMeans\n",
        "from surprise.model_selection import GridSearchCV\n",
        "\n",
        "from sklearn.model_selection import train_test_split\n"
      ],
      "outputs": [],
      "execution_count": 92,
      "metadata": {},
      "id": "db91d1db"
    },
    {
      "cell_type": "code",
      "source": [
        "\n",
        "reader = Reader(rating_scale=(0.5, 5.0))"
      ],
      "outputs": [],
      "execution_count": 93,
      "metadata": {},
      "id": "0a5e6830"
    },
    {
      "cell_type": "markdown",
      "source": [
        "## Collaborative filtering "
      ],
      "metadata": {},
      "id": "d7b91472"
    },
    {
      "cell_type": "markdown",
      "source": [
        "### Dataframe 1"
      ],
      "metadata": {},
      "id": "c0fa1a54"
    },
    {
      "cell_type": "code",
      "source": [
        "userID1 = df_1.groupby('User_ID').count()\n",
        "top_user1 = userID1[userID1['Rating'] >= 50].index"
      ],
      "outputs": [],
      "execution_count": 94,
      "metadata": {},
      "id": "f90cc314"
    },
    {
      "cell_type": "code",
      "source": [
        "topuser_ratings_df1 = df_1[df_1['User_ID'].isin(top_user1)]"
      ],
      "outputs": [],
      "execution_count": 95,
      "metadata": {},
      "id": "d456d894"
    },
    {
      "cell_type": "code",
      "source": [
        "itemID1 = df_1.groupby('Item_ID').count()\n",
        "top_prod1 = itemID1[itemID1['Rating'] >= 50].index"
      ],
      "outputs": [],
      "execution_count": 96,
      "metadata": {},
      "id": "aebbc0c7"
    },
    {
      "cell_type": "code",
      "source": [
        "top_ratings_df1 = topuser_ratings_df1[topuser_ratings_df1['Item_ID'].isin(top_prod1)]"
      ],
      "outputs": [],
      "execution_count": 97,
      "metadata": {},
      "id": "61d1ed07"
    },
    {
      "cell_type": "code",
      "source": [
        "data1 = Dataset.load_from_df(top_ratings_df1[['User_ID', 'Item_ID', 'Rating']],reader)"
      ],
      "outputs": [],
      "execution_count": 98,
      "metadata": {},
      "id": "b5761c36"
    },
    {
      "cell_type": "code",
      "source": [
        "from surprise.model_selection import train_test_split\n",
        "trainset1, testset1 = train_test_split(data1, test_size=.3,random_state=0)"
      ],
      "outputs": [],
      "execution_count": 99,
      "metadata": {},
      "id": "07da1300"
    },
    {
      "cell_type": "code",
      "source": [
        "type(trainset1)"
      ],
      "outputs": [
        {
          "output_type": "execute_result",
          "execution_count": 100,
          "data": {
            "text/plain": "surprise.trainset.Trainset"
          },
          "metadata": {}
        }
      ],
      "execution_count": 100,
      "metadata": {},
      "id": "4129c543"
    },
    {
      "cell_type": "code",
      "source": [
        "algo_user1 = KNNWithMeans(k=10, min_k=6, sim_options={'name': 'pearson_baseline', 'user_based': True})\n",
        "algo_user1.fit(trainset1)"
      ],
      "outputs": [
        {
          "output_type": "stream",
          "name": "stdout",
          "text": "Estimating biases using als...\nComputing the pearson_baseline similarity matrix...\nDone computing similarity matrix.\n"
        },
        {
          "output_type": "execute_result",
          "execution_count": 101,
          "data": {
            "text/plain": "<surprise.prediction_algorithms.knns.KNNWithMeans at 0x1450bb77460>"
          },
          "metadata": {}
        }
      ],
      "execution_count": 101,
      "metadata": {},
      "id": "3ea39265"
    },
    {
      "cell_type": "code",
      "source": [
        "svd_model = SVD(n_factors=50,reg_all=0.02)\n",
        "svd_model.fit(trainset1)"
      ],
      "outputs": [
        {
          "output_type": "execute_result",
          "execution_count": 102,
          "data": {
            "text/plain": "<surprise.prediction_algorithms.matrix_factorization.SVD at 0x1450bb6f670>"
          },
          "metadata": {}
        }
      ],
      "execution_count": 102,
      "metadata": {},
      "id": "3824970d"
    },
    {
      "cell_type": "code",
      "source": [
        "test_pred1 = algo_user1.test(testset1)\n",
        "test_pred1[0]"
      ],
      "outputs": [
        {
          "output_type": "execute_result",
          "execution_count": 103,
          "data": {
            "text/plain": "Prediction(uid='A2HVL790PBWYTU', iid='B002TWWOHE', r_ui=5.0, est=4.194444444444445, details={'actual_k': 0, 'was_impossible': False})"
          },
          "metadata": {}
        }
      ],
      "execution_count": 103,
      "metadata": {},
      "id": "22ddb113"
    },
    {
      "cell_type": "code",
      "source": [
        "accuracy.rmse(test_pred1)"
      ],
      "outputs": [
        {
          "output_type": "stream",
          "name": "stdout",
          "text": "RMSE: 1.0086\n"
        },
        {
          "output_type": "execute_result",
          "execution_count": 104,
          "data": {
            "text/plain": "1.0086323971676288"
          },
          "metadata": {}
        }
      ],
      "execution_count": 104,
      "metadata": {},
      "id": "ddcd40a2"
    },
    {
      "cell_type": "code",
      "source": [
        "test_pred1 = svd_model.test(testset1)"
      ],
      "outputs": [],
      "execution_count": 105,
      "metadata": {},
      "id": "61bcb80b"
    },
    {
      "cell_type": "code",
      "source": [
        "accuracy.rmse(test_pred1)"
      ],
      "outputs": [
        {
          "output_type": "stream",
          "name": "stdout",
          "text": "RMSE: 0.9660\n"
        },
        {
          "output_type": "execute_result",
          "execution_count": 106,
          "data": {
            "text/plain": "0.9660365359093823"
          },
          "metadata": {}
        }
      ],
      "execution_count": 106,
      "metadata": {},
      "id": "26bac9b8"
    },
    {
      "cell_type": "code",
      "source": [
        "from surprise.model_selection import GridSearchCV\n",
        "param_grid = {'n_factors' : [5,10,15], \"reg_all\":[0.01,0.02]}\n",
        "gs1 = GridSearchCV(SVD, param_grid, measures=['rmse'], cv=3,refit = True)"
      ],
      "outputs": [],
      "execution_count": 107,
      "metadata": {},
      "id": "64bfc856"
    },
    {
      "cell_type": "code",
      "source": [
        "gs1.fit(data1)"
      ],
      "outputs": [],
      "execution_count": 108,
      "metadata": {},
      "id": "218d4ce1"
    },
    {
      "cell_type": "code",
      "source": [
        "gs1.best_params"
      ],
      "outputs": [
        {
          "output_type": "execute_result",
          "execution_count": 109,
          "data": {
            "text/plain": "{'rmse': {'n_factors': 5, 'reg_all': 0.02}}"
          },
          "metadata": {}
        }
      ],
      "execution_count": 109,
      "metadata": {},
      "id": "23a8aa78"
    },
    {
      "cell_type": "code",
      "source": [
        "gs1.test(testset1)\n",
        "accuracy.rmse(gs1.test(testset1))"
      ],
      "outputs": [
        {
          "output_type": "stream",
          "name": "stdout",
          "text": "RMSE: 0.8244\n"
        },
        {
          "output_type": "execute_result",
          "execution_count": 110,
          "data": {
            "text/plain": "0.824410892885576"
          },
          "metadata": {}
        }
      ],
      "execution_count": 110,
      "metadata": {},
      "id": "225e0c37"
    },
    {
      "cell_type": "markdown",
      "source": [
        "### Dataframe 2"
      ],
      "metadata": {},
      "id": "db481976"
    },
    {
      "cell_type": "code",
      "source": [
        "userID2 = df_2.groupby('User_ID').count()\n",
        "top_user2 = userID2[userID2['Rating'] >= 50].index\n",
        "topuser_ratings_df2 = df_2[df_2['User_ID'].isin(top_user2)]"
      ],
      "outputs": [],
      "execution_count": 111,
      "metadata": {},
      "id": "59ecbf3e"
    },
    {
      "cell_type": "code",
      "source": [
        "itemID2 = df_2.groupby('Item_ID').count()\n",
        "top_prod2 = itemID2[itemID2['Rating'] >= 50].index\n",
        "top_ratings_df2 = topuser_ratings_df2[topuser_ratings_df2['Item_ID'].isin(top_prod2)]"
      ],
      "outputs": [],
      "execution_count": 112,
      "metadata": {},
      "id": "89288230"
    },
    {
      "cell_type": "code",
      "source": [
        "data2 = Dataset.load_from_df(top_ratings_df2[['User_ID', 'Item_ID', 'Rating']],reader)"
      ],
      "outputs": [],
      "execution_count": 113,
      "metadata": {},
      "id": "9a7caf25"
    },
    {
      "cell_type": "code",
      "source": [
        "from surprise.model_selection import train_test_split\n",
        "trainset2, testset2 = train_test_split(data2, test_size=.3,random_state=0)"
      ],
      "outputs": [],
      "execution_count": 114,
      "metadata": {},
      "id": "0edd82de"
    },
    {
      "cell_type": "code",
      "source": [
        "algo_user2 = KNNWithMeans(k=10, min_k=6, sim_options={'name': 'pearson_baseline', 'user_based': True})\n",
        "algo_user2.fit(trainset2)"
      ],
      "outputs": [
        {
          "output_type": "stream",
          "name": "stdout",
          "text": "Estimating biases using als...\nComputing the pearson_baseline similarity matrix...\nDone computing similarity matrix.\n"
        },
        {
          "output_type": "execute_result",
          "execution_count": 115,
          "data": {
            "text/plain": "<surprise.prediction_algorithms.knns.KNNWithMeans at 0x145157f4c40>"
          },
          "metadata": {}
        }
      ],
      "execution_count": 115,
      "metadata": {},
      "id": "e54f20cc"
    },
    {
      "cell_type": "code",
      "source": [
        "svd_model2 = SVD(n_factors=50,reg_all=0.02)\n",
        "svd_model2.fit(trainset2)"
      ],
      "outputs": [
        {
          "output_type": "execute_result",
          "execution_count": 116,
          "data": {
            "text/plain": "<surprise.prediction_algorithms.matrix_factorization.SVD at 0x1450693e8b0>"
          },
          "metadata": {}
        }
      ],
      "execution_count": 116,
      "metadata": {},
      "id": "4533eed8"
    },
    {
      "cell_type": "code",
      "source": [
        "test_pred2 = algo_user2.test(testset2)\n",
        "test_pred2[0]"
      ],
      "outputs": [
        {
          "output_type": "execute_result",
          "execution_count": 117,
          "data": {
            "text/plain": "Prediction(uid='A2JAKHFYI88ZX0', iid='B00004NK9T', r_ui=5.0, est=4.555555555555555, details={'actual_k': 2, 'was_impossible': False})"
          },
          "metadata": {}
        }
      ],
      "execution_count": 117,
      "metadata": {},
      "id": "5d762fb6"
    },
    {
      "cell_type": "code",
      "source": [
        "accuracy.rmse(test_pred2)"
      ],
      "outputs": [
        {
          "output_type": "stream",
          "name": "stdout",
          "text": "RMSE: 0.8936\n"
        },
        {
          "output_type": "execute_result",
          "execution_count": 118,
          "data": {
            "text/plain": "0.8935557882418115"
          },
          "metadata": {}
        }
      ],
      "execution_count": 118,
      "metadata": {},
      "id": "934c72b4"
    },
    {
      "cell_type": "code",
      "source": [
        "test_pred2 = svd_model.test(testset2)"
      ],
      "outputs": [],
      "execution_count": 119,
      "metadata": {},
      "id": "55b7e157"
    },
    {
      "cell_type": "code",
      "source": [
        "accuracy.rmse(test_pred2)"
      ],
      "outputs": [
        {
          "output_type": "stream",
          "name": "stdout",
          "text": "RMSE: 1.1190\n"
        },
        {
          "output_type": "execute_result",
          "execution_count": 120,
          "data": {
            "text/plain": "1.118996367967629"
          },
          "metadata": {}
        }
      ],
      "execution_count": 120,
      "metadata": {},
      "id": "1489a4c5"
    },
    {
      "cell_type": "code",
      "source": [
        "from surprise.model_selection import GridSearchCV\n",
        "param_grid = {'n_factors' : [5,10,15], \"reg_all\":[0.01,0.02]}\n",
        "gs2 = GridSearchCV(SVD, param_grid, measures=['rmse'], cv=3,refit = True)"
      ],
      "outputs": [],
      "execution_count": 121,
      "metadata": {},
      "id": "843fbb25"
    },
    {
      "cell_type": "code",
      "source": [
        "gs2.fit(data2)"
      ],
      "outputs": [],
      "execution_count": 122,
      "metadata": {},
      "id": "9e6fd5f2"
    },
    {
      "cell_type": "code",
      "source": [
        "gs2.best_params"
      ],
      "outputs": [
        {
          "output_type": "execute_result",
          "execution_count": 123,
          "data": {
            "text/plain": "{'rmse': {'n_factors': 5, 'reg_all': 0.01}}"
          },
          "metadata": {}
        }
      ],
      "execution_count": 123,
      "metadata": {},
      "id": "c12dda15"
    },
    {
      "cell_type": "code",
      "source": [
        "gs2.test(testset2)\n",
        "accuracy.rmse(gs2.test(testset2))"
      ],
      "outputs": [
        {
          "output_type": "stream",
          "name": "stdout",
          "text": "RMSE: 0.7495\n"
        },
        {
          "output_type": "execute_result",
          "execution_count": 124,
          "data": {
            "text/plain": "0.7495250236656483"
          },
          "metadata": {}
        }
      ],
      "execution_count": 124,
      "metadata": {},
      "id": "92a81396"
    },
    {
      "cell_type": "markdown",
      "source": [
        "### Dataframe 3"
      ],
      "metadata": {},
      "id": "dfa517fb"
    },
    {
      "cell_type": "code",
      "source": [
        "userID3 = df_3.groupby('User_ID').count()\n",
        "top_user3 = userID3[userID3['Rating'] >= 50].index\n",
        "topuser_ratings_df3 = df_3[df_3['User_ID'].isin(top_user3)]"
      ],
      "outputs": [],
      "execution_count": 125,
      "metadata": {},
      "id": "eea5f078"
    },
    {
      "cell_type": "code",
      "source": [
        "itemID3=df_3.groupby('Item_ID').count()\n",
        "top_prod3= itemID3[itemID3['Rating']>=50].index\n",
        "top_ratings_df3= topuser_ratings_df3[topuser_ratings_df3['Item_ID'].isin(top_prod3)]"
      ],
      "outputs": [],
      "execution_count": 126,
      "metadata": {},
      "id": "4f5af9fc"
    },
    {
      "cell_type": "code",
      "source": [
        "data3 = Dataset.load_from_df(top_ratings_df3[['User_ID', 'Item_ID', 'Rating']],reader)"
      ],
      "outputs": [],
      "execution_count": 127,
      "metadata": {},
      "id": "241e93b1"
    },
    {
      "cell_type": "code",
      "source": [
        "from surprise.model_selection import train_test_split\n",
        "trainset3,testset3= train_test_split(data3,test_size=0.3,random_state=0)"
      ],
      "outputs": [],
      "execution_count": 128,
      "metadata": {},
      "id": "36cae222"
    },
    {
      "cell_type": "code",
      "source": [
        "algo_user3 = KNNWithMeans(k=10, min_k=6, sim_options={'name': 'pearson_baseline', 'user_based': True})\n",
        "algo_user3.fit(trainset3)"
      ],
      "outputs": [
        {
          "output_type": "stream",
          "name": "stdout",
          "text": "Estimating biases using als...\nComputing the pearson_baseline similarity matrix...\nDone computing similarity matrix.\n"
        },
        {
          "output_type": "execute_result",
          "execution_count": 129,
          "data": {
            "text/plain": "<surprise.prediction_algorithms.knns.KNNWithMeans at 0x14506950dc0>"
          },
          "metadata": {}
        }
      ],
      "execution_count": 129,
      "metadata": {},
      "id": "0b23b8fb"
    },
    {
      "cell_type": "code",
      "source": [
        "svd_model3 = SVD(n_factors=50,reg_all=0.02)\n",
        "svd_model3.fit(trainset3)"
      ],
      "outputs": [
        {
          "output_type": "execute_result",
          "execution_count": 130,
          "data": {
            "text/plain": "<surprise.prediction_algorithms.matrix_factorization.SVD at 0x1451f9a2730>"
          },
          "metadata": {}
        }
      ],
      "execution_count": 130,
      "metadata": {},
      "id": "ccbfae69"
    },
    {
      "cell_type": "code",
      "source": [
        "test_pred3 = algo_user3.test(testset3)\n",
        "test_pred3[0]"
      ],
      "outputs": [
        {
          "output_type": "execute_result",
          "execution_count": 131,
          "data": {
            "text/plain": "Prediction(uid='AZMHABTPXVLG3', iid='B001J5RYXQ', r_ui=3.0, est=4.57258064516129, details={'was_impossible': True, 'reason': 'User and/or item is unknown.'})"
          },
          "metadata": {}
        }
      ],
      "execution_count": 131,
      "metadata": {},
      "id": "b764ab34"
    },
    {
      "cell_type": "code",
      "source": [
        "accuracy.rmse(test_pred3)"
      ],
      "outputs": [
        {
          "output_type": "stream",
          "name": "stdout",
          "text": "RMSE: 0.7863\n"
        },
        {
          "output_type": "execute_result",
          "execution_count": 132,
          "data": {
            "text/plain": "0.786321712812612"
          },
          "metadata": {}
        }
      ],
      "execution_count": 132,
      "metadata": {},
      "id": "c2190914"
    },
    {
      "cell_type": "code",
      "source": [
        "test_pred3 = svd_model.test(testset3)"
      ],
      "outputs": [],
      "execution_count": 133,
      "metadata": {},
      "id": "505c372d"
    },
    {
      "cell_type": "code",
      "source": [
        "accuracy.rmse(test_pred3)"
      ],
      "outputs": [
        {
          "output_type": "stream",
          "name": "stdout",
          "text": "RMSE: 1.0509\n"
        },
        {
          "output_type": "execute_result",
          "execution_count": 134,
          "data": {
            "text/plain": "1.050925944662731"
          },
          "metadata": {}
        }
      ],
      "execution_count": 134,
      "metadata": {},
      "id": "70ca8410"
    },
    {
      "cell_type": "code",
      "source": [
        "from surprise.model_selection import GridSearchCV\n",
        "param_grid = {'n_factors' : [5,10,15], \"reg_all\":[0.01,0.02]}\n",
        "gs3 = GridSearchCV(SVD, param_grid, measures=['rmse'], cv=3,refit = True)"
      ],
      "outputs": [],
      "execution_count": 135,
      "metadata": {},
      "id": "a9df1f25"
    },
    {
      "cell_type": "code",
      "source": [
        "gs3.fit(data3)"
      ],
      "outputs": [],
      "execution_count": 136,
      "metadata": {},
      "id": "99e4505f"
    },
    {
      "cell_type": "code",
      "source": [
        "gs3.best_params"
      ],
      "outputs": [
        {
          "output_type": "execute_result",
          "execution_count": 137,
          "data": {
            "text/plain": "{'rmse': {'n_factors': 10, 'reg_all': 0.01}}"
          },
          "metadata": {}
        }
      ],
      "execution_count": 137,
      "metadata": {},
      "id": "4eca59e3"
    },
    {
      "cell_type": "code",
      "source": [
        "gs3.test(testset3)\n",
        "accuracy.rmse(gs3.test(testset3))"
      ],
      "outputs": [
        {
          "output_type": "stream",
          "name": "stdout",
          "text": "RMSE: 0.6370\n"
        },
        {
          "output_type": "execute_result",
          "execution_count": 138,
          "data": {
            "text/plain": "0.63703707287553"
          },
          "metadata": {}
        }
      ],
      "execution_count": 138,
      "metadata": {},
      "id": "30b42d58"
    },
    {
      "cell_type": "markdown",
      "source": [
        "### Dataframe 4"
      ],
      "metadata": {},
      "id": "86767d1d"
    },
    {
      "cell_type": "code",
      "source": [
        "userID4 = df_4.groupby('User_ID').count()\n",
        "top_user4 = userID4[userID4['Rating'] >= 50].index\n",
        "topuser_ratings_df4 = df_4[df_4['User_ID'].isin(top_user4)]"
      ],
      "outputs": [],
      "execution_count": 139,
      "metadata": {},
      "id": "8c1ada03"
    },
    {
      "cell_type": "code",
      "source": [
        "itemID4=df_4.groupby('Item_ID').count()\n",
        "top_prod4= itemID4[itemID4['Rating']>=50].index\n",
        "top_ratings_df4= topuser_ratings_df4[topuser_ratings_df4['Item_ID'].isin(top_prod4)]"
      ],
      "outputs": [],
      "execution_count": 140,
      "metadata": {},
      "id": "fef96d9e"
    },
    {
      "cell_type": "code",
      "source": [
        "data4 = Dataset.load_from_df(top_ratings_df4[['User_ID', 'Item_ID', 'Rating']],reader)"
      ],
      "outputs": [],
      "execution_count": 141,
      "metadata": {},
      "id": "b4f46c03"
    },
    {
      "cell_type": "code",
      "source": [
        "from surprise.model_selection import train_test_split\n",
        "trainset4,testset4= train_test_split(data4,test_size=0.3,random_state=0)"
      ],
      "outputs": [],
      "execution_count": 142,
      "metadata": {},
      "id": "5c683381"
    },
    {
      "cell_type": "code",
      "source": [
        "algo_user4 = KNNWithMeans(k=10, min_k=6, sim_options={'name': 'pearson_baseline', 'user_based': True})\n",
        "algo_user4.fit(trainset4)"
      ],
      "outputs": [
        {
          "output_type": "stream",
          "name": "stdout",
          "text": "Estimating biases using als...\nComputing the pearson_baseline similarity matrix...\nDone computing similarity matrix.\n"
        },
        {
          "output_type": "execute_result",
          "execution_count": 143,
          "data": {
            "text/plain": "<surprise.prediction_algorithms.knns.KNNWithMeans at 0x14523131250>"
          },
          "metadata": {}
        }
      ],
      "execution_count": 143,
      "metadata": {},
      "id": "1298756c"
    },
    {
      "cell_type": "code",
      "source": [
        "svd_model4 = SVD(n_factors=50,reg_all=0.02)\n",
        "svd_model4.fit(trainset4)"
      ],
      "outputs": [
        {
          "output_type": "execute_result",
          "execution_count": 144,
          "data": {
            "text/plain": "<surprise.prediction_algorithms.matrix_factorization.SVD at 0x145231313d0>"
          },
          "metadata": {}
        }
      ],
      "execution_count": 144,
      "metadata": {},
      "id": "90637946"
    },
    {
      "cell_type": "code",
      "source": [
        "test_pred4 = algo_user4.test(testset4)\n",
        "test_pred4[0]"
      ],
      "outputs": [
        {
          "output_type": "execute_result",
          "execution_count": 145,
          "data": {
            "text/plain": "Prediction(uid='A3OXHLG6DIBRW8', iid='B000VC1AO2', r_ui=5.0, est=4.230434782608696, details={'was_impossible': True, 'reason': 'User and/or item is unknown.'})"
          },
          "metadata": {}
        }
      ],
      "execution_count": 145,
      "metadata": {},
      "id": "9c0814b2"
    },
    {
      "cell_type": "code",
      "source": [
        "accuracy.rmse(test_pred4)"
      ],
      "outputs": [
        {
          "output_type": "stream",
          "name": "stdout",
          "text": "RMSE: 1.0571\n"
        },
        {
          "output_type": "execute_result",
          "execution_count": 146,
          "data": {
            "text/plain": "1.0571305229747519"
          },
          "metadata": {}
        }
      ],
      "execution_count": 146,
      "metadata": {},
      "id": "5c4fa56c"
    },
    {
      "cell_type": "code",
      "source": [
        "test_pred4 = svd_model.test(testset4)"
      ],
      "outputs": [],
      "execution_count": 147,
      "metadata": {},
      "id": "9e111ea4"
    },
    {
      "cell_type": "code",
      "source": [
        "accuracy.rmse(test_pred4)"
      ],
      "outputs": [
        {
          "output_type": "stream",
          "name": "stdout",
          "text": "RMSE: 1.1861\n"
        },
        {
          "output_type": "execute_result",
          "execution_count": 148,
          "data": {
            "text/plain": "1.186059628539699"
          },
          "metadata": {}
        }
      ],
      "execution_count": 148,
      "metadata": {},
      "id": "20110e5a"
    },
    {
      "cell_type": "code",
      "source": [
        "from surprise.model_selection import GridSearchCV\n",
        "param_grid = {'n_factors' : [5,10,15], \"reg_all\":[0.01,0.02]}\n",
        "gs4 = GridSearchCV(SVD, param_grid, measures=['rmse'], cv=3,refit = True)"
      ],
      "outputs": [],
      "execution_count": 149,
      "metadata": {},
      "id": "b3c153d3"
    },
    {
      "cell_type": "code",
      "source": [
        "gs4.fit(data4)"
      ],
      "outputs": [],
      "execution_count": 150,
      "metadata": {},
      "id": "f3e316f1"
    },
    {
      "cell_type": "code",
      "source": [
        "gs4.best_params"
      ],
      "outputs": [
        {
          "output_type": "execute_result",
          "execution_count": 151,
          "data": {
            "text/plain": "{'rmse': {'n_factors': 10, 'reg_all': 0.01}}"
          },
          "metadata": {}
        }
      ],
      "execution_count": 151,
      "metadata": {},
      "id": "8cb32ec4"
    },
    {
      "cell_type": "code",
      "source": [
        "gs4.test(testset4)\n",
        "accuracy.rmse(gs4.test(testset4))"
      ],
      "outputs": [
        {
          "output_type": "stream",
          "name": "stdout",
          "text": "RMSE: 0.9106\n"
        },
        {
          "output_type": "execute_result",
          "execution_count": 152,
          "data": {
            "text/plain": "0.9105955404216152"
          },
          "metadata": {}
        }
      ],
      "execution_count": 152,
      "metadata": {},
      "id": "185972a3"
    },
    {
      "cell_type": "markdown",
      "source": [
        "### Dataframe 5"
      ],
      "metadata": {},
      "id": "7c5fbd50"
    },
    {
      "cell_type": "code",
      "source": [
        "userID5 = df_5.groupby('User_ID').count()\n",
        "top_user5 = userID5[userID5['Rating'] >= 50].index\n",
        "topuser_ratings_df5 = df_5[df_5['User_ID'].isin(top_user5)]"
      ],
      "outputs": [],
      "execution_count": 153,
      "metadata": {},
      "id": "a3a96bec"
    },
    {
      "cell_type": "code",
      "source": [
        "itemID5=df_5.groupby('Item_ID').count()\n",
        "top_prod5= itemID5[itemID5['Rating']>=50].index\n",
        "top_ratings_df5= topuser_ratings_df5[topuser_ratings_df5['Item_ID'].isin(top_prod5)]"
      ],
      "outputs": [],
      "execution_count": 154,
      "metadata": {},
      "id": "a46b8e6a"
    },
    {
      "cell_type": "code",
      "source": [
        "data5 = Dataset.load_from_df(top_ratings_df5[['User_ID', 'Item_ID', 'Rating']],reader)"
      ],
      "outputs": [],
      "execution_count": 155,
      "metadata": {},
      "id": "a4906aa7"
    },
    {
      "cell_type": "code",
      "source": [
        "from surprise.model_selection import train_test_split\n",
        "trainset5,testset5= train_test_split(data5,test_size=0.3,random_state=0)"
      ],
      "outputs": [],
      "execution_count": 156,
      "metadata": {},
      "id": "ab198661"
    },
    {
      "cell_type": "code",
      "source": [
        "algo_user5 = KNNWithMeans(k=10, min_k=6, sim_options={'name': 'pearson_baseline', 'user_based': True})\n",
        "algo_user5.fit(trainset5)"
      ],
      "outputs": [
        {
          "output_type": "stream",
          "name": "stdout",
          "text": "Estimating biases using als...\nComputing the pearson_baseline similarity matrix...\nDone computing similarity matrix.\n"
        },
        {
          "output_type": "execute_result",
          "execution_count": 157,
          "data": {
            "text/plain": "<surprise.prediction_algorithms.knns.KNNWithMeans at 0x1452244e880>"
          },
          "metadata": {}
        }
      ],
      "execution_count": 157,
      "metadata": {},
      "id": "21423388"
    },
    {
      "cell_type": "code",
      "source": [
        "svd_model5 = SVD(n_factors=50,reg_all=0.02)\n",
        "svd_model5.fit(trainset5)"
      ],
      "outputs": [
        {
          "output_type": "execute_result",
          "execution_count": 158,
          "data": {
            "text/plain": "<surprise.prediction_algorithms.matrix_factorization.SVD at 0x1452244e0a0>"
          },
          "metadata": {}
        }
      ],
      "execution_count": 158,
      "metadata": {},
      "id": "ac74b177"
    },
    {
      "cell_type": "code",
      "source": [
        "test_pred5=algo_user5.test(testset5)\n",
        "test_pred5[0]"
      ],
      "outputs": [
        {
          "output_type": "execute_result",
          "execution_count": 159,
          "data": {
            "text/plain": "Prediction(uid='A3NXCL9NJTL3TF', iid='B00081J3N6', r_ui=4.0, est=3.774193548387097, details={'actual_k': 0, 'was_impossible': False})"
          },
          "metadata": {}
        }
      ],
      "execution_count": 159,
      "metadata": {},
      "id": "3a53a192"
    },
    {
      "cell_type": "code",
      "source": [
        "accuracy.rmse(test_pred5)"
      ],
      "outputs": [
        {
          "output_type": "stream",
          "name": "stdout",
          "text": "RMSE: 1.0126\n"
        },
        {
          "output_type": "execute_result",
          "execution_count": 160,
          "data": {
            "text/plain": "1.0125619905417795"
          },
          "metadata": {}
        }
      ],
      "execution_count": 160,
      "metadata": {},
      "id": "315eadbd"
    },
    {
      "cell_type": "code",
      "source": [
        "test_pred5 = svd_model.test(testset5)"
      ],
      "outputs": [],
      "execution_count": 161,
      "metadata": {},
      "id": "897e7016"
    },
    {
      "cell_type": "code",
      "source": [
        "accuracy.rmse(test_pred5)"
      ],
      "outputs": [
        {
          "output_type": "stream",
          "name": "stdout",
          "text": "RMSE: 1.1382\n"
        },
        {
          "output_type": "execute_result",
          "execution_count": 162,
          "data": {
            "text/plain": "1.1381810625600908"
          },
          "metadata": {}
        }
      ],
      "execution_count": 162,
      "metadata": {},
      "id": "30d64a69"
    },
    {
      "cell_type": "code",
      "source": [
        "from surprise.model_selection import GridSearchCV\n",
        "param_grid = {'n_factors' : [5,10,15], \"reg_all\":[0.01,0.02]}\n",
        "gs5 = GridSearchCV(SVD, param_grid, measures=['rmse'], cv=3,refit = True)"
      ],
      "outputs": [],
      "execution_count": 163,
      "metadata": {},
      "id": "a628944a"
    },
    {
      "cell_type": "code",
      "source": [
        "gs5.fit(data5)"
      ],
      "outputs": [],
      "execution_count": 164,
      "metadata": {},
      "id": "afa77517"
    },
    {
      "cell_type": "code",
      "source": [
        "gs5.best_params"
      ],
      "outputs": [
        {
          "output_type": "execute_result",
          "execution_count": 165,
          "data": {
            "text/plain": "{'rmse': {'n_factors': 5, 'reg_all': 0.02}}"
          },
          "metadata": {}
        }
      ],
      "execution_count": 165,
      "metadata": {},
      "id": "f0a4b15a"
    },
    {
      "cell_type": "code",
      "source": [
        "gs5.test(testset5)\n",
        "accuracy.rmse(gs5.test(testset5))"
      ],
      "outputs": [
        {
          "output_type": "stream",
          "name": "stdout",
          "text": "RMSE: 0.8661\n"
        },
        {
          "output_type": "execute_result",
          "execution_count": 166,
          "data": {
            "text/plain": "0.8661298798429009"
          },
          "metadata": {}
        }
      ],
      "execution_count": 166,
      "metadata": {},
      "id": "47181e09"
    },
    {
      "cell_type": "markdown",
      "source": [
        "## Splitting all the datasets into training and testing usig 80,20 split\n"
      ],
      "metadata": {},
      "id": "091111fb"
    },
    {
      "cell_type": "code",
      "source": [
        "from sklearn.model_selection import train_test_split\n",
        "train_data1, test_data1 = train_test_split(top_ratings_df1, test_size = 0.20, random_state=0)"
      ],
      "outputs": [],
      "execution_count": 167,
      "metadata": {},
      "id": "8de61123"
    },
    {
      "cell_type": "code",
      "source": [
        "train_data1.head()"
      ],
      "outputs": [
        {
          "output_type": "execute_result",
          "execution_count": 168,
          "data": {
            "text/html": "<div>\n<style scoped>\n    .dataframe tbody tr th:only-of-type {\n        vertical-align: middle;\n    }\n\n    .dataframe tbody tr th {\n        vertical-align: top;\n    }\n\n    .dataframe thead th {\n        text-align: right;\n    }\n</style>\n<table border=\"1\" class=\"dataframe\">\n  <thead>\n    <tr style=\"text-align: right;\">\n      <th></th>\n      <th>User_ID</th>\n      <th>Item_ID</th>\n      <th>Rating</th>\n    </tr>\n  </thead>\n  <tbody>\n    <tr>\n      <th>260361</th>\n      <td>AV6QDP8Q0ONK4</td>\n      <td>B008S9CU7G</td>\n      <td>3.0</td>\n    </tr>\n    <tr>\n      <th>236567</th>\n      <td>A3QLAOOTFEHCJI</td>\n      <td>B0087YQVY0</td>\n      <td>3.0</td>\n    </tr>\n    <tr>\n      <th>50514</th>\n      <td>AW3VZ5O895LRK</td>\n      <td>B001MVN03K</td>\n      <td>5.0</td>\n    </tr>\n    <tr>\n      <th>58190</th>\n      <td>A1POFVVXUZR3IQ</td>\n      <td>B002029Q4C</td>\n      <td>5.0</td>\n    </tr>\n    <tr>\n      <th>362063</th>\n      <td>AV6QDP8Q0ONK4</td>\n      <td>B00BN4V2YA</td>\n      <td>4.0</td>\n    </tr>\n  </tbody>\n</table>\n</div>",
            "text/plain": "               User_ID     Item_ID  Rating\n260361   AV6QDP8Q0ONK4  B008S9CU7G     3.0\n236567  A3QLAOOTFEHCJI  B0087YQVY0     3.0\n50514    AW3VZ5O895LRK  B001MVN03K     5.0\n58190   A1POFVVXUZR3IQ  B002029Q4C     5.0\n362063   AV6QDP8Q0ONK4  B00BN4V2YA     4.0"
          },
          "metadata": {}
        }
      ],
      "execution_count": 168,
      "metadata": {},
      "id": "9821cda5"
    },
    {
      "cell_type": "code",
      "source": [
        "test_data1.head()"
      ],
      "outputs": [
        {
          "output_type": "execute_result",
          "execution_count": 169,
          "data": {
            "text/html": "<div>\n<style scoped>\n    .dataframe tbody tr th:only-of-type {\n        vertical-align: middle;\n    }\n\n    .dataframe tbody tr th {\n        vertical-align: top;\n    }\n\n    .dataframe thead th {\n        text-align: right;\n    }\n</style>\n<table border=\"1\" class=\"dataframe\">\n  <thead>\n    <tr style=\"text-align: right;\">\n      <th></th>\n      <th>User_ID</th>\n      <th>Item_ID</th>\n      <th>Rating</th>\n    </tr>\n  </thead>\n  <tbody>\n    <tr>\n      <th>514135</th>\n      <td>A16XRPF40679KG</td>\n      <td>B00HNZHPGC</td>\n      <td>5.0</td>\n    </tr>\n    <tr>\n      <th>213219</th>\n      <td>ABO2ZI2Y5DQ9T</td>\n      <td>B007G5H2X0</td>\n      <td>2.0</td>\n    </tr>\n    <tr>\n      <th>13085</th>\n      <td>A1KIQ4P4ZW3ALF</td>\n      <td>B000MVN8HE</td>\n      <td>1.0</td>\n    </tr>\n    <tr>\n      <th>417267</th>\n      <td>AW3VZ5O895LRK</td>\n      <td>B00D5P0QMY</td>\n      <td>5.0</td>\n    </tr>\n    <tr>\n      <th>40786</th>\n      <td>AW3VZ5O895LRK</td>\n      <td>B001CH44YI</td>\n      <td>5.0</td>\n    </tr>\n  </tbody>\n</table>\n</div>",
            "text/plain": "               User_ID     Item_ID  Rating\n514135  A16XRPF40679KG  B00HNZHPGC     5.0\n213219   ABO2ZI2Y5DQ9T  B007G5H2X0     2.0\n13085   A1KIQ4P4ZW3ALF  B000MVN8HE     1.0\n417267   AW3VZ5O895LRK  B00D5P0QMY     5.0\n40786    AW3VZ5O895LRK  B001CH44YI     5.0"
          },
          "metadata": {}
        }
      ],
      "execution_count": 169,
      "metadata": {},
      "id": "b09581dc"
    },
    {
      "cell_type": "code",
      "source": [
        "from sklearn.model_selection import train_test_split\n",
        "train_data2, test_data2 = train_test_split(top_ratings_df2, test_size = 0.20, random_state=0)"
      ],
      "outputs": [],
      "execution_count": 170,
      "metadata": {},
      "id": "04fb3c21"
    },
    {
      "cell_type": "code",
      "source": [
        "train_data2.head()"
      ],
      "outputs": [
        {
          "output_type": "execute_result",
          "execution_count": 171,
          "data": {
            "text/html": "<div>\n<style scoped>\n    .dataframe tbody tr th:only-of-type {\n        vertical-align: middle;\n    }\n\n    .dataframe tbody tr th {\n        vertical-align: top;\n    }\n\n    .dataframe thead th {\n        text-align: right;\n    }\n</style>\n<table border=\"1\" class=\"dataframe\">\n  <thead>\n    <tr style=\"text-align: right;\">\n      <th></th>\n      <th>User_ID</th>\n      <th>Item_ID</th>\n      <th>Rating</th>\n    </tr>\n  </thead>\n  <tbody>\n    <tr>\n      <th>641227</th>\n      <td>A3HU0B9XUEVHIM</td>\n      <td>B007F1Q7HC</td>\n      <td>5.0</td>\n    </tr>\n    <tr>\n      <th>214381</th>\n      <td>A13N40YR6UZFRW</td>\n      <td>B000B8QF00</td>\n      <td>1.0</td>\n    </tr>\n    <tr>\n      <th>3441</th>\n      <td>A23IOPI0D1OG7V</td>\n      <td>B00000064G</td>\n      <td>5.0</td>\n    </tr>\n    <tr>\n      <th>55682</th>\n      <td>A3SV72ZAHH2IDH</td>\n      <td>B000002L7G</td>\n      <td>5.0</td>\n    </tr>\n    <tr>\n      <th>5945</th>\n      <td>A3T9IX8EDFDX4G</td>\n      <td>B000000OPZ</td>\n      <td>4.0</td>\n    </tr>\n  </tbody>\n</table>\n</div>",
            "text/plain": "               User_ID     Item_ID  Rating\n641227  A3HU0B9XUEVHIM  B007F1Q7HC     5.0\n214381  A13N40YR6UZFRW  B000B8QF00     1.0\n3441    A23IOPI0D1OG7V  B00000064G     5.0\n55682   A3SV72ZAHH2IDH  B000002L7G     5.0\n5945    A3T9IX8EDFDX4G  B000000OPZ     4.0"
          },
          "metadata": {}
        }
      ],
      "execution_count": 171,
      "metadata": {},
      "id": "d4445f4f"
    },
    {
      "cell_type": "code",
      "source": [
        "test_data2.head()"
      ],
      "outputs": [
        {
          "output_type": "execute_result",
          "execution_count": 172,
          "data": {
            "text/html": "<div>\n<style scoped>\n    .dataframe tbody tr th:only-of-type {\n        vertical-align: middle;\n    }\n\n    .dataframe tbody tr th {\n        vertical-align: top;\n    }\n\n    .dataframe thead th {\n        text-align: right;\n    }\n</style>\n<table border=\"1\" class=\"dataframe\">\n  <thead>\n    <tr style=\"text-align: right;\">\n      <th></th>\n      <th>User_ID</th>\n      <th>Item_ID</th>\n      <th>Rating</th>\n    </tr>\n  </thead>\n  <tbody>\n    <tr>\n      <th>675656</th>\n      <td>A14GK0E64J0WAS</td>\n      <td>B008JFC6F0</td>\n      <td>4.0</td>\n    </tr>\n    <tr>\n      <th>176459</th>\n      <td>A3W0POMI33YQXQ</td>\n      <td>B0000AGWFA</td>\n      <td>5.0</td>\n    </tr>\n    <tr>\n      <th>10094</th>\n      <td>A1XFNWGTPMG1AE</td>\n      <td>B0000013G5</td>\n      <td>5.0</td>\n    </tr>\n    <tr>\n      <th>165756</th>\n      <td>AGAMDS21PJZPK</td>\n      <td>B00008GQ9Y</td>\n      <td>4.0</td>\n    </tr>\n    <tr>\n      <th>69456</th>\n      <td>A461VTLW9G9YB</td>\n      <td>B000002TWN</td>\n      <td>5.0</td>\n    </tr>\n  </tbody>\n</table>\n</div>",
            "text/plain": "               User_ID     Item_ID  Rating\n675656  A14GK0E64J0WAS  B008JFC6F0     4.0\n176459  A3W0POMI33YQXQ  B0000AGWFA     5.0\n10094   A1XFNWGTPMG1AE  B0000013G5     5.0\n165756   AGAMDS21PJZPK  B00008GQ9Y     4.0\n69456    A461VTLW9G9YB  B000002TWN     5.0"
          },
          "metadata": {}
        }
      ],
      "execution_count": 172,
      "metadata": {},
      "id": "282859a0"
    },
    {
      "cell_type": "code",
      "source": [
        "from sklearn.model_selection import train_test_split\n",
        "train_data3, test_data3 = train_test_split(top_ratings_df3, test_size = 0.20, random_state=0)"
      ],
      "outputs": [],
      "execution_count": 173,
      "metadata": {},
      "id": "ed767463"
    },
    {
      "cell_type": "code",
      "source": [
        "train_data3.head()"
      ],
      "outputs": [
        {
          "output_type": "execute_result",
          "execution_count": 174,
          "data": {
            "text/html": "<div>\n<style scoped>\n    .dataframe tbody tr th:only-of-type {\n        vertical-align: middle;\n    }\n\n    .dataframe tbody tr th {\n        vertical-align: top;\n    }\n\n    .dataframe thead th {\n        text-align: right;\n    }\n</style>\n<table border=\"1\" class=\"dataframe\">\n  <thead>\n    <tr style=\"text-align: right;\">\n      <th></th>\n      <th>User_ID</th>\n      <th>Item_ID</th>\n      <th>Rating</th>\n    </tr>\n  </thead>\n  <tbody>\n    <tr>\n      <th>112534</th>\n      <td>A1YP96MT6W9FTB</td>\n      <td>B0009G1E0K</td>\n      <td>5.0</td>\n    </tr>\n    <tr>\n      <th>92423</th>\n      <td>A1L7M2JXN4EZCR</td>\n      <td>B0002T67J2</td>\n      <td>4.0</td>\n    </tr>\n    <tr>\n      <th>38678</th>\n      <td>A15TYOEWBQYF0X</td>\n      <td>B0002D0JZ6</td>\n      <td>5.0</td>\n    </tr>\n    <tr>\n      <th>310777</th>\n      <td>A2CJVLER896Q7L</td>\n      <td>B003DVGVIS</td>\n      <td>5.0</td>\n    </tr>\n    <tr>\n      <th>248995</th>\n      <td>A6FIAB28IS79</td>\n      <td>B001QWBM62</td>\n      <td>4.0</td>\n    </tr>\n  </tbody>\n</table>\n</div>",
            "text/plain": "               User_ID     Item_ID  Rating\n112534  A1YP96MT6W9FTB  B0009G1E0K     5.0\n92423   A1L7M2JXN4EZCR  B0002T67J2     4.0\n38678   A15TYOEWBQYF0X  B0002D0JZ6     5.0\n310777  A2CJVLER896Q7L  B003DVGVIS     5.0\n248995    A6FIAB28IS79  B001QWBM62     4.0"
          },
          "metadata": {}
        }
      ],
      "execution_count": 174,
      "metadata": {},
      "id": "7057d002"
    },
    {
      "cell_type": "code",
      "source": [
        "test_data3.head()"
      ],
      "outputs": [
        {
          "output_type": "execute_result",
          "execution_count": 175,
          "data": {
            "text/html": "<div>\n<style scoped>\n    .dataframe tbody tr th:only-of-type {\n        vertical-align: middle;\n    }\n\n    .dataframe tbody tr th {\n        vertical-align: top;\n    }\n\n    .dataframe thead th {\n        text-align: right;\n    }\n</style>\n<table border=\"1\" class=\"dataframe\">\n  <thead>\n    <tr style=\"text-align: right;\">\n      <th></th>\n      <th>User_ID</th>\n      <th>Item_ID</th>\n      <th>Rating</th>\n    </tr>\n  </thead>\n  <tbody>\n    <tr>\n      <th>292866</th>\n      <td>A2EDYSY4M8TESS</td>\n      <td>B002X8Y4SQ</td>\n      <td>5.0</td>\n    </tr>\n    <tr>\n      <th>166416</th>\n      <td>A2FFJCRIYMCVCZ</td>\n      <td>B000OY4WA6</td>\n      <td>5.0</td>\n    </tr>\n    <tr>\n      <th>400878</th>\n      <td>A1MVH1WLYDHZ49</td>\n      <td>B005T800V2</td>\n      <td>4.0</td>\n    </tr>\n    <tr>\n      <th>43951</th>\n      <td>A1MVH1WLYDHZ49</td>\n      <td>B0002E1H9W</td>\n      <td>5.0</td>\n    </tr>\n    <tr>\n      <th>266625</th>\n      <td>A1QUIHLOSKDY7R</td>\n      <td>B0029F21LU</td>\n      <td>5.0</td>\n    </tr>\n  </tbody>\n</table>\n</div>",
            "text/plain": "               User_ID     Item_ID  Rating\n292866  A2EDYSY4M8TESS  B002X8Y4SQ     5.0\n166416  A2FFJCRIYMCVCZ  B000OY4WA6     5.0\n400878  A1MVH1WLYDHZ49  B005T800V2     4.0\n43951   A1MVH1WLYDHZ49  B0002E1H9W     5.0\n266625  A1QUIHLOSKDY7R  B0029F21LU     5.0"
          },
          "metadata": {}
        }
      ],
      "execution_count": 175,
      "metadata": {},
      "id": "c7ad2e0d"
    },
    {
      "cell_type": "code",
      "source": [
        "from sklearn.model_selection import train_test_split\n",
        "train_data4, test_data4 = train_test_split(top_ratings_df4, test_size = 0.20, random_state=0)"
      ],
      "outputs": [],
      "execution_count": 176,
      "metadata": {},
      "id": "7f81e8b0"
    },
    {
      "cell_type": "code",
      "source": [
        "train_data4.head()"
      ],
      "outputs": [
        {
          "output_type": "execute_result",
          "execution_count": 177,
          "data": {
            "text/html": "<div>\n<style scoped>\n    .dataframe tbody tr th:only-of-type {\n        vertical-align: middle;\n    }\n\n    .dataframe tbody tr th {\n        vertical-align: top;\n    }\n\n    .dataframe thead th {\n        text-align: right;\n    }\n</style>\n<table border=\"1\" class=\"dataframe\">\n  <thead>\n    <tr style=\"text-align: right;\">\n      <th></th>\n      <th>User_ID</th>\n      <th>Item_ID</th>\n      <th>Rating</th>\n    </tr>\n  </thead>\n  <tbody>\n    <tr>\n      <th>241263</th>\n      <td>A35W3JQYP0M655</td>\n      <td>B000KKKDSE</td>\n      <td>4.0</td>\n    </tr>\n    <tr>\n      <th>977149</th>\n      <td>A3OXRFCJI67IMN</td>\n      <td>B00GTDIDBU</td>\n      <td>4.0</td>\n    </tr>\n    <tr>\n      <th>274931</th>\n      <td>AY3XPKRAMKKY7</td>\n      <td>B000P71GLU</td>\n      <td>5.0</td>\n    </tr>\n    <tr>\n      <th>510649</th>\n      <td>A1Z7FZP81N8CDU</td>\n      <td>B002JUOWB2</td>\n      <td>5.0</td>\n    </tr>\n    <tr>\n      <th>35398</th>\n      <td>A3OXRFCJI67IMN</td>\n      <td>B00004W430</td>\n      <td>5.0</td>\n    </tr>\n  </tbody>\n</table>\n</div>",
            "text/plain": "               User_ID     Item_ID  Rating\n241263  A35W3JQYP0M655  B000KKKDSE     4.0\n977149  A3OXRFCJI67IMN  B00GTDIDBU     4.0\n274931   AY3XPKRAMKKY7  B000P71GLU     5.0\n510649  A1Z7FZP81N8CDU  B002JUOWB2     5.0\n35398   A3OXRFCJI67IMN  B00004W430     5.0"
          },
          "metadata": {}
        }
      ],
      "execution_count": 177,
      "metadata": {},
      "id": "7b99218e"
    },
    {
      "cell_type": "code",
      "source": [
        "test_data4.head()"
      ],
      "outputs": [
        {
          "output_type": "execute_result",
          "execution_count": 178,
          "data": {
            "text/html": "<div>\n<style scoped>\n    .dataframe tbody tr th:only-of-type {\n        vertical-align: middle;\n    }\n\n    .dataframe tbody tr th {\n        vertical-align: top;\n    }\n\n    .dataframe thead th {\n        text-align: right;\n    }\n</style>\n<table border=\"1\" class=\"dataframe\">\n  <thead>\n    <tr style=\"text-align: right;\">\n      <th></th>\n      <th>User_ID</th>\n      <th>Item_ID</th>\n      <th>Rating</th>\n    </tr>\n  </thead>\n  <tbody>\n    <tr>\n      <th>757916</th>\n      <td>A2UO040HWOP0C2</td>\n      <td>B005BV0DD2</td>\n      <td>5.0</td>\n    </tr>\n    <tr>\n      <th>108037</th>\n      <td>A3OXHLG6DIBRW8</td>\n      <td>B0006OIZO8</td>\n      <td>4.0</td>\n    </tr>\n    <tr>\n      <th>13897</th>\n      <td>A35W3JQYP0M655</td>\n      <td>B00004RA3E</td>\n      <td>4.0</td>\n    </tr>\n    <tr>\n      <th>530139</th>\n      <td>A3L1VJMHFWONCB</td>\n      <td>B002U82A3K</td>\n      <td>5.0</td>\n    </tr>\n    <tr>\n      <th>548635</th>\n      <td>AZV26LP92E6WU</td>\n      <td>B002YNSADU</td>\n      <td>5.0</td>\n    </tr>\n  </tbody>\n</table>\n</div>",
            "text/plain": "               User_ID     Item_ID  Rating\n757916  A2UO040HWOP0C2  B005BV0DD2     5.0\n108037  A3OXHLG6DIBRW8  B0006OIZO8     4.0\n13897   A35W3JQYP0M655  B00004RA3E     4.0\n530139  A3L1VJMHFWONCB  B002U82A3K     5.0\n548635   AZV26LP92E6WU  B002YNSADU     5.0"
          },
          "metadata": {}
        }
      ],
      "execution_count": 178,
      "metadata": {},
      "id": "90ea8734"
    },
    {
      "cell_type": "code",
      "source": [
        "from sklearn.model_selection import train_test_split\n",
        "train_data5, test_data5 = train_test_split(top_ratings_df5, test_size = 0.20, random_state=0)"
      ],
      "outputs": [],
      "execution_count": 179,
      "metadata": {},
      "id": "75309b35"
    },
    {
      "cell_type": "code",
      "source": [
        "train_data5.head()"
      ],
      "outputs": [
        {
          "output_type": "execute_result",
          "execution_count": 180,
          "data": {
            "text/html": "<div>\n<style scoped>\n    .dataframe tbody tr th:only-of-type {\n        vertical-align: middle;\n    }\n\n    .dataframe tbody tr th {\n        vertical-align: top;\n    }\n\n    .dataframe thead th {\n        text-align: right;\n    }\n</style>\n<table border=\"1\" class=\"dataframe\">\n  <thead>\n    <tr style=\"text-align: right;\">\n      <th></th>\n      <th>User_ID</th>\n      <th>Item_ID</th>\n      <th>Rating</th>\n    </tr>\n  </thead>\n  <tbody>\n    <tr>\n      <th>743683</th>\n      <td>AZAC8O310IK4E</td>\n      <td>B006V84M1I</td>\n      <td>5.0</td>\n    </tr>\n    <tr>\n      <th>822953</th>\n      <td>A1RJTEOX6BJ1OP</td>\n      <td>B009IWNPXK</td>\n      <td>5.0</td>\n    </tr>\n    <tr>\n      <th>41388</th>\n      <td>AEK5GOE7UFP2P</td>\n      <td>B000069RAO</td>\n      <td>5.0</td>\n    </tr>\n    <tr>\n      <th>314002</th>\n      <td>AJGU56YG8G1DQ</td>\n      <td>B001C3KXPG</td>\n      <td>5.0</td>\n    </tr>\n    <tr>\n      <th>697130</th>\n      <td>AF8SREA2XE7BJ</td>\n      <td>B005IWM73S</td>\n      <td>3.0</td>\n    </tr>\n  </tbody>\n</table>\n</div>",
            "text/plain": "               User_ID     Item_ID  Rating\n743683   AZAC8O310IK4E  B006V84M1I     5.0\n822953  A1RJTEOX6BJ1OP  B009IWNPXK     5.0\n41388    AEK5GOE7UFP2P  B000069RAO     5.0\n314002   AJGU56YG8G1DQ  B001C3KXPG     5.0\n697130   AF8SREA2XE7BJ  B005IWM73S     3.0"
          },
          "metadata": {}
        }
      ],
      "execution_count": 180,
      "metadata": {},
      "id": "39cb7546"
    },
    {
      "cell_type": "code",
      "source": [
        "test_data5.head()"
      ],
      "outputs": [
        {
          "output_type": "execute_result",
          "execution_count": 181,
          "data": {
            "text/html": "<div>\n<style scoped>\n    .dataframe tbody tr th:only-of-type {\n        vertical-align: middle;\n    }\n\n    .dataframe tbody tr th {\n        vertical-align: top;\n    }\n\n    .dataframe thead th {\n        text-align: right;\n    }\n</style>\n<table border=\"1\" class=\"dataframe\">\n  <thead>\n    <tr style=\"text-align: right;\">\n      <th></th>\n      <th>User_ID</th>\n      <th>Item_ID</th>\n      <th>Rating</th>\n    </tr>\n  </thead>\n  <tbody>\n    <tr>\n      <th>693963</th>\n      <td>AJC88791BZEW7</td>\n      <td>B005G8L9MO</td>\n      <td>5.0</td>\n    </tr>\n    <tr>\n      <th>520012</th>\n      <td>A1XAYSI96X8YVH</td>\n      <td>B003CUXV0Q</td>\n      <td>5.0</td>\n    </tr>\n    <tr>\n      <th>343548</th>\n      <td>AKCZIJ6ZHE41D</td>\n      <td>B001HU2LDQ</td>\n      <td>5.0</td>\n    </tr>\n    <tr>\n      <th>532873</th>\n      <td>A3KHIBFERCW890</td>\n      <td>B003I8687A</td>\n      <td>5.0</td>\n    </tr>\n    <tr>\n      <th>749465</th>\n      <td>A26EQ8U96JA92T</td>\n      <td>B006ZBNE4M</td>\n      <td>5.0</td>\n    </tr>\n  </tbody>\n</table>\n</div>",
            "text/plain": "               User_ID     Item_ID  Rating\n693963   AJC88791BZEW7  B005G8L9MO     5.0\n520012  A1XAYSI96X8YVH  B003CUXV0Q     5.0\n343548   AKCZIJ6ZHE41D  B001HU2LDQ     5.0\n532873  A3KHIBFERCW890  B003I8687A     5.0\n749465  A26EQ8U96JA92T  B006ZBNE4M     5.0"
          },
          "metadata": {}
        }
      ],
      "execution_count": 181,
      "metadata": {},
      "id": "de08b10e"
    },
    {
      "cell_type": "markdown",
      "source": [
        "## Popularity based recommendation"
      ],
      "metadata": {},
      "id": "beca3fa6"
    },
    {
      "cell_type": "markdown",
      "source": [
        "### Dataframe 1"
      ],
      "metadata": {},
      "id": "c191544b"
    },
    {
      "cell_type": "code",
      "source": [
        "train_data_grouped1 = train_data1.groupby('Item_ID').mean().reset_index()"
      ],
      "outputs": [],
      "execution_count": 182,
      "metadata": {},
      "id": "65cefda5"
    },
    {
      "cell_type": "code",
      "source": [
        "train_data_grouped1.head()"
      ],
      "outputs": [
        {
          "output_type": "execute_result",
          "execution_count": 183,
          "data": {
            "text/html": "<div>\n<style scoped>\n    .dataframe tbody tr th:only-of-type {\n        vertical-align: middle;\n    }\n\n    .dataframe tbody tr th {\n        vertical-align: top;\n    }\n\n    .dataframe thead th {\n        text-align: right;\n    }\n</style>\n<table border=\"1\" class=\"dataframe\">\n  <thead>\n    <tr style=\"text-align: right;\">\n      <th></th>\n      <th>Item_ID</th>\n      <th>Rating</th>\n    </tr>\n  </thead>\n  <tbody>\n    <tr>\n      <th>0</th>\n      <td>B000HAB4NK</td>\n      <td>5.0</td>\n    </tr>\n    <tr>\n      <th>1</th>\n      <td>B000I9S5BE</td>\n      <td>5.0</td>\n    </tr>\n    <tr>\n      <th>2</th>\n      <td>B000IJRK7O</td>\n      <td>5.0</td>\n    </tr>\n    <tr>\n      <th>3</th>\n      <td>B000IK882Y</td>\n      <td>5.0</td>\n    </tr>\n    <tr>\n      <th>4</th>\n      <td>B000J0Q1KO</td>\n      <td>5.0</td>\n    </tr>\n  </tbody>\n</table>\n</div>",
            "text/plain": "      Item_ID  Rating\n0  B000HAB4NK     5.0\n1  B000I9S5BE     5.0\n2  B000IJRK7O     5.0\n3  B000IK882Y     5.0\n4  B000J0Q1KO     5.0"
          },
          "metadata": {}
        }
      ],
      "execution_count": 183,
      "metadata": {},
      "id": "8e89194c"
    },
    {
      "cell_type": "code",
      "source": [
        "train_data_sort1 = train_data_grouped1.sort_values(['Rating', 'Item_ID'], ascending=False)\n",
        "train_data_sort1.head()"
      ],
      "outputs": [
        {
          "output_type": "execute_result",
          "execution_count": 184,
          "data": {
            "text/html": "<div>\n<style scoped>\n    .dataframe tbody tr th:only-of-type {\n        vertical-align: middle;\n    }\n\n    .dataframe tbody tr th {\n        vertical-align: top;\n    }\n\n    .dataframe thead th {\n        text-align: right;\n    }\n</style>\n<table border=\"1\" class=\"dataframe\">\n  <thead>\n    <tr style=\"text-align: right;\">\n      <th></th>\n      <th>Item_ID</th>\n      <th>Rating</th>\n    </tr>\n  </thead>\n  <tbody>\n    <tr>\n      <th>447</th>\n      <td>B00L9MZFOO</td>\n      <td>5.0</td>\n    </tr>\n    <tr>\n      <th>444</th>\n      <td>B00KBN95IE</td>\n      <td>5.0</td>\n    </tr>\n    <tr>\n      <th>443</th>\n      <td>B00JXCZIFI</td>\n      <td>5.0</td>\n    </tr>\n    <tr>\n      <th>442</th>\n      <td>B00JWMPH14</td>\n      <td>5.0</td>\n    </tr>\n    <tr>\n      <th>439</th>\n      <td>B00JMJOWXG</td>\n      <td>5.0</td>\n    </tr>\n  </tbody>\n</table>\n</div>",
            "text/plain": "        Item_ID  Rating\n447  B00L9MZFOO     5.0\n444  B00KBN95IE     5.0\n443  B00JXCZIFI     5.0\n442  B00JWMPH14     5.0\n439  B00JMJOWXG     5.0"
          },
          "metadata": {}
        }
      ],
      "execution_count": 184,
      "metadata": {},
      "id": "8cfff7f9"
    },
    {
      "cell_type": "code",
      "source": [
        "train_data1.groupby('Item_ID')['Rating'].count().sort_values(ascending=False).head(10) "
      ],
      "outputs": [
        {
          "output_type": "execute_result",
          "execution_count": 185,
          "data": {
            "text/plain": "Item_ID\nB0044BY98K    9\nB003A3PWFW    7\nB00A0G14DQ    7\nB004I90IW4    7\nB00IKFSSTW    7\nB009AP3HQK    6\nB009IJJ5B4    5\nB00944CJRK    5\nB005DD7LR4    5\nB00EEXPDTM    5\nName: Rating, dtype: int64"
          },
          "metadata": {}
        }
      ],
      "execution_count": 185,
      "metadata": {},
      "id": "8a11ed05"
    },
    {
      "cell_type": "code",
      "source": [
        "ratings_mean_count1 = pd.DataFrame(train_data1.groupby('Item_ID')['Rating'].mean()) \n",
        "ratings_mean_count1['rating_counts'] = pd.DataFrame(train_data1.groupby('Item_ID')['Rating'].count())  \n",
        "ratings_mean_count1.head()  "
      ],
      "outputs": [
        {
          "output_type": "execute_result",
          "execution_count": 186,
          "data": {
            "text/html": "<div>\n<style scoped>\n    .dataframe tbody tr th:only-of-type {\n        vertical-align: middle;\n    }\n\n    .dataframe tbody tr th {\n        vertical-align: top;\n    }\n\n    .dataframe thead th {\n        text-align: right;\n    }\n</style>\n<table border=\"1\" class=\"dataframe\">\n  <thead>\n    <tr style=\"text-align: right;\">\n      <th></th>\n      <th>Rating</th>\n      <th>rating_counts</th>\n    </tr>\n    <tr>\n      <th>Item_ID</th>\n      <th></th>\n      <th></th>\n    </tr>\n  </thead>\n  <tbody>\n    <tr>\n      <th>B000HAB4NK</th>\n      <td>5.0</td>\n      <td>1</td>\n    </tr>\n    <tr>\n      <th>B000I9S5BE</th>\n      <td>5.0</td>\n      <td>1</td>\n    </tr>\n    <tr>\n      <th>B000IJRK7O</th>\n      <td>5.0</td>\n      <td>1</td>\n    </tr>\n    <tr>\n      <th>B000IK882Y</th>\n      <td>5.0</td>\n      <td>2</td>\n    </tr>\n    <tr>\n      <th>B000J0Q1KO</th>\n      <td>5.0</td>\n      <td>1</td>\n    </tr>\n  </tbody>\n</table>\n</div>",
            "text/plain": "            Rating  rating_counts\nItem_ID                          \nB000HAB4NK     5.0              1\nB000I9S5BE     5.0              1\nB000IJRK7O     5.0              1\nB000IK882Y     5.0              2\nB000J0Q1KO     5.0              1"
          },
          "metadata": {}
        }
      ],
      "execution_count": 186,
      "metadata": {},
      "id": "26184fa5"
    },
    {
      "cell_type": "code",
      "source": [
        "pred_df1 = test_data1[['User_ID', 'Item_ID', 'Rating']]"
      ],
      "outputs": [],
      "execution_count": 187,
      "metadata": {},
      "id": "5cbf2e58"
    },
    {
      "cell_type": "code",
      "source": [
        "pred_df1.rename(columns = {'Rating' : 'true_ratings'}, inplace=True)\n",
        "pred_df1 = pred_df1.merge(train_data_sort1, left_on='Item_ID', right_on = 'Item_ID')\n",
        "pred_df1.head(3)"
      ],
      "outputs": [
        {
          "output_type": "execute_result",
          "execution_count": 188,
          "data": {
            "text/html": "<div>\n<style scoped>\n    .dataframe tbody tr th:only-of-type {\n        vertical-align: middle;\n    }\n\n    .dataframe tbody tr th {\n        vertical-align: top;\n    }\n\n    .dataframe thead th {\n        text-align: right;\n    }\n</style>\n<table border=\"1\" class=\"dataframe\">\n  <thead>\n    <tr style=\"text-align: right;\">\n      <th></th>\n      <th>User_ID</th>\n      <th>Item_ID</th>\n      <th>true_ratings</th>\n      <th>Rating</th>\n    </tr>\n  </thead>\n  <tbody>\n    <tr>\n      <th>0</th>\n      <td>A16XRPF40679KG</td>\n      <td>B00HNZHPGC</td>\n      <td>5.0</td>\n      <td>2.0</td>\n    </tr>\n    <tr>\n      <th>1</th>\n      <td>ABO2ZI2Y5DQ9T</td>\n      <td>B007G5H2X0</td>\n      <td>2.0</td>\n      <td>2.6</td>\n    </tr>\n    <tr>\n      <th>2</th>\n      <td>A1KIQ4P4ZW3ALF</td>\n      <td>B000MVN8HE</td>\n      <td>1.0</td>\n      <td>4.0</td>\n    </tr>\n  </tbody>\n</table>\n</div>",
            "text/plain": "          User_ID     Item_ID  true_ratings  Rating\n0  A16XRPF40679KG  B00HNZHPGC           5.0     2.0\n1   ABO2ZI2Y5DQ9T  B007G5H2X0           2.0     2.6\n2  A1KIQ4P4ZW3ALF  B000MVN8HE           1.0     4.0"
          },
          "metadata": {}
        }
      ],
      "execution_count": 188,
      "metadata": {},
      "id": "cc417697"
    },
    {
      "cell_type": "code",
      "source": [
        "pred_df1.rename(columns = {'Rating' : 'predicted_ratings'}, inplace = True)\n",
        "pred_df1.head()"
      ],
      "outputs": [
        {
          "output_type": "execute_result",
          "execution_count": 189,
          "data": {
            "text/html": "<div>\n<style scoped>\n    .dataframe tbody tr th:only-of-type {\n        vertical-align: middle;\n    }\n\n    .dataframe tbody tr th {\n        vertical-align: top;\n    }\n\n    .dataframe thead th {\n        text-align: right;\n    }\n</style>\n<table border=\"1\" class=\"dataframe\">\n  <thead>\n    <tr style=\"text-align: right;\">\n      <th></th>\n      <th>User_ID</th>\n      <th>Item_ID</th>\n      <th>true_ratings</th>\n      <th>predicted_ratings</th>\n    </tr>\n  </thead>\n  <tbody>\n    <tr>\n      <th>0</th>\n      <td>A16XRPF40679KG</td>\n      <td>B00HNZHPGC</td>\n      <td>5.0</td>\n      <td>2.0</td>\n    </tr>\n    <tr>\n      <th>1</th>\n      <td>ABO2ZI2Y5DQ9T</td>\n      <td>B007G5H2X0</td>\n      <td>2.0</td>\n      <td>2.6</td>\n    </tr>\n    <tr>\n      <th>2</th>\n      <td>A1KIQ4P4ZW3ALF</td>\n      <td>B000MVN8HE</td>\n      <td>1.0</td>\n      <td>4.0</td>\n    </tr>\n    <tr>\n      <th>3</th>\n      <td>A1XT8AJB7S9JJG</td>\n      <td>B000MVN8HE</td>\n      <td>4.0</td>\n      <td>4.0</td>\n    </tr>\n    <tr>\n      <th>4</th>\n      <td>AW3VZ5O895LRK</td>\n      <td>B001CH44YI</td>\n      <td>5.0</td>\n      <td>4.0</td>\n    </tr>\n  </tbody>\n</table>\n</div>",
            "text/plain": "          User_ID     Item_ID  true_ratings  predicted_ratings\n0  A16XRPF40679KG  B00HNZHPGC           5.0                2.0\n1   ABO2ZI2Y5DQ9T  B007G5H2X0           2.0                2.6\n2  A1KIQ4P4ZW3ALF  B000MVN8HE           1.0                4.0\n3  A1XT8AJB7S9JJG  B000MVN8HE           4.0                4.0\n4   AW3VZ5O895LRK  B001CH44YI           5.0                4.0"
          },
          "metadata": {}
        }
      ],
      "execution_count": 189,
      "metadata": {},
      "id": "ef577e95"
    },
    {
      "cell_type": "code",
      "source": [
        "import sklearn.metrics as metric\n",
        "from math import sqrt\n",
        "MSE1 = metric.mean_squared_error(pred_df1['true_ratings'], pred_df1['predicted_ratings'])\n",
        "print('The RMSE value for Popularity Recommender model 1 is', sqrt(MSE1))"
      ],
      "outputs": [
        {
          "output_type": "stream",
          "name": "stdout",
          "text": "The RMSE value for Popularity Recommender model 1 is 1.2935056267517442\n"
        }
      ],
      "execution_count": 190,
      "metadata": {},
      "id": "7704844c"
    },
    {
      "cell_type": "markdown",
      "source": [
        "### Dataframe 2"
      ],
      "metadata": {},
      "id": "87f46a22"
    },
    {
      "cell_type": "code",
      "source": [
        "train_data_grouped2 = train_data2.groupby('Item_ID').mean().reset_index()\n",
        "train_data_grouped2.head()"
      ],
      "outputs": [
        {
          "output_type": "execute_result",
          "execution_count": 191,
          "data": {
            "text/html": "<div>\n<style scoped>\n    .dataframe tbody tr th:only-of-type {\n        vertical-align: middle;\n    }\n\n    .dataframe tbody tr th {\n        vertical-align: top;\n    }\n\n    .dataframe thead th {\n        text-align: right;\n    }\n</style>\n<table border=\"1\" class=\"dataframe\">\n  <thead>\n    <tr style=\"text-align: right;\">\n      <th></th>\n      <th>Item_ID</th>\n      <th>Rating</th>\n    </tr>\n  </thead>\n  <tbody>\n    <tr>\n      <th>0</th>\n      <td>5555991584</td>\n      <td>4.833333</td>\n    </tr>\n    <tr>\n      <th>1</th>\n      <td>B00000016T</td>\n      <td>4.888889</td>\n    </tr>\n    <tr>\n      <th>2</th>\n      <td>B00000016W</td>\n      <td>4.550000</td>\n    </tr>\n    <tr>\n      <th>3</th>\n      <td>B00000017R</td>\n      <td>5.000000</td>\n    </tr>\n    <tr>\n      <th>4</th>\n      <td>B0000002ME</td>\n      <td>4.571429</td>\n    </tr>\n  </tbody>\n</table>\n</div>",
            "text/plain": "      Item_ID    Rating\n0  5555991584  4.833333\n1  B00000016T  4.888889\n2  B00000016W  4.550000\n3  B00000017R  5.000000\n4  B0000002ME  4.571429"
          },
          "metadata": {}
        }
      ],
      "execution_count": 191,
      "metadata": {},
      "id": "09de89fd"
    },
    {
      "cell_type": "code",
      "source": [
        "train_data_sort2 = train_data_grouped2.sort_values(['Rating', 'Item_ID'], ascending=False)\n",
        "train_data_sort2.head()"
      ],
      "outputs": [
        {
          "output_type": "execute_result",
          "execution_count": 192,
          "data": {
            "text/html": "<div>\n<style scoped>\n    .dataframe tbody tr th:only-of-type {\n        vertical-align: middle;\n    }\n\n    .dataframe tbody tr th {\n        vertical-align: top;\n    }\n\n    .dataframe thead th {\n        text-align: right;\n    }\n</style>\n<table border=\"1\" class=\"dataframe\">\n  <thead>\n    <tr style=\"text-align: right;\">\n      <th></th>\n      <th>Item_ID</th>\n      <th>Rating</th>\n    </tr>\n  </thead>\n  <tbody>\n    <tr>\n      <th>1565</th>\n      <td>B00JTHVWO8</td>\n      <td>5.0</td>\n    </tr>\n    <tr>\n      <th>1558</th>\n      <td>B00J62YPZ4</td>\n      <td>5.0</td>\n    </tr>\n    <tr>\n      <th>1550</th>\n      <td>B00HWJX2R0</td>\n      <td>5.0</td>\n    </tr>\n    <tr>\n      <th>1548</th>\n      <td>B00HG24FWY</td>\n      <td>5.0</td>\n    </tr>\n    <tr>\n      <th>1544</th>\n      <td>B00GLQQ24A</td>\n      <td>5.0</td>\n    </tr>\n  </tbody>\n</table>\n</div>",
            "text/plain": "         Item_ID  Rating\n1565  B00JTHVWO8     5.0\n1558  B00J62YPZ4     5.0\n1550  B00HWJX2R0     5.0\n1548  B00HG24FWY     5.0\n1544  B00GLQQ24A     5.0"
          },
          "metadata": {}
        }
      ],
      "execution_count": 192,
      "metadata": {},
      "id": "5df67ad9"
    },
    {
      "cell_type": "code",
      "source": [
        "train_data2.groupby('Item_ID')['Rating'].count().sort_values(ascending=False).head(10) "
      ],
      "outputs": [
        {
          "output_type": "execute_result",
          "execution_count": 193,
          "data": {
            "text/plain": "Item_ID\nB000N2G3RY    26\nB000002LGQ    26\nB0000025F7    26\nB0000025RI    25\nB000BNTM32    22\nB000002AV5    22\nB000001DZO    22\nB0000013GH    21\nB00003002C    21\nB0000AGWFX    21\nName: Rating, dtype: int64"
          },
          "metadata": {}
        }
      ],
      "execution_count": 193,
      "metadata": {},
      "id": "3bd15f90"
    },
    {
      "cell_type": "code",
      "source": [
        "ratings_mean_count2 = pd.DataFrame(train_data2.groupby('Item_ID')['Rating'].mean()) \n",
        "ratings_mean_count2['rating_counts'] = pd.DataFrame(train_data2.groupby('Item_ID')['Rating'].count())  \n",
        "ratings_mean_count2.head()  "
      ],
      "outputs": [
        {
          "output_type": "execute_result",
          "execution_count": 194,
          "data": {
            "text/html": "<div>\n<style scoped>\n    .dataframe tbody tr th:only-of-type {\n        vertical-align: middle;\n    }\n\n    .dataframe tbody tr th {\n        vertical-align: top;\n    }\n\n    .dataframe thead th {\n        text-align: right;\n    }\n</style>\n<table border=\"1\" class=\"dataframe\">\n  <thead>\n    <tr style=\"text-align: right;\">\n      <th></th>\n      <th>Rating</th>\n      <th>rating_counts</th>\n    </tr>\n    <tr>\n      <th>Item_ID</th>\n      <th></th>\n      <th></th>\n    </tr>\n  </thead>\n  <tbody>\n    <tr>\n      <th>5555991584</th>\n      <td>4.833333</td>\n      <td>6</td>\n    </tr>\n    <tr>\n      <th>B00000016T</th>\n      <td>4.888889</td>\n      <td>9</td>\n    </tr>\n    <tr>\n      <th>B00000016W</th>\n      <td>4.550000</td>\n      <td>20</td>\n    </tr>\n    <tr>\n      <th>B00000017R</th>\n      <td>5.000000</td>\n      <td>3</td>\n    </tr>\n    <tr>\n      <th>B0000002ME</th>\n      <td>4.571429</td>\n      <td>7</td>\n    </tr>\n  </tbody>\n</table>\n</div>",
            "text/plain": "              Rating  rating_counts\nItem_ID                            \n5555991584  4.833333              6\nB00000016T  4.888889              9\nB00000016W  4.550000             20\nB00000017R  5.000000              3\nB0000002ME  4.571429              7"
          },
          "metadata": {}
        }
      ],
      "execution_count": 194,
      "metadata": {},
      "id": "0f0959c9"
    },
    {
      "cell_type": "code",
      "source": [
        "pred_df2 = test_data2[['User_ID', 'Item_ID', 'Rating']]"
      ],
      "outputs": [],
      "execution_count": 195,
      "metadata": {},
      "id": "35b5d397"
    },
    {
      "cell_type": "code",
      "source": [
        "pred_df2.rename(columns = {'Rating' : 'true_ratings'}, inplace=True)\n",
        "pred_df2 = pred_df2.merge(train_data_sort2, left_on='Item_ID', right_on = 'Item_ID')\n",
        "pred_df2.head(3)"
      ],
      "outputs": [
        {
          "output_type": "execute_result",
          "execution_count": 196,
          "data": {
            "text/html": "<div>\n<style scoped>\n    .dataframe tbody tr th:only-of-type {\n        vertical-align: middle;\n    }\n\n    .dataframe tbody tr th {\n        vertical-align: top;\n    }\n\n    .dataframe thead th {\n        text-align: right;\n    }\n</style>\n<table border=\"1\" class=\"dataframe\">\n  <thead>\n    <tr style=\"text-align: right;\">\n      <th></th>\n      <th>User_ID</th>\n      <th>Item_ID</th>\n      <th>true_ratings</th>\n      <th>Rating</th>\n    </tr>\n  </thead>\n  <tbody>\n    <tr>\n      <th>0</th>\n      <td>A14GK0E64J0WAS</td>\n      <td>B008JFC6F0</td>\n      <td>4.0</td>\n      <td>5.0</td>\n    </tr>\n    <tr>\n      <th>1</th>\n      <td>AQV142R2H69QK</td>\n      <td>B008JFC6F0</td>\n      <td>5.0</td>\n      <td>5.0</td>\n    </tr>\n    <tr>\n      <th>2</th>\n      <td>A1OB5L3WMHJAD9</td>\n      <td>B008JFC6F0</td>\n      <td>3.0</td>\n      <td>5.0</td>\n    </tr>\n  </tbody>\n</table>\n</div>",
            "text/plain": "          User_ID     Item_ID  true_ratings  Rating\n0  A14GK0E64J0WAS  B008JFC6F0           4.0     5.0\n1   AQV142R2H69QK  B008JFC6F0           5.0     5.0\n2  A1OB5L3WMHJAD9  B008JFC6F0           3.0     5.0"
          },
          "metadata": {}
        }
      ],
      "execution_count": 196,
      "metadata": {},
      "id": "88e67eda"
    },
    {
      "cell_type": "code",
      "source": [
        "pred_df2.rename(columns = {'Rating' : 'predicted_ratings'}, inplace = True)\n",
        "pred_df2.head()"
      ],
      "outputs": [
        {
          "output_type": "execute_result",
          "execution_count": 197,
          "data": {
            "text/html": "<div>\n<style scoped>\n    .dataframe tbody tr th:only-of-type {\n        vertical-align: middle;\n    }\n\n    .dataframe tbody tr th {\n        vertical-align: top;\n    }\n\n    .dataframe thead th {\n        text-align: right;\n    }\n</style>\n<table border=\"1\" class=\"dataframe\">\n  <thead>\n    <tr style=\"text-align: right;\">\n      <th></th>\n      <th>User_ID</th>\n      <th>Item_ID</th>\n      <th>true_ratings</th>\n      <th>predicted_ratings</th>\n    </tr>\n  </thead>\n  <tbody>\n    <tr>\n      <th>0</th>\n      <td>A14GK0E64J0WAS</td>\n      <td>B008JFC6F0</td>\n      <td>4.0</td>\n      <td>5.0</td>\n    </tr>\n    <tr>\n      <th>1</th>\n      <td>AQV142R2H69QK</td>\n      <td>B008JFC6F0</td>\n      <td>5.0</td>\n      <td>5.0</td>\n    </tr>\n    <tr>\n      <th>2</th>\n      <td>A1OB5L3WMHJAD9</td>\n      <td>B008JFC6F0</td>\n      <td>3.0</td>\n      <td>5.0</td>\n    </tr>\n    <tr>\n      <th>3</th>\n      <td>A3W0POMI33YQXQ</td>\n      <td>B0000AGWFA</td>\n      <td>5.0</td>\n      <td>4.0</td>\n    </tr>\n    <tr>\n      <th>4</th>\n      <td>AGAMDS21PJZPK</td>\n      <td>B0000AGWFA</td>\n      <td>5.0</td>\n      <td>4.0</td>\n    </tr>\n  </tbody>\n</table>\n</div>",
            "text/plain": "          User_ID     Item_ID  true_ratings  predicted_ratings\n0  A14GK0E64J0WAS  B008JFC6F0           4.0                5.0\n1   AQV142R2H69QK  B008JFC6F0           5.0                5.0\n2  A1OB5L3WMHJAD9  B008JFC6F0           3.0                5.0\n3  A3W0POMI33YQXQ  B0000AGWFA           5.0                4.0\n4   AGAMDS21PJZPK  B0000AGWFA           5.0                4.0"
          },
          "metadata": {}
        }
      ],
      "execution_count": 197,
      "metadata": {},
      "id": "f25bea3b"
    },
    {
      "cell_type": "code",
      "source": [
        "import sklearn.metrics as metric\n",
        "from math import sqrt\n",
        "MSE2 = metric.mean_squared_error(pred_df2['true_ratings'], pred_df2['predicted_ratings'])\n",
        "print('The RMSE value for Popularity Recommender model 2 is', sqrt(MSE2))"
      ],
      "outputs": [
        {
          "output_type": "stream",
          "name": "stdout",
          "text": "The RMSE value for Popularity Recommender model 2 is 1.0396600347949687\n"
        }
      ],
      "execution_count": 198,
      "metadata": {},
      "id": "78356cc1"
    },
    {
      "cell_type": "markdown",
      "source": [
        "### Dataframe 3"
      ],
      "metadata": {},
      "id": "f3b3a298"
    },
    {
      "cell_type": "code",
      "source": [
        "train_data_grouped3= train_data3.groupby('Item_ID').mean().reset_index()\n",
        "train_data_grouped3.head()"
      ],
      "outputs": [
        {
          "output_type": "execute_result",
          "execution_count": 199,
          "data": {
            "text/html": "<div>\n<style scoped>\n    .dataframe tbody tr th:only-of-type {\n        vertical-align: middle;\n    }\n\n    .dataframe tbody tr th {\n        vertical-align: top;\n    }\n\n    .dataframe thead th {\n        text-align: right;\n    }\n</style>\n<table border=\"1\" class=\"dataframe\">\n  <thead>\n    <tr style=\"text-align: right;\">\n      <th></th>\n      <th>Item_ID</th>\n      <th>Rating</th>\n    </tr>\n  </thead>\n  <tbody>\n    <tr>\n      <th>0</th>\n      <td>1417030321</td>\n      <td>5.0</td>\n    </tr>\n    <tr>\n      <th>1</th>\n      <td>B00001W0DT</td>\n      <td>4.0</td>\n    </tr>\n    <tr>\n      <th>2</th>\n      <td>B00004UE29</td>\n      <td>5.0</td>\n    </tr>\n    <tr>\n      <th>3</th>\n      <td>B00004XQ83</td>\n      <td>5.0</td>\n    </tr>\n    <tr>\n      <th>4</th>\n      <td>B00005QZH2</td>\n      <td>5.0</td>\n    </tr>\n  </tbody>\n</table>\n</div>",
            "text/plain": "      Item_ID  Rating\n0  1417030321     5.0\n1  B00001W0DT     4.0\n2  B00004UE29     5.0\n3  B00004XQ83     5.0\n4  B00005QZH2     5.0"
          },
          "metadata": {}
        }
      ],
      "execution_count": 199,
      "metadata": {},
      "id": "890d94c7"
    },
    {
      "cell_type": "code",
      "source": [
        "train_data_sort3 = train_data_grouped3.sort_values(['Rating', 'Item_ID'], ascending=False)\n",
        "train_data_sort3.head()"
      ],
      "outputs": [
        {
          "output_type": "execute_result",
          "execution_count": 200,
          "data": {
            "text/html": "<div>\n<style scoped>\n    .dataframe tbody tr th:only-of-type {\n        vertical-align: middle;\n    }\n\n    .dataframe tbody tr th {\n        vertical-align: top;\n    }\n\n    .dataframe thead th {\n        text-align: right;\n    }\n</style>\n<table border=\"1\" class=\"dataframe\">\n  <thead>\n    <tr style=\"text-align: right;\">\n      <th></th>\n      <th>Item_ID</th>\n      <th>Rating</th>\n    </tr>\n  </thead>\n  <tbody>\n    <tr>\n      <th>322</th>\n      <td>B00IRVQ0F8</td>\n      <td>5.0</td>\n    </tr>\n    <tr>\n      <th>320</th>\n      <td>B00F2ATEDC</td>\n      <td>5.0</td>\n    </tr>\n    <tr>\n      <th>319</th>\n      <td>B00F0O8SZK</td>\n      <td>5.0</td>\n    </tr>\n    <tr>\n      <th>318</th>\n      <td>B00DR98EYK</td>\n      <td>5.0</td>\n    </tr>\n    <tr>\n      <th>316</th>\n      <td>B00CUS6J2I</td>\n      <td>5.0</td>\n    </tr>\n  </tbody>\n</table>\n</div>",
            "text/plain": "        Item_ID  Rating\n322  B00IRVQ0F8     5.0\n320  B00F2ATEDC     5.0\n319  B00F0O8SZK     5.0\n318  B00DR98EYK     5.0\n316  B00CUS6J2I     5.0"
          },
          "metadata": {}
        }
      ],
      "execution_count": 200,
      "metadata": {},
      "id": "aa58b175"
    },
    {
      "cell_type": "code",
      "source": [
        "train_data3.groupby('Item_ID')['Rating'].count().sort_values(ascending=False).head(10) "
      ],
      "outputs": [
        {
          "output_type": "execute_result",
          "execution_count": 201,
          "data": {
            "text/plain": "Item_ID\nB005FKF1PY    5\nB0002E2KPC    5\nB0002F7K7Y    5\nB0016ZZKJO    4\nB0002CZV82    4\nB003VWJ2K8    4\nB0002H0A3S    4\nB0001FTVD6    3\nB004FEGXDK    3\nB0002F4VBM    3\nName: Rating, dtype: int64"
          },
          "metadata": {}
        }
      ],
      "execution_count": 201,
      "metadata": {},
      "id": "0d283588"
    },
    {
      "cell_type": "code",
      "source": [
        "ratings_mean_count3 = pd.DataFrame(train_data3.groupby('Item_ID')['Rating'].mean()) \n",
        "ratings_mean_count3['rating_counts'] = pd.DataFrame(train_data3.groupby('Item_ID')['Rating'].count())  \n",
        "ratings_mean_count3.head()  "
      ],
      "outputs": [
        {
          "output_type": "execute_result",
          "execution_count": 202,
          "data": {
            "text/html": "<div>\n<style scoped>\n    .dataframe tbody tr th:only-of-type {\n        vertical-align: middle;\n    }\n\n    .dataframe tbody tr th {\n        vertical-align: top;\n    }\n\n    .dataframe thead th {\n        text-align: right;\n    }\n</style>\n<table border=\"1\" class=\"dataframe\">\n  <thead>\n    <tr style=\"text-align: right;\">\n      <th></th>\n      <th>Rating</th>\n      <th>rating_counts</th>\n    </tr>\n    <tr>\n      <th>Item_ID</th>\n      <th></th>\n      <th></th>\n    </tr>\n  </thead>\n  <tbody>\n    <tr>\n      <th>1417030321</th>\n      <td>5.0</td>\n      <td>1</td>\n    </tr>\n    <tr>\n      <th>B00001W0DT</th>\n      <td>4.0</td>\n      <td>1</td>\n    </tr>\n    <tr>\n      <th>B00004UE29</th>\n      <td>5.0</td>\n      <td>1</td>\n    </tr>\n    <tr>\n      <th>B00004XQ83</th>\n      <td>5.0</td>\n      <td>2</td>\n    </tr>\n    <tr>\n      <th>B00005QZH2</th>\n      <td>5.0</td>\n      <td>1</td>\n    </tr>\n  </tbody>\n</table>\n</div>",
            "text/plain": "            Rating  rating_counts\nItem_ID                          \n1417030321     5.0              1\nB00001W0DT     4.0              1\nB00004UE29     5.0              1\nB00004XQ83     5.0              2\nB00005QZH2     5.0              1"
          },
          "metadata": {}
        }
      ],
      "execution_count": 202,
      "metadata": {},
      "id": "34164d93"
    },
    {
      "cell_type": "code",
      "source": [
        "pred_df3 = test_data3[['User_ID', 'Item_ID', 'Rating']]"
      ],
      "outputs": [],
      "execution_count": 203,
      "metadata": {},
      "id": "4acf6646"
    },
    {
      "cell_type": "code",
      "source": [
        "pred_df3.rename(columns = {'Rating' : 'true_ratings'}, inplace=True)\n",
        "pred_df3 = pred_df3.merge(train_data_sort3, left_on='Item_ID', right_on = 'Item_ID')\n",
        "pred_df3.head(3)"
      ],
      "outputs": [
        {
          "output_type": "execute_result",
          "execution_count": 204,
          "data": {
            "text/html": "<div>\n<style scoped>\n    .dataframe tbody tr th:only-of-type {\n        vertical-align: middle;\n    }\n\n    .dataframe tbody tr th {\n        vertical-align: top;\n    }\n\n    .dataframe thead th {\n        text-align: right;\n    }\n</style>\n<table border=\"1\" class=\"dataframe\">\n  <thead>\n    <tr style=\"text-align: right;\">\n      <th></th>\n      <th>User_ID</th>\n      <th>Item_ID</th>\n      <th>true_ratings</th>\n      <th>Rating</th>\n    </tr>\n  </thead>\n  <tbody>\n    <tr>\n      <th>0</th>\n      <td>A2EDYSY4M8TESS</td>\n      <td>B002X8Y4SQ</td>\n      <td>5.0</td>\n      <td>5.000000</td>\n    </tr>\n    <tr>\n      <th>1</th>\n      <td>A2FFJCRIYMCVCZ</td>\n      <td>B000OY4WA6</td>\n      <td>5.0</td>\n      <td>5.000000</td>\n    </tr>\n    <tr>\n      <th>2</th>\n      <td>A1MVH1WLYDHZ49</td>\n      <td>B005T800V2</td>\n      <td>4.0</td>\n      <td>4.666667</td>\n    </tr>\n  </tbody>\n</table>\n</div>",
            "text/plain": "          User_ID     Item_ID  true_ratings    Rating\n0  A2EDYSY4M8TESS  B002X8Y4SQ           5.0  5.000000\n1  A2FFJCRIYMCVCZ  B000OY4WA6           5.0  5.000000\n2  A1MVH1WLYDHZ49  B005T800V2           4.0  4.666667"
          },
          "metadata": {}
        }
      ],
      "execution_count": 204,
      "metadata": {},
      "id": "b405ac39"
    },
    {
      "cell_type": "code",
      "source": [
        "pred_df3.rename(columns = {'Rating' : 'predicted_ratings'}, inplace = True)\n",
        "pred_df3.head()"
      ],
      "outputs": [
        {
          "output_type": "execute_result",
          "execution_count": 205,
          "data": {
            "text/html": "<div>\n<style scoped>\n    .dataframe tbody tr th:only-of-type {\n        vertical-align: middle;\n    }\n\n    .dataframe tbody tr th {\n        vertical-align: top;\n    }\n\n    .dataframe thead th {\n        text-align: right;\n    }\n</style>\n<table border=\"1\" class=\"dataframe\">\n  <thead>\n    <tr style=\"text-align: right;\">\n      <th></th>\n      <th>User_ID</th>\n      <th>Item_ID</th>\n      <th>true_ratings</th>\n      <th>predicted_ratings</th>\n    </tr>\n  </thead>\n  <tbody>\n    <tr>\n      <th>0</th>\n      <td>A2EDYSY4M8TESS</td>\n      <td>B002X8Y4SQ</td>\n      <td>5.0</td>\n      <td>5.000000</td>\n    </tr>\n    <tr>\n      <th>1</th>\n      <td>A2FFJCRIYMCVCZ</td>\n      <td>B000OY4WA6</td>\n      <td>5.0</td>\n      <td>5.000000</td>\n    </tr>\n    <tr>\n      <th>2</th>\n      <td>A1MVH1WLYDHZ49</td>\n      <td>B005T800V2</td>\n      <td>4.0</td>\n      <td>4.666667</td>\n    </tr>\n    <tr>\n      <th>3</th>\n      <td>A1MVH1WLYDHZ49</td>\n      <td>B0002E1H9W</td>\n      <td>5.0</td>\n      <td>4.000000</td>\n    </tr>\n    <tr>\n      <th>4</th>\n      <td>A1S0HTDO0P4N5V</td>\n      <td>B000KGYAYQ</td>\n      <td>5.0</td>\n      <td>5.000000</td>\n    </tr>\n  </tbody>\n</table>\n</div>",
            "text/plain": "          User_ID     Item_ID  true_ratings  predicted_ratings\n0  A2EDYSY4M8TESS  B002X8Y4SQ           5.0           5.000000\n1  A2FFJCRIYMCVCZ  B000OY4WA6           5.0           5.000000\n2  A1MVH1WLYDHZ49  B005T800V2           4.0           4.666667\n3  A1MVH1WLYDHZ49  B0002E1H9W           5.0           4.000000\n4  A1S0HTDO0P4N5V  B000KGYAYQ           5.0           5.000000"
          },
          "metadata": {}
        }
      ],
      "execution_count": 205,
      "metadata": {},
      "id": "8808c92f"
    },
    {
      "cell_type": "code",
      "source": [
        "import sklearn.metrics as metric\n",
        "from math import sqrt\n",
        "MSE3 = metric.mean_squared_error(pred_df3['true_ratings'], pred_df3['predicted_ratings'])\n",
        "print('The RMSE value for Popularity Recommender model 3 is', sqrt(MSE3))"
      ],
      "outputs": [
        {
          "output_type": "stream",
          "name": "stdout",
          "text": "The RMSE value for Popularity Recommender model 3 is 0.9233656733205251\n"
        }
      ],
      "execution_count": 206,
      "metadata": {},
      "id": "72859698"
    },
    {
      "cell_type": "markdown",
      "source": [
        "### Dataframe 4"
      ],
      "metadata": {},
      "id": "264b50a6"
    },
    {
      "cell_type": "code",
      "source": [
        "train_data_grouped4= train_data4.groupby('Item_ID').mean().reset_index()\n",
        "train_data_grouped4.head()"
      ],
      "outputs": [
        {
          "output_type": "execute_result",
          "execution_count": 207,
          "data": {
            "text/html": "<div>\n<style scoped>\n    .dataframe tbody tr th:only-of-type {\n        vertical-align: middle;\n    }\n\n    .dataframe tbody tr th {\n        vertical-align: top;\n    }\n\n    .dataframe thead th {\n        text-align: right;\n    }\n</style>\n<table border=\"1\" class=\"dataframe\">\n  <thead>\n    <tr style=\"text-align: right;\">\n      <th></th>\n      <th>Item_ID</th>\n      <th>Rating</th>\n    </tr>\n  </thead>\n  <tbody>\n    <tr>\n      <th>0</th>\n      <td>B00002N66H</td>\n      <td>5.0</td>\n    </tr>\n    <tr>\n      <th>1</th>\n      <td>B00002N67Q</td>\n      <td>5.0</td>\n    </tr>\n    <tr>\n      <th>2</th>\n      <td>B00002N68C</td>\n      <td>5.0</td>\n    </tr>\n    <tr>\n      <th>3</th>\n      <td>B00002N6AN</td>\n      <td>4.0</td>\n    </tr>\n    <tr>\n      <th>4</th>\n      <td>B00004R9TK</td>\n      <td>5.0</td>\n    </tr>\n  </tbody>\n</table>\n</div>",
            "text/plain": "      Item_ID  Rating\n0  B00002N66H     5.0\n1  B00002N67Q     5.0\n2  B00002N68C     5.0\n3  B00002N6AN     4.0\n4  B00004R9TK     5.0"
          },
          "metadata": {}
        }
      ],
      "execution_count": 207,
      "metadata": {},
      "id": "fcabd229"
    },
    {
      "cell_type": "code",
      "source": [
        "train_data_sort4 = train_data_grouped4.sort_values(['Rating', 'Item_ID'], ascending=False)\n",
        "train_data_sort4.head()"
      ],
      "outputs": [
        {
          "output_type": "execute_result",
          "execution_count": 208,
          "data": {
            "text/html": "<div>\n<style scoped>\n    .dataframe tbody tr th:only-of-type {\n        vertical-align: middle;\n    }\n\n    .dataframe tbody tr th {\n        vertical-align: top;\n    }\n\n    .dataframe thead th {\n        text-align: right;\n    }\n</style>\n<table border=\"1\" class=\"dataframe\">\n  <thead>\n    <tr style=\"text-align: right;\">\n      <th></th>\n      <th>Item_ID</th>\n      <th>Rating</th>\n    </tr>\n  </thead>\n  <tbody>\n    <tr>\n      <th>414</th>\n      <td>B00IPL91M4</td>\n      <td>5.0</td>\n    </tr>\n    <tr>\n      <th>413</th>\n      <td>B00HXCPC6K</td>\n      <td>5.0</td>\n    </tr>\n    <tr>\n      <th>412</th>\n      <td>B00HUF0O2C</td>\n      <td>5.0</td>\n    </tr>\n    <tr>\n      <th>411</th>\n      <td>B00HK59L7Q</td>\n      <td>5.0</td>\n    </tr>\n    <tr>\n      <th>407</th>\n      <td>B00GSQ6HXO</td>\n      <td>5.0</td>\n    </tr>\n  </tbody>\n</table>\n</div>",
            "text/plain": "        Item_ID  Rating\n414  B00IPL91M4     5.0\n413  B00HXCPC6K     5.0\n412  B00HUF0O2C     5.0\n411  B00HK59L7Q     5.0\n407  B00GSQ6HXO     5.0"
          },
          "metadata": {}
        }
      ],
      "execution_count": 208,
      "metadata": {},
      "id": "e282555f"
    },
    {
      "cell_type": "code",
      "source": [
        "train_data4.groupby('Item_ID')['Rating'].count().sort_values(ascending=False).head(10) "
      ],
      "outputs": [
        {
          "output_type": "execute_result",
          "execution_count": 209,
          "data": {
            "text/plain": "Item_ID\nB000A0VOD2    7\nB0013FO2B4    7\nB006DX16PQ    5\nB000DZH3XO    5\nB000BQRF60    5\nB000XSF42S    5\nB000NCWP44    4\nB002YNSADU    4\nB000BWY8KK    4\nB000W9JN4S    4\nName: Rating, dtype: int64"
          },
          "metadata": {}
        }
      ],
      "execution_count": 209,
      "metadata": {},
      "id": "b70efe8a"
    },
    {
      "cell_type": "code",
      "source": [
        "ratings_mean_count4 = pd.DataFrame(train_data4.groupby('Item_ID')['Rating'].mean()) \n",
        "ratings_mean_count4['rating_counts'] = pd.DataFrame(train_data4.groupby('Item_ID')['Rating'].count())  \n",
        "ratings_mean_count4.head()  "
      ],
      "outputs": [
        {
          "output_type": "execute_result",
          "execution_count": 210,
          "data": {
            "text/html": "<div>\n<style scoped>\n    .dataframe tbody tr th:only-of-type {\n        vertical-align: middle;\n    }\n\n    .dataframe tbody tr th {\n        vertical-align: top;\n    }\n\n    .dataframe thead th {\n        text-align: right;\n    }\n</style>\n<table border=\"1\" class=\"dataframe\">\n  <thead>\n    <tr style=\"text-align: right;\">\n      <th></th>\n      <th>Rating</th>\n      <th>rating_counts</th>\n    </tr>\n    <tr>\n      <th>Item_ID</th>\n      <th></th>\n      <th></th>\n    </tr>\n  </thead>\n  <tbody>\n    <tr>\n      <th>B00002N66H</th>\n      <td>5.0</td>\n      <td>1</td>\n    </tr>\n    <tr>\n      <th>B00002N67Q</th>\n      <td>5.0</td>\n      <td>1</td>\n    </tr>\n    <tr>\n      <th>B00002N68C</th>\n      <td>5.0</td>\n      <td>1</td>\n    </tr>\n    <tr>\n      <th>B00002N6AN</th>\n      <td>4.0</td>\n      <td>1</td>\n    </tr>\n    <tr>\n      <th>B00004R9TK</th>\n      <td>5.0</td>\n      <td>1</td>\n    </tr>\n  </tbody>\n</table>\n</div>",
            "text/plain": "            Rating  rating_counts\nItem_ID                          \nB00002N66H     5.0              1\nB00002N67Q     5.0              1\nB00002N68C     5.0              1\nB00002N6AN     4.0              1\nB00004R9TK     5.0              1"
          },
          "metadata": {}
        }
      ],
      "execution_count": 210,
      "metadata": {},
      "id": "7352ddd0"
    },
    {
      "cell_type": "code",
      "source": [
        "pred_df4 = test_data4[['User_ID', 'Item_ID', 'Rating']]"
      ],
      "outputs": [],
      "execution_count": 211,
      "metadata": {},
      "id": "4f130ed9"
    },
    {
      "cell_type": "code",
      "source": [
        "pred_df4.rename(columns = {'Rating' : 'true_ratings'}, inplace=True)\n",
        "pred_df4 = pred_df4.merge(train_data_sort4, left_on='Item_ID', right_on = 'Item_ID')\n",
        "pred_df4.head(3)"
      ],
      "outputs": [
        {
          "output_type": "execute_result",
          "execution_count": 212,
          "data": {
            "text/html": "<div>\n<style scoped>\n    .dataframe tbody tr th:only-of-type {\n        vertical-align: middle;\n    }\n\n    .dataframe tbody tr th {\n        vertical-align: top;\n    }\n\n    .dataframe thead th {\n        text-align: right;\n    }\n</style>\n<table border=\"1\" class=\"dataframe\">\n  <thead>\n    <tr style=\"text-align: right;\">\n      <th></th>\n      <th>User_ID</th>\n      <th>Item_ID</th>\n      <th>true_ratings</th>\n      <th>Rating</th>\n    </tr>\n  </thead>\n  <tbody>\n    <tr>\n      <th>0</th>\n      <td>AZV26LP92E6WU</td>\n      <td>B002YNSADU</td>\n      <td>5.0</td>\n      <td>4.25</td>\n    </tr>\n    <tr>\n      <th>1</th>\n      <td>A25C2M3QF9G7OQ</td>\n      <td>B002YNSADA</td>\n      <td>5.0</td>\n      <td>5.00</td>\n    </tr>\n    <tr>\n      <th>2</th>\n      <td>A1IWR4YH4ZA9BM</td>\n      <td>B003AYUWMO</td>\n      <td>5.0</td>\n      <td>4.00</td>\n    </tr>\n  </tbody>\n</table>\n</div>",
            "text/plain": "          User_ID     Item_ID  true_ratings  Rating\n0   AZV26LP92E6WU  B002YNSADU           5.0    4.25\n1  A25C2M3QF9G7OQ  B002YNSADA           5.0    5.00\n2  A1IWR4YH4ZA9BM  B003AYUWMO           5.0    4.00"
          },
          "metadata": {}
        }
      ],
      "execution_count": 212,
      "metadata": {},
      "id": "8e66b8ab"
    },
    {
      "cell_type": "code",
      "source": [
        "pred_df4.rename(columns = {'Rating' : 'predicted_ratings'}, inplace = True)\n",
        "pred_df4.head()"
      ],
      "outputs": [
        {
          "output_type": "execute_result",
          "execution_count": 213,
          "data": {
            "text/html": "<div>\n<style scoped>\n    .dataframe tbody tr th:only-of-type {\n        vertical-align: middle;\n    }\n\n    .dataframe tbody tr th {\n        vertical-align: top;\n    }\n\n    .dataframe thead th {\n        text-align: right;\n    }\n</style>\n<table border=\"1\" class=\"dataframe\">\n  <thead>\n    <tr style=\"text-align: right;\">\n      <th></th>\n      <th>User_ID</th>\n      <th>Item_ID</th>\n      <th>true_ratings</th>\n      <th>predicted_ratings</th>\n    </tr>\n  </thead>\n  <tbody>\n    <tr>\n      <th>0</th>\n      <td>AZV26LP92E6WU</td>\n      <td>B002YNSADU</td>\n      <td>5.0</td>\n      <td>4.25</td>\n    </tr>\n    <tr>\n      <th>1</th>\n      <td>A25C2M3QF9G7OQ</td>\n      <td>B002YNSADA</td>\n      <td>5.0</td>\n      <td>5.00</td>\n    </tr>\n    <tr>\n      <th>2</th>\n      <td>A1IWR4YH4ZA9BM</td>\n      <td>B003AYUWMO</td>\n      <td>5.0</td>\n      <td>4.00</td>\n    </tr>\n    <tr>\n      <th>3</th>\n      <td>ABLOQZIL42W7I</td>\n      <td>B000BQYB0S</td>\n      <td>3.0</td>\n      <td>5.00</td>\n    </tr>\n    <tr>\n      <th>4</th>\n      <td>A100WO06OQR8BQ</td>\n      <td>B002XHJF9A</td>\n      <td>3.0</td>\n      <td>3.00</td>\n    </tr>\n  </tbody>\n</table>\n</div>",
            "text/plain": "          User_ID     Item_ID  true_ratings  predicted_ratings\n0   AZV26LP92E6WU  B002YNSADU           5.0               4.25\n1  A25C2M3QF9G7OQ  B002YNSADA           5.0               5.00\n2  A1IWR4YH4ZA9BM  B003AYUWMO           5.0               4.00\n3   ABLOQZIL42W7I  B000BQYB0S           3.0               5.00\n4  A100WO06OQR8BQ  B002XHJF9A           3.0               3.00"
          },
          "metadata": {}
        }
      ],
      "execution_count": 213,
      "metadata": {},
      "id": "16a09142"
    },
    {
      "cell_type": "code",
      "source": [
        "import sklearn.metrics as metric\n",
        "from math import sqrt\n",
        "MSE4 = metric.mean_squared_error(pred_df4['true_ratings'], pred_df4['predicted_ratings'])\n",
        "print('The RMSE value for Popularity Recommender model 4 is', sqrt(MSE4))"
      ],
      "outputs": [
        {
          "output_type": "stream",
          "name": "stdout",
          "text": "The RMSE value for Popularity Recommender model 4 is 1.3184579794929328\n"
        }
      ],
      "execution_count": 214,
      "metadata": {},
      "id": "815ce46c"
    },
    {
      "cell_type": "markdown",
      "source": [
        "### Dataframe 5"
      ],
      "metadata": {},
      "id": "0a45658b"
    },
    {
      "cell_type": "code",
      "source": [
        "train_data_grouped5= train_data5.groupby('Item_ID').mean().reset_index()\n",
        "train_data_grouped5.head()"
      ],
      "outputs": [
        {
          "output_type": "execute_result",
          "execution_count": 215,
          "data": {
            "text/html": "<div>\n<style scoped>\n    .dataframe tbody tr th:only-of-type {\n        vertical-align: middle;\n    }\n\n    .dataframe tbody tr th {\n        vertical-align: top;\n    }\n\n    .dataframe thead th {\n        text-align: right;\n    }\n</style>\n<table border=\"1\" class=\"dataframe\">\n  <thead>\n    <tr style=\"text-align: right;\">\n      <th></th>\n      <th>Item_ID</th>\n      <th>Rating</th>\n    </tr>\n  </thead>\n  <tbody>\n    <tr>\n      <th>0</th>\n      <td>9729375011</td>\n      <td>5.0</td>\n    </tr>\n    <tr>\n      <th>1</th>\n      <td>B00000IZQI</td>\n      <td>4.0</td>\n    </tr>\n    <tr>\n      <th>2</th>\n      <td>B00002JV9S</td>\n      <td>4.0</td>\n    </tr>\n    <tr>\n      <th>3</th>\n      <td>B00003TL7P</td>\n      <td>5.0</td>\n    </tr>\n    <tr>\n      <th>4</th>\n      <td>B00003XAKP</td>\n      <td>4.0</td>\n    </tr>\n  </tbody>\n</table>\n</div>",
            "text/plain": "      Item_ID  Rating\n0  9729375011     5.0\n1  B00000IZQI     4.0\n2  B00002JV9S     4.0\n3  B00003TL7P     5.0\n4  B00003XAKP     4.0"
          },
          "metadata": {}
        }
      ],
      "execution_count": 215,
      "metadata": {},
      "id": "92b32eea"
    },
    {
      "cell_type": "code",
      "source": [
        "train_data_sort5 = train_data_grouped5.sort_values(['Rating', 'Item_ID'], ascending=False)\n",
        "train_data_sort5.head()"
      ],
      "outputs": [
        {
          "output_type": "execute_result",
          "execution_count": 216,
          "data": {
            "text/html": "<div>\n<style scoped>\n    .dataframe tbody tr th:only-of-type {\n        vertical-align: middle;\n    }\n\n    .dataframe tbody tr th {\n        vertical-align: top;\n    }\n\n    .dataframe thead th {\n        text-align: right;\n    }\n</style>\n<table border=\"1\" class=\"dataframe\">\n  <thead>\n    <tr style=\"text-align: right;\">\n      <th></th>\n      <th>Item_ID</th>\n      <th>Rating</th>\n    </tr>\n  </thead>\n  <tbody>\n    <tr>\n      <th>1210</th>\n      <td>B00H6XPZN6</td>\n      <td>5.0</td>\n    </tr>\n    <tr>\n      <th>1203</th>\n      <td>B00G34TJWM</td>\n      <td>5.0</td>\n    </tr>\n    <tr>\n      <th>1202</th>\n      <td>B00G34TIKU</td>\n      <td>5.0</td>\n    </tr>\n    <tr>\n      <th>1201</th>\n      <td>B00G34TIAA</td>\n      <td>5.0</td>\n    </tr>\n    <tr>\n      <th>1200</th>\n      <td>B00FZGLKPI</td>\n      <td>5.0</td>\n    </tr>\n  </tbody>\n</table>\n</div>",
            "text/plain": "         Item_ID  Rating\n1210  B00H6XPZN6     5.0\n1203  B00G34TJWM     5.0\n1202  B00G34TIKU     5.0\n1201  B00G34TIAA     5.0\n1200  B00FZGLKPI     5.0"
          },
          "metadata": {}
        }
      ],
      "execution_count": 216,
      "metadata": {},
      "id": "66c9e9b2"
    },
    {
      "cell_type": "code",
      "source": [
        "train_data5.groupby('Item_ID')['Rating'].count().sort_values(ascending=False).head(10)"
      ],
      "outputs": [
        {
          "output_type": "execute_result",
          "execution_count": 217,
          "data": {
            "text/plain": "Item_ID\nB000IDSLOG    12\nB001QC3CKG    11\nB0006FHBAQ     9\nB00295MQLU     9\nB001BMWABI     9\nB000GJIE4E     9\nB007SIZS18     8\nB0042D69WY     8\nB0067GKGFU     8\nB00I6IGF4I     8\nName: Rating, dtype: int64"
          },
          "metadata": {}
        }
      ],
      "execution_count": 217,
      "metadata": {},
      "id": "a21c99c0"
    },
    {
      "cell_type": "code",
      "source": [
        "ratings_mean_count5 = pd.DataFrame(train_data5.groupby('Item_ID')['Rating'].mean()) \n",
        "ratings_mean_count5['rating_counts'] = pd.DataFrame(train_data5.groupby('Item_ID')['Rating'].count())  \n",
        "ratings_mean_count5.head() "
      ],
      "outputs": [
        {
          "output_type": "execute_result",
          "execution_count": 218,
          "data": {
            "text/html": "<div>\n<style scoped>\n    .dataframe tbody tr th:only-of-type {\n        vertical-align: middle;\n    }\n\n    .dataframe tbody tr th {\n        vertical-align: top;\n    }\n\n    .dataframe thead th {\n        text-align: right;\n    }\n</style>\n<table border=\"1\" class=\"dataframe\">\n  <thead>\n    <tr style=\"text-align: right;\">\n      <th></th>\n      <th>Rating</th>\n      <th>rating_counts</th>\n    </tr>\n    <tr>\n      <th>Item_ID</th>\n      <th></th>\n      <th></th>\n    </tr>\n  </thead>\n  <tbody>\n    <tr>\n      <th>9729375011</th>\n      <td>5.0</td>\n      <td>2</td>\n    </tr>\n    <tr>\n      <th>B00000IZQI</th>\n      <td>4.0</td>\n      <td>1</td>\n    </tr>\n    <tr>\n      <th>B00002JV9S</th>\n      <td>4.0</td>\n      <td>1</td>\n    </tr>\n    <tr>\n      <th>B00003TL7P</th>\n      <td>5.0</td>\n      <td>2</td>\n    </tr>\n    <tr>\n      <th>B00003XAKP</th>\n      <td>4.0</td>\n      <td>2</td>\n    </tr>\n  </tbody>\n</table>\n</div>",
            "text/plain": "            Rating  rating_counts\nItem_ID                          \n9729375011     5.0              2\nB00000IZQI     4.0              1\nB00002JV9S     4.0              1\nB00003TL7P     5.0              2\nB00003XAKP     4.0              2"
          },
          "metadata": {}
        }
      ],
      "execution_count": 218,
      "metadata": {},
      "id": "0c5c6b28"
    },
    {
      "cell_type": "code",
      "source": [
        "pred_df5 = test_data5[['User_ID', 'Item_ID', 'Rating']]"
      ],
      "outputs": [],
      "execution_count": 219,
      "metadata": {},
      "id": "fd9a9880"
    },
    {
      "cell_type": "code",
      "source": [
        "pred_df5.rename(columns = {'Rating' : 'true_ratings'}, inplace=True)\n",
        "pred_df5 = pred_df5.merge(train_data_sort5, left_on='Item_ID', right_on = 'Item_ID')\n",
        "pred_df5.head(3)"
      ],
      "outputs": [
        {
          "output_type": "execute_result",
          "execution_count": 220,
          "data": {
            "text/html": "<div>\n<style scoped>\n    .dataframe tbody tr th:only-of-type {\n        vertical-align: middle;\n    }\n\n    .dataframe tbody tr th {\n        vertical-align: top;\n    }\n\n    .dataframe thead th {\n        text-align: right;\n    }\n</style>\n<table border=\"1\" class=\"dataframe\">\n  <thead>\n    <tr style=\"text-align: right;\">\n      <th></th>\n      <th>User_ID</th>\n      <th>Item_ID</th>\n      <th>true_ratings</th>\n      <th>Rating</th>\n    </tr>\n  </thead>\n  <tbody>\n    <tr>\n      <th>0</th>\n      <td>AKCZIJ6ZHE41D</td>\n      <td>B001HU2LDQ</td>\n      <td>5.0</td>\n      <td>4.0</td>\n    </tr>\n    <tr>\n      <th>1</th>\n      <td>A3KHIBFERCW890</td>\n      <td>B003I8687A</td>\n      <td>5.0</td>\n      <td>5.0</td>\n    </tr>\n    <tr>\n      <th>2</th>\n      <td>A26EQ8U96JA92T</td>\n      <td>B006ZBNE4M</td>\n      <td>5.0</td>\n      <td>4.0</td>\n    </tr>\n  </tbody>\n</table>\n</div>",
            "text/plain": "          User_ID     Item_ID  true_ratings  Rating\n0   AKCZIJ6ZHE41D  B001HU2LDQ           5.0     4.0\n1  A3KHIBFERCW890  B003I8687A           5.0     5.0\n2  A26EQ8U96JA92T  B006ZBNE4M           5.0     4.0"
          },
          "metadata": {}
        }
      ],
      "execution_count": 220,
      "metadata": {},
      "id": "ecbd7229"
    },
    {
      "cell_type": "code",
      "source": [
        "pred_df5.rename(columns = {'Rating' : 'predicted_ratings'}, inplace = True)\n",
        "pred_df5.head()"
      ],
      "outputs": [
        {
          "output_type": "execute_result",
          "execution_count": 221,
          "data": {
            "text/html": "<div>\n<style scoped>\n    .dataframe tbody tr th:only-of-type {\n        vertical-align: middle;\n    }\n\n    .dataframe tbody tr th {\n        vertical-align: top;\n    }\n\n    .dataframe thead th {\n        text-align: right;\n    }\n</style>\n<table border=\"1\" class=\"dataframe\">\n  <thead>\n    <tr style=\"text-align: right;\">\n      <th></th>\n      <th>User_ID</th>\n      <th>Item_ID</th>\n      <th>true_ratings</th>\n      <th>predicted_ratings</th>\n    </tr>\n  </thead>\n  <tbody>\n    <tr>\n      <th>0</th>\n      <td>AKCZIJ6ZHE41D</td>\n      <td>B001HU2LDQ</td>\n      <td>5.0</td>\n      <td>4.0</td>\n    </tr>\n    <tr>\n      <th>1</th>\n      <td>A3KHIBFERCW890</td>\n      <td>B003I8687A</td>\n      <td>5.0</td>\n      <td>5.0</td>\n    </tr>\n    <tr>\n      <th>2</th>\n      <td>A26EQ8U96JA92T</td>\n      <td>B006ZBNE4M</td>\n      <td>5.0</td>\n      <td>4.0</td>\n    </tr>\n    <tr>\n      <th>3</th>\n      <td>A1ZFUVIC4U6BGI</td>\n      <td>B0042D69UQ</td>\n      <td>5.0</td>\n      <td>5.0</td>\n    </tr>\n    <tr>\n      <th>4</th>\n      <td>A26WHR1IP0A250</td>\n      <td>B0031B5CEE</td>\n      <td>3.0</td>\n      <td>4.0</td>\n    </tr>\n  </tbody>\n</table>\n</div>",
            "text/plain": "          User_ID     Item_ID  true_ratings  predicted_ratings\n0   AKCZIJ6ZHE41D  B001HU2LDQ           5.0                4.0\n1  A3KHIBFERCW890  B003I8687A           5.0                5.0\n2  A26EQ8U96JA92T  B006ZBNE4M           5.0                4.0\n3  A1ZFUVIC4U6BGI  B0042D69UQ           5.0                5.0\n4  A26WHR1IP0A250  B0031B5CEE           3.0                4.0"
          },
          "metadata": {}
        }
      ],
      "execution_count": 221,
      "metadata": {},
      "id": "758f20ce"
    },
    {
      "cell_type": "code",
      "source": [
        "import sklearn.metrics as metric\n",
        "from math import sqrt\n",
        "MSE5 = metric.mean_squared_error(pred_df5['true_ratings'], pred_df5['predicted_ratings'])\n",
        "print('The RMSE value for Popularity Recommender model 5 is', sqrt(MSE5))"
      ],
      "outputs": [
        {
          "output_type": "stream",
          "name": "stdout",
          "text": "The RMSE value for Popularity Recommender model 5 is 1.2574603650501626\n"
        }
      ],
      "execution_count": 222,
      "metadata": {},
      "id": "1268671e"
    },
    {
      "cell_type": "markdown",
      "source": [
        "## FastAPI Implementation"
      ],
      "metadata": {},
      "id": "a60a1b19"
    },
    {
      "cell_type": "code",
      "source": [
        "from fastapi import FastAPI\n",
        "import uvicorn as uvicorn"
      ],
      "outputs": [],
      "execution_count": 223,
      "metadata": {},
      "id": "bb6b6ddd"
    },
    {
      "cell_type": "code",
      "source": [
        "app=FastAPI()\n",
        "from collections import defaultdict"
      ],
      "outputs": [],
      "execution_count": 224,
      "metadata": {},
      "id": "b7f9ebed"
    },
    {
      "cell_type": "code",
      "source": [
        "def get_top_n(predictions, n=5):\n",
        "  \n",
        "    # First map the predictions to each user.\n",
        "    top_n = defaultdict(list)\n",
        "    for uid, iid, true_r, est, _ in predictions:\n",
        "        top_n[uid].append((iid, est))\n",
        "\n",
        "    # Then sort the predictions for each user and retrieve the k highest ones.\n",
        "    for uid, user_ratings in top_n.items():\n",
        "        user_ratings.sort(key=lambda x: x[1], reverse=True)\n",
        "        top_n[uid] = user_ratings[:n]\n",
        "        return top_n\n",
        "\n",
        "    "
      ],
      "outputs": [],
      "execution_count": 225,
      "metadata": {},
      "id": "dad2f24b"
    },
    {
      "cell_type": "code",
      "source": [
        "top_n = get_top_n(test_pred1, n=5)\n",
        "@app.post('/predict')\n",
        "def prediction(uid):\n",
        "    for uid, user_ratings in top_n.items():\n",
        "        print(uid, [iid for (iid, _) in user_ratings])\n",
        "    return uid"
      ],
      "outputs": [],
      "execution_count": 242,
      "metadata": {},
      "id": "be1d065f"
    },
    {
      "cell_type": "code",
      "source": [
        "import nest_asyncio\n",
        "nest_asyncio.apply()"
      ],
      "outputs": [],
      "execution_count": 240,
      "metadata": {},
      "id": "e6e1b1cd"
    },
    {
      "cell_type": "code",
      "source": [
        "if __name__ == \"__main__\":\n",
        "    uvicorn.run(app, host='127.0.0.10', port=4000, debug=True)"
      ],
      "outputs": [
        {
          "output_type": "stream",
          "name": "stderr",
          "text": "INFO:     Started server process [28024]\nINFO:     Waiting for application startup.\nINFO:     Application startup complete.\nINFO:     Uvicorn running on http://127.0.0.10:4000 (Press CTRL+C to quit)\n"
        },
        {
          "output_type": "stream",
          "name": "stdout",
          "text": "INFO:     127.0.0.1:51537 - \"GET / HTTP/1.1\" 404 Not Found\nINFO:     127.0.0.1:51537 - \"GET /favicon.ico HTTP/1.1\" 404 Not Found\nINFO:     127.0.0.1:51537 - \"GET /docs HTTP/1.1\" 200 OK\nINFO:     127.0.0.1:51537 - \"GET /openapi.json HTTP/1.1\" 200 OK\n"
        },
        {
          "output_type": "stream",
          "name": "stderr",
          "text": "C:\\Users\\priya\\anaconda3\\lib\\site-packages\\fastapi\\openapi\\utils.py:187: UserWarning: Duplicate Operation ID prediction_predict_post for function prediction\n  warnings.warn(message)\nINFO:     Shutting down\nINFO:     Waiting for application shutdown.\nINFO:     Application shutdown complete.\nINFO:     Finished server process [28024]\n"
        }
      ],
      "execution_count": 241,
      "metadata": {},
      "id": "c5706532"
    },
    {
      "cell_type": "code",
      "source": [
        "top_n = get_top_n(test_pred2, n=5)\n",
        "@app.post('/predict')\n",
        "def prediction(uid):\n",
        "    for uid, user_ratings in top_n.items():\n",
        "        print(uid, [iid for (iid, _) in user_ratings])\n",
        "    return uid"
      ],
      "outputs": [],
      "execution_count": 243,
      "metadata": {},
      "id": "ef2ec5a9"
    },
    {
      "cell_type": "code",
      "source": [
        "import nest_asyncio\n",
        "nest_asyncio.apply()"
      ],
      "outputs": [],
      "execution_count": null,
      "metadata": {},
      "id": "e3a236aa"
    },
    {
      "cell_type": "code",
      "source": [
        "if __name__ == \"__main__\":\n",
        "    uvicorn.run(app, host='127.0.0.11', port=4000, debug=True)"
      ],
      "outputs": [
        {
          "output_type": "stream",
          "name": "stderr",
          "text": "INFO:     Started server process [28024]\nINFO:     Waiting for application startup.\nINFO:     Application startup complete.\nINFO:     Uvicorn running on http://127.0.0.11:4000 (Press CTRL+C to quit)\nINFO:     Shutting down\nINFO:     Waiting for application shutdown.\nINFO:     Application shutdown complete.\nINFO:     Finished server process [28024]\n"
        }
      ],
      "execution_count": 244,
      "metadata": {},
      "id": "09e1ef4d"
    },
    {
      "cell_type": "code",
      "source": [
        "top_n = get_top_n(test_pred3, n=5)\n",
        "@app.post('/predict')\n",
        "def prediction(uid):\n",
        "    for uid, user_ratings in top_n.items():\n",
        "        print(uid, [iid for (iid, _) in user_ratings])\n",
        "    return uid"
      ],
      "outputs": [],
      "execution_count": null,
      "metadata": {},
      "id": "61def063"
    },
    {
      "cell_type": "code",
      "source": [
        "import nest_asyncio\n",
        "nest_asyncio.apply()"
      ],
      "outputs": [],
      "execution_count": 245,
      "metadata": {},
      "id": "203f30f5"
    },
    {
      "cell_type": "code",
      "source": [
        "if __name__ == \"__main__\":\n",
        "    uvicorn.run(app, host='127.0.0.12', port=4000, debug=True)"
      ],
      "outputs": [],
      "execution_count": null,
      "metadata": {},
      "id": "6211c3fe"
    },
    {
      "cell_type": "code",
      "source": [
        "top_n = get_top_n(test_pred4, n=5)\n",
        "@app.post('/predict')\n",
        "def prediction(uid):\n",
        "    for uid, user_ratings in top_n.items():\n",
        "        print(uid, [iid for (iid, _) in user_ratings])\n",
        "    return uid"
      ],
      "outputs": [],
      "execution_count": null,
      "metadata": {},
      "id": "8648c96a"
    },
    {
      "cell_type": "code",
      "source": [
        "import nest_asyncio\n",
        "nest_asyncio.apply()"
      ],
      "outputs": [],
      "execution_count": null,
      "metadata": {},
      "id": "7727e390"
    },
    {
      "cell_type": "code",
      "source": [
        "if __name__ == \"__main__\":\n",
        "    uvicorn.run(app, host='127.0.0.13', port=4000, debug=True)"
      ],
      "outputs": [],
      "execution_count": null,
      "metadata": {},
      "id": "a935cac9"
    },
    {
      "cell_type": "code",
      "source": [
        "top_n = get_top_n(test_pred5, n=5)\n",
        "@app.post('/predict')\n",
        "def prediction(uid):\n",
        "    for uid, user_ratings in top_n.items():\n",
        "        print(uid, [iid for (iid, _) in user_ratings])\n",
        "    return uid"
      ],
      "outputs": [],
      "execution_count": null,
      "metadata": {},
      "id": "dacfe824"
    },
    {
      "cell_type": "code",
      "source": [
        "import nest_asyncio\n",
        "nest_asyncio.apply()"
      ],
      "outputs": [],
      "execution_count": null,
      "metadata": {},
      "id": "eb5b3a65"
    },
    {
      "cell_type": "code",
      "source": [
        "if __name__ == \"__main__\":\n",
        "    uvicorn.run(app, host='127.0.0.14', port=4000, debug=True)"
      ],
      "outputs": [],
      "execution_count": null,
      "metadata": {},
      "id": "cc0c4c58"
    }
  ],
  "metadata": {
    "kernelspec": {
      "display_name": "Python 3",
      "language": "python",
      "name": "python3"
    },
    "language_info": {
      "codemirror_mode": {
        "name": "ipython",
        "version": 3
      },
      "file_extension": ".py",
      "mimetype": "text/x-python",
      "name": "python",
      "nbconvert_exporter": "python",
      "pygments_lexer": "ipython3",
      "version": "3.8.8"
    },
    "nteract": {
      "version": "nteract-front-end@1.0.0"
    }
  },
  "nbformat": 4,
  "nbformat_minor": 5
}